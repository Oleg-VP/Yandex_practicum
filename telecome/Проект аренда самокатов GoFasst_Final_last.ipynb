{
 "cells": [
  {
   "cell_type": "markdown",
   "id": "bedff082",
   "metadata": {
    "toc": true
   },
   "source": [
    "<h1>Table of Contents<span class=\"tocSkip\"></span></h1>\n",
    "<div class=\"toc\"><ul class=\"toc-item\"><li><span><a href=\"#Описание-проекта\" data-toc-modified-id=\"Описание-проекта-1\"><span class=\"toc-item-num\">1&nbsp;&nbsp;</span>Описание проекта</a></span><ul class=\"toc-item\"><li><span><a href=\"#Подсчет-выручки\" data-toc-modified-id=\"Подсчет-выручки-1.1\"><span class=\"toc-item-num\">1.1&nbsp;&nbsp;</span>Подсчет выручки</a></span></li><li><span><a href=\"#Проверка-гипотез\" data-toc-modified-id=\"Проверка-гипотез-1.2\"><span class=\"toc-item-num\">1.2&nbsp;&nbsp;</span>Проверка гипотез</a></span></li></ul></li><li><span><a href=\"#Загрузка-данных\" data-toc-modified-id=\"Загрузка-данных-2\"><span class=\"toc-item-num\">2&nbsp;&nbsp;</span>Загрузка данных</a></span></li><li><span><a href=\"#Предобработка-данных\" data-toc-modified-id=\"Предобработка-данных-3\"><span class=\"toc-item-num\">3&nbsp;&nbsp;</span>Предобработка данных</a></span><ul class=\"toc-item\"><li><span><a href=\"#Приведем-столбец-date-в-датафрейме-rides-к-типу-даты-pandas.\" data-toc-modified-id=\"Приведем-столбец-date-в-датафрейме-rides-к-типу-даты-pandas.-3.1\"><span class=\"toc-item-num\">3.1&nbsp;&nbsp;</span>Приведем столбец date в датафрейме rides к типу даты pandas.</a></span></li><li><span><a href=\"#Создадим-новый-столбец-с-номером-месяца-на-основе-столбца-date.\" data-toc-modified-id=\"Создадим-новый-столбец-с-номером-месяца-на-основе-столбца-date.-3.2\"><span class=\"toc-item-num\">3.2&nbsp;&nbsp;</span>Создадим новый столбец с номером месяца на основе столбца date.</a></span></li><li><span><a href=\"#Проверим-дубликаты-в-датафреймах\" data-toc-modified-id=\"Проверим-дубликаты-в-датафреймах-3.3\"><span class=\"toc-item-num\">3.3&nbsp;&nbsp;</span>Проверим дубликаты в датафреймах</a></span></li></ul></li><li><span><a href=\"#Исследовательский-анализ-данных\" data-toc-modified-id=\"Исследовательский-анализ-данных-4\"><span class=\"toc-item-num\">4&nbsp;&nbsp;</span>Исследовательский анализ данных</a></span><ul class=\"toc-item\"><li><span><a href=\"#Частота-встречаемости-городов\" data-toc-modified-id=\"Частота-встречаемости-городов-4.1\"><span class=\"toc-item-num\">4.1&nbsp;&nbsp;</span>Частота встречаемости городов</a></span></li><li><span><a href=\"#Cоотношение-пользователей-с-подпиской-и-без-подписки\" data-toc-modified-id=\"Cоотношение-пользователей-с-подпиской-и-без-подписки-4.2\"><span class=\"toc-item-num\">4.2&nbsp;&nbsp;</span>Cоотношение пользователей с подпиской и без подписки</a></span></li><li><span><a href=\"#Возраст-пользователей\" data-toc-modified-id=\"Возраст-пользователей-4.3\"><span class=\"toc-item-num\">4.3&nbsp;&nbsp;</span>Возраст пользователей</a></span></li><li><span><a href=\"#Расстояние,-которое-пользователь-преодолел-за-одну-поездку\" data-toc-modified-id=\"Расстояние,-которое-пользователь-преодолел-за-одну-поездку-4.4\"><span class=\"toc-item-num\">4.4&nbsp;&nbsp;</span>Расстояние, которое пользователь преодолел за одну поездку</a></span></li><li><span><a href=\"#Продолжительность-поездок\" data-toc-modified-id=\"Продолжительность-поездок-4.5\"><span class=\"toc-item-num\">4.5&nbsp;&nbsp;</span>Продолжительность поездок</a></span></li></ul></li><li><span><a href=\"#Объединение-данных\" data-toc-modified-id=\"Объединение-данных-5\"><span class=\"toc-item-num\">5&nbsp;&nbsp;</span>Объединение данных</a></span><ul class=\"toc-item\"><li><span><a href=\"#Визуализируем-информацию-о-расстоянии-и-времени-поездок-для-пользователей-обеих-категорий\" data-toc-modified-id=\"Визуализируем-информацию-о-расстоянии-и-времени-поездок-для-пользователей-обеих-категорий-5.1\"><span class=\"toc-item-num\">5.1&nbsp;&nbsp;</span>Визуализируем информацию о расстоянии и времени поездок для пользователей обеих категорий</a></span></li></ul></li><li><span><a href=\"#Подсчёт-выручки\" data-toc-modified-id=\"Подсчёт-выручки-6\"><span class=\"toc-item-num\">6&nbsp;&nbsp;</span>Подсчёт выручки</a></span></li><li><span><a href=\"#Проверка-гипотез\" data-toc-modified-id=\"Проверка-гипотез-7\"><span class=\"toc-item-num\">7&nbsp;&nbsp;</span>Проверка гипотез</a></span><ul class=\"toc-item\"><li><span><a href=\"#Тратят-ли-пользователи-с-подпиской-больше-времени-на-поездки\" data-toc-modified-id=\"Тратят-ли-пользователи-с-подпиской-больше-времени-на-поездки-7.1\"><span class=\"toc-item-num\">7.1&nbsp;&nbsp;</span>Тратят ли пользователи с подпиской больше времени на поездки</a></span></li><li><span><a href=\"#Расстояние-одной-поездки-в-3130-метров-—-оптимальное-с-точки-зрения-износа-самоката.-Можно-ли-сказать,-что-среднее-расстояние,-которое-проезжают-пользователи-с-подпиской-за-одну-поездку,-не-превышает-3130-метров?\" data-toc-modified-id=\"Расстояние-одной-поездки-в-3130-метров-—-оптимальное-с-точки-зрения-износа-самоката.-Можно-ли-сказать,-что-среднее-расстояние,-которое-проезжают-пользователи-с-подпиской-за-одну-поездку,-не-превышает-3130-метров?-7.2\"><span class=\"toc-item-num\">7.2&nbsp;&nbsp;</span>Расстояние одной поездки в 3130 метров — оптимальное с точки зрения износа самоката. Можно ли сказать, что среднее расстояние, которое проезжают пользователи с подпиской за одну поездку, не превышает 3130 метров?</a></span></li><li><span><a href=\"#Будет-ли-помесячная-выручка-от-пользователей-с-подпиской-по-месяцам-выше,-чем-выручка-от-пользователей-без-подписки\" data-toc-modified-id=\"Будет-ли-помесячная-выручка-от-пользователей-с-подпиской-по-месяцам-выше,-чем-выручка-от-пользователей-без-подписки-7.3\"><span class=\"toc-item-num\">7.3&nbsp;&nbsp;</span>Будет ли помесячная выручка от пользователей с подпиской по месяцам выше, чем выручка от пользователей без подписки</a></span></li><li><span><a href=\"#Техническая-команда-сервиса-обновила-сервера,-с-которыми-взаимодействует-мобильное-приложение.-Она-надеется,-что-из-за-этого-количество-обращений-в-техподдержку-значимо-снизилось.-Некоторый-файл-содержит-для-каждого-пользователя-данные-о-количестве-обращений-до-обновления-и-после-него.-Какой-тест-вам-понадобился-бы-для-проверки-этой-гипотезы?\" data-toc-modified-id=\"Техническая-команда-сервиса-обновила-сервера,-с-которыми-взаимодействует-мобильное-приложение.-Она-надеется,-что-из-за-этого-количество-обращений-в-техподдержку-значимо-снизилось.-Некоторый-файл-содержит-для-каждого-пользователя-данные-о-количестве-обращений-до-обновления-и-после-него.-Какой-тест-вам-понадобился-бы-для-проверки-этой-гипотезы?-7.4\"><span class=\"toc-item-num\">7.4&nbsp;&nbsp;</span>Техническая команда сервиса обновила сервера, с которыми взаимодействует мобильное приложение. Она надеется, что из-за этого количество обращений в техподдержку значимо снизилось. Некоторый файл содержит для каждого пользователя данные о количестве обращений до обновления и после него. Какой тест вам понадобился бы для проверки этой гипотезы?</a></span></li></ul></li><li><span><a href=\"#Распределения\" data-toc-modified-id=\"Распределения-8\"><span class=\"toc-item-num\">8&nbsp;&nbsp;</span>Распределения</a></span></li><li><span><a href=\"#Выводы-по-проекту\" data-toc-modified-id=\"Выводы-по-проекту-9\"><span class=\"toc-item-num\">9&nbsp;&nbsp;</span>Выводы по проекту</a></span></li></ul></div>"
   ]
  },
  {
   "cell_type": "markdown",
   "id": "e3fa3c5b",
   "metadata": {},
   "source": [
    "# Проект \"Аналитика сервиса аренды самокатов GoFast\""
   ]
  },
  {
   "cell_type": "markdown",
   "id": "b9013cc5",
   "metadata": {},
   "source": [
    "<div>\n",
    "<b>Проект разработал Паньков Олег</b> \n",
    "</div>"
   ]
  },
  {
   "cell_type": "markdown",
   "id": "6057ea75",
   "metadata": {},
   "source": [
    "## Описание проекта\n",
    "\n",
    "Нам передали данные о некоторых пользователях из нескольких городов, а также об их поездках. Проанализируйте данные и проверьте некоторые гипотезы, которые могут помочь бизнесу вырасти.\n",
    "Чтобы совершать поездки по городу, пользователи сервиса GoFast пользуются мобильным приложением. Сервисом можно пользоваться:\n",
    "\n",
    "без подписки абонентская плата отсутствует;\n",
    "\n",
    "* стоимость одной минуты поездки — 8 рублей;\n",
    "* стоимость старта (начала поездки) — 50 рублей;\n",
    "\n",
    "с подпиской Ultra\n",
    "\n",
    "* абонентская плата — 199 рублей в месяц;\n",
    "* стоимость одной минуты поездки — 6 рублей;\n",
    "* стоимость старта — бесплатно."
   ]
  },
  {
   "cell_type": "markdown",
   "id": "58766612",
   "metadata": {},
   "source": [
    "### Подсчет выручки\n",
    "\n",
    "* найти суммарное расстояние, количество поездок и суммарное время для каждого пользователя за каждый месяц.\n",
    "* помесячная выручкой, которую принёс каждый пользователь"
   ]
  },
  {
   "cell_type": "markdown",
   "id": "f5405f54",
   "metadata": {},
   "source": [
    "### Проверка гипотез\n",
    "\n",
    "* Важно понять, тратят ли пользователи с подпиской больше времени на поездки?\n",
    "* Расстояние одной поездки в 3130 метров — оптимальное с точки зрения износа самоката.\n",
    "* Будет ли помесячная выручка от пользователей с подпиской по месяцам выше, чем выручка от пользователей без подписки. \n",
    "* Техническая команда сервиса обновила сервера, с которыми взаимодействует мобильное приложение. Она надеется, что из-за этого количество обращений в техподдержку значимо снизилось. Некоторый файл содержит для каждого пользователя данные о количестве обращений до обновления и после него. Какой тест понадобился бы для проверки этой гипотезы?\n",
    "* Распределения"
   ]
  },
  {
   "cell_type": "markdown",
   "id": "0465f2d2",
   "metadata": {},
   "source": [
    "## Загрузка данных"
   ]
  },
  {
   "cell_type": "code",
   "execution_count": 1,
   "id": "8081a34e",
   "metadata": {},
   "outputs": [],
   "source": [
    "#загружаем библиотеки\n",
    "import pandas as pd\n",
    "import numpy as np\n",
    "from matplotlib import pyplot as plt\n",
    "import plotly.express as px\n",
    "import seaborn as sns\n",
    "from scipy import stats as st\n",
    "from math import factorial\n",
    "from scipy.stats import binom\n",
    "\n",
    "\n",
    "#sns.set_style('dark')\n",
    "import warnings\n",
    "warnings.filterwarnings('ignore')"
   ]
  },
  {
   "cell_type": "code",
   "execution_count": 2,
   "id": "bdfe3e3b",
   "metadata": {},
   "outputs": [
    {
     "name": "stdout",
     "output_type": "stream",
     "text": [
      "<class 'pandas.core.frame.DataFrame'>\n",
      "RangeIndex: 1565 entries, 0 to 1564\n",
      "Data columns (total 5 columns):\n",
      " #   Column             Non-Null Count  Dtype \n",
      "---  ------             --------------  ----- \n",
      " 0   user_id            1565 non-null   int64 \n",
      " 1   name               1565 non-null   object\n",
      " 2   age                1565 non-null   int64 \n",
      " 3   city               1565 non-null   object\n",
      " 4   subscription_type  1565 non-null   object\n",
      "dtypes: int64(2), object(3)\n",
      "memory usage: 61.3+ KB\n"
     ]
    }
   ],
   "source": [
    "try:\n",
    "    df_users = pd.read_csv('users_go.csv')\n",
    "except:\n",
    "    df_users = pd.read_csv('/datasets/users_go.csv')    \n",
    "df_users.info()"
   ]
  },
  {
   "cell_type": "code",
   "execution_count": 3,
   "id": "83b7eda6",
   "metadata": {},
   "outputs": [
    {
     "data": {
      "text/html": [
       "<div>\n",
       "<style scoped>\n",
       "    .dataframe tbody tr th:only-of-type {\n",
       "        vertical-align: middle;\n",
       "    }\n",
       "\n",
       "    .dataframe tbody tr th {\n",
       "        vertical-align: top;\n",
       "    }\n",
       "\n",
       "    .dataframe thead th {\n",
       "        text-align: right;\n",
       "    }\n",
       "</style>\n",
       "<table border=\"1\" class=\"dataframe\">\n",
       "  <thead>\n",
       "    <tr style=\"text-align: right;\">\n",
       "      <th></th>\n",
       "      <th>user_id</th>\n",
       "      <th>name</th>\n",
       "      <th>age</th>\n",
       "      <th>city</th>\n",
       "      <th>subscription_type</th>\n",
       "    </tr>\n",
       "  </thead>\n",
       "  <tbody>\n",
       "    <tr>\n",
       "      <th>0</th>\n",
       "      <td>1</td>\n",
       "      <td>Кира</td>\n",
       "      <td>22</td>\n",
       "      <td>Тюмень</td>\n",
       "      <td>ultra</td>\n",
       "    </tr>\n",
       "    <tr>\n",
       "      <th>1</th>\n",
       "      <td>2</td>\n",
       "      <td>Станислав</td>\n",
       "      <td>31</td>\n",
       "      <td>Омск</td>\n",
       "      <td>ultra</td>\n",
       "    </tr>\n",
       "    <tr>\n",
       "      <th>2</th>\n",
       "      <td>3</td>\n",
       "      <td>Алексей</td>\n",
       "      <td>20</td>\n",
       "      <td>Москва</td>\n",
       "      <td>ultra</td>\n",
       "    </tr>\n",
       "    <tr>\n",
       "      <th>3</th>\n",
       "      <td>4</td>\n",
       "      <td>Константин</td>\n",
       "      <td>26</td>\n",
       "      <td>Ростов-на-Дону</td>\n",
       "      <td>ultra</td>\n",
       "    </tr>\n",
       "    <tr>\n",
       "      <th>4</th>\n",
       "      <td>5</td>\n",
       "      <td>Адель</td>\n",
       "      <td>28</td>\n",
       "      <td>Омск</td>\n",
       "      <td>ultra</td>\n",
       "    </tr>\n",
       "  </tbody>\n",
       "</table>\n",
       "</div>"
      ],
      "text/plain": [
       "   user_id        name  age            city subscription_type\n",
       "0        1        Кира   22          Тюмень             ultra\n",
       "1        2   Станислав   31            Омск             ultra\n",
       "2        3     Алексей   20          Москва             ultra\n",
       "3        4  Константин   26  Ростов-на-Дону             ultra\n",
       "4        5       Адель   28            Омск             ultra"
      ]
     },
     "execution_count": 3,
     "metadata": {},
     "output_type": "execute_result"
    }
   ],
   "source": [
    "df_users.head(5)"
   ]
  },
  {
   "cell_type": "code",
   "execution_count": 4,
   "id": "084505ce",
   "metadata": {},
   "outputs": [
    {
     "name": "stdout",
     "output_type": "stream",
     "text": [
      "<class 'pandas.core.frame.DataFrame'>\n",
      "RangeIndex: 18068 entries, 0 to 18067\n",
      "Data columns (total 4 columns):\n",
      " #   Column    Non-Null Count  Dtype  \n",
      "---  ------    --------------  -----  \n",
      " 0   user_id   18068 non-null  int64  \n",
      " 1   distance  18068 non-null  float64\n",
      " 2   duration  18068 non-null  float64\n",
      " 3   date      18068 non-null  object \n",
      "dtypes: float64(2), int64(1), object(1)\n",
      "memory usage: 564.8+ KB\n"
     ]
    }
   ],
   "source": [
    "try:\n",
    "    df_rides = pd.read_csv('rides_go.csv')\n",
    "except:\n",
    "    df_rides = pd.read_csv('/datasets/rides_go.csv')    \n",
    "df_rides.info()"
   ]
  },
  {
   "cell_type": "code",
   "execution_count": 5,
   "id": "6627413a",
   "metadata": {},
   "outputs": [
    {
     "data": {
      "text/html": [
       "<div>\n",
       "<style scoped>\n",
       "    .dataframe tbody tr th:only-of-type {\n",
       "        vertical-align: middle;\n",
       "    }\n",
       "\n",
       "    .dataframe tbody tr th {\n",
       "        vertical-align: top;\n",
       "    }\n",
       "\n",
       "    .dataframe thead th {\n",
       "        text-align: right;\n",
       "    }\n",
       "</style>\n",
       "<table border=\"1\" class=\"dataframe\">\n",
       "  <thead>\n",
       "    <tr style=\"text-align: right;\">\n",
       "      <th></th>\n",
       "      <th>user_id</th>\n",
       "      <th>distance</th>\n",
       "      <th>duration</th>\n",
       "      <th>date</th>\n",
       "    </tr>\n",
       "  </thead>\n",
       "  <tbody>\n",
       "    <tr>\n",
       "      <th>0</th>\n",
       "      <td>1</td>\n",
       "      <td>4409.919140</td>\n",
       "      <td>25.599769</td>\n",
       "      <td>2021-01-01</td>\n",
       "    </tr>\n",
       "    <tr>\n",
       "      <th>1</th>\n",
       "      <td>1</td>\n",
       "      <td>2617.592153</td>\n",
       "      <td>15.816871</td>\n",
       "      <td>2021-01-18</td>\n",
       "    </tr>\n",
       "    <tr>\n",
       "      <th>2</th>\n",
       "      <td>1</td>\n",
       "      <td>754.159807</td>\n",
       "      <td>6.232113</td>\n",
       "      <td>2021-04-20</td>\n",
       "    </tr>\n",
       "    <tr>\n",
       "      <th>3</th>\n",
       "      <td>1</td>\n",
       "      <td>2694.783254</td>\n",
       "      <td>18.511000</td>\n",
       "      <td>2021-08-11</td>\n",
       "    </tr>\n",
       "    <tr>\n",
       "      <th>4</th>\n",
       "      <td>1</td>\n",
       "      <td>4028.687306</td>\n",
       "      <td>26.265803</td>\n",
       "      <td>2021-08-28</td>\n",
       "    </tr>\n",
       "  </tbody>\n",
       "</table>\n",
       "</div>"
      ],
      "text/plain": [
       "   user_id     distance   duration        date\n",
       "0        1  4409.919140  25.599769  2021-01-01\n",
       "1        1  2617.592153  15.816871  2021-01-18\n",
       "2        1   754.159807   6.232113  2021-04-20\n",
       "3        1  2694.783254  18.511000  2021-08-11\n",
       "4        1  4028.687306  26.265803  2021-08-28"
      ]
     },
     "execution_count": 5,
     "metadata": {},
     "output_type": "execute_result"
    }
   ],
   "source": [
    "df_rides.head(5)"
   ]
  },
  {
   "cell_type": "code",
   "execution_count": 6,
   "id": "211a0c90",
   "metadata": {},
   "outputs": [
    {
     "name": "stdout",
     "output_type": "stream",
     "text": [
      "<class 'pandas.core.frame.DataFrame'>\n",
      "RangeIndex: 2 entries, 0 to 1\n",
      "Data columns (total 4 columns):\n",
      " #   Column             Non-Null Count  Dtype \n",
      "---  ------             --------------  ----- \n",
      " 0   subscription_type  2 non-null      object\n",
      " 1   minute_price       2 non-null      int64 \n",
      " 2   start_ride_price   2 non-null      int64 \n",
      " 3   subscription_fee   2 non-null      int64 \n",
      "dtypes: int64(3), object(1)\n",
      "memory usage: 192.0+ bytes\n"
     ]
    }
   ],
   "source": [
    "try:\n",
    "    df_subscriptions = pd.read_csv('subscriptions_go.csv')\n",
    "except:\n",
    "    df_subscriptions = pd.read_csv('/datasets/subscriptions_go.csv')    \n",
    "df_subscriptions.info()"
   ]
  },
  {
   "cell_type": "code",
   "execution_count": 7,
   "id": "a9273318",
   "metadata": {},
   "outputs": [
    {
     "data": {
      "text/html": [
       "<div>\n",
       "<style scoped>\n",
       "    .dataframe tbody tr th:only-of-type {\n",
       "        vertical-align: middle;\n",
       "    }\n",
       "\n",
       "    .dataframe tbody tr th {\n",
       "        vertical-align: top;\n",
       "    }\n",
       "\n",
       "    .dataframe thead th {\n",
       "        text-align: right;\n",
       "    }\n",
       "</style>\n",
       "<table border=\"1\" class=\"dataframe\">\n",
       "  <thead>\n",
       "    <tr style=\"text-align: right;\">\n",
       "      <th></th>\n",
       "      <th>subscription_type</th>\n",
       "      <th>minute_price</th>\n",
       "      <th>start_ride_price</th>\n",
       "      <th>subscription_fee</th>\n",
       "    </tr>\n",
       "  </thead>\n",
       "  <tbody>\n",
       "    <tr>\n",
       "      <th>0</th>\n",
       "      <td>free</td>\n",
       "      <td>8</td>\n",
       "      <td>50</td>\n",
       "      <td>0</td>\n",
       "    </tr>\n",
       "    <tr>\n",
       "      <th>1</th>\n",
       "      <td>ultra</td>\n",
       "      <td>6</td>\n",
       "      <td>0</td>\n",
       "      <td>199</td>\n",
       "    </tr>\n",
       "  </tbody>\n",
       "</table>\n",
       "</div>"
      ],
      "text/plain": [
       "  subscription_type  minute_price  start_ride_price  subscription_fee\n",
       "0              free             8                50                 0\n",
       "1             ultra             6                 0               199"
      ]
     },
     "execution_count": 7,
     "metadata": {},
     "output_type": "execute_result"
    }
   ],
   "source": [
    "df_subscriptions.head(5)"
   ]
  },
  {
   "cell_type": "markdown",
   "id": "a0569367",
   "metadata": {},
   "source": [
    "Предварительное знакомство с данными не выявило серьезных отклонений или пропусков в данных. В дальнейшем приведем колонку data в датафрейме rides к типу даты"
   ]
  },
  {
   "cell_type": "markdown",
   "id": "e49b67bb",
   "metadata": {},
   "source": [
    "## Предобработка данных"
   ]
  },
  {
   "cell_type": "markdown",
   "id": "8adef1ed",
   "metadata": {},
   "source": [
    "###  Приведем столбец date в датафрейме rides к типу даты pandas."
   ]
  },
  {
   "cell_type": "code",
   "execution_count": 8,
   "id": "c6e2f9eb",
   "metadata": {},
   "outputs": [
    {
     "data": {
      "text/plain": [
       "0   2021-01-01\n",
       "1   2021-01-18\n",
       "2   2021-04-20\n",
       "Name: date, dtype: datetime64[ns]"
      ]
     },
     "execution_count": 8,
     "metadata": {},
     "output_type": "execute_result"
    }
   ],
   "source": [
    "df_rides['date'] = pd.to_datetime(df_rides['date'])\n",
    "df_rides['date'].head(3)\n"
   ]
  },
  {
   "cell_type": "markdown",
   "id": "4e2ca5b8",
   "metadata": {},
   "source": [
    "### Создадим новый столбец с номером месяца на основе столбца date."
   ]
  },
  {
   "cell_type": "code",
   "execution_count": 9,
   "id": "ef57c224",
   "metadata": {},
   "outputs": [
    {
     "data": {
      "text/plain": [
       "0    1\n",
       "1    1\n",
       "2    4\n",
       "Name: month, dtype: int64"
      ]
     },
     "execution_count": 9,
     "metadata": {},
     "output_type": "execute_result"
    }
   ],
   "source": [
    "# создадим колонку с номером месяца\n",
    "df_rides['month'] = pd.DatetimeIndex(df_rides['date']).month\n",
    "df_rides['month'].head(3)"
   ]
  },
  {
   "cell_type": "markdown",
   "id": "87a9ab5e",
   "metadata": {},
   "source": [
    "### Проверим дубликаты в датафреймах"
   ]
  },
  {
   "cell_type": "code",
   "execution_count": 10,
   "id": "2042c846",
   "metadata": {},
   "outputs": [
    {
     "data": {
      "text/plain": [
       "Index(['user_id', 'name', 'age', 'city', 'subscription_type'], dtype='object')"
      ]
     },
     "execution_count": 10,
     "metadata": {},
     "output_type": "execute_result"
    }
   ],
   "source": [
    "df_users.columns"
   ]
  },
  {
   "cell_type": "code",
   "execution_count": 11,
   "id": "9578bebd",
   "metadata": {},
   "outputs": [
    {
     "data": {
      "text/html": [
       "<div>\n",
       "<style scoped>\n",
       "    .dataframe tbody tr th:only-of-type {\n",
       "        vertical-align: middle;\n",
       "    }\n",
       "\n",
       "    .dataframe tbody tr th {\n",
       "        vertical-align: top;\n",
       "    }\n",
       "\n",
       "    .dataframe thead th {\n",
       "        text-align: right;\n",
       "    }\n",
       "</style>\n",
       "<table border=\"1\" class=\"dataframe\">\n",
       "  <thead>\n",
       "    <tr style=\"text-align: right;\">\n",
       "      <th></th>\n",
       "      <th>user_id</th>\n",
       "      <th>name</th>\n",
       "      <th>age</th>\n",
       "      <th>city</th>\n",
       "      <th>subscription_type</th>\n",
       "    </tr>\n",
       "  </thead>\n",
       "  <tbody>\n",
       "    <tr>\n",
       "      <th>15</th>\n",
       "      <td>16</td>\n",
       "      <td>Амалия</td>\n",
       "      <td>27</td>\n",
       "      <td>Краснодар</td>\n",
       "      <td>ultra</td>\n",
       "    </tr>\n",
       "    <tr>\n",
       "      <th>1535</th>\n",
       "      <td>16</td>\n",
       "      <td>Амалия</td>\n",
       "      <td>27</td>\n",
       "      <td>Краснодар</td>\n",
       "      <td>ultra</td>\n",
       "    </tr>\n",
       "    <tr>\n",
       "      <th>42</th>\n",
       "      <td>43</td>\n",
       "      <td>Стефания</td>\n",
       "      <td>22</td>\n",
       "      <td>Омск</td>\n",
       "      <td>ultra</td>\n",
       "    </tr>\n",
       "    <tr>\n",
       "      <th>1539</th>\n",
       "      <td>43</td>\n",
       "      <td>Стефания</td>\n",
       "      <td>22</td>\n",
       "      <td>Омск</td>\n",
       "      <td>ultra</td>\n",
       "    </tr>\n",
       "    <tr>\n",
       "      <th>1563</th>\n",
       "      <td>47</td>\n",
       "      <td>Юрий</td>\n",
       "      <td>28</td>\n",
       "      <td>Тюмень</td>\n",
       "      <td>ultra</td>\n",
       "    </tr>\n",
       "    <tr>\n",
       "      <th>...</th>\n",
       "      <td>...</td>\n",
       "      <td>...</td>\n",
       "      <td>...</td>\n",
       "      <td>...</td>\n",
       "      <td>...</td>\n",
       "    </tr>\n",
       "    <tr>\n",
       "      <th>1554</th>\n",
       "      <td>1198</td>\n",
       "      <td>Демид</td>\n",
       "      <td>29</td>\n",
       "      <td>Ростов-на-Дону</td>\n",
       "      <td>free</td>\n",
       "    </tr>\n",
       "    <tr>\n",
       "      <th>1558</th>\n",
       "      <td>1237</td>\n",
       "      <td>Евгения</td>\n",
       "      <td>23</td>\n",
       "      <td>Тюмень</td>\n",
       "      <td>free</td>\n",
       "    </tr>\n",
       "    <tr>\n",
       "      <th>1236</th>\n",
       "      <td>1237</td>\n",
       "      <td>Евгения</td>\n",
       "      <td>23</td>\n",
       "      <td>Тюмень</td>\n",
       "      <td>free</td>\n",
       "    </tr>\n",
       "    <tr>\n",
       "      <th>1544</th>\n",
       "      <td>1245</td>\n",
       "      <td>Регина</td>\n",
       "      <td>27</td>\n",
       "      <td>Пятигорск</td>\n",
       "      <td>free</td>\n",
       "    </tr>\n",
       "    <tr>\n",
       "      <th>1244</th>\n",
       "      <td>1245</td>\n",
       "      <td>Регина</td>\n",
       "      <td>27</td>\n",
       "      <td>Пятигорск</td>\n",
       "      <td>free</td>\n",
       "    </tr>\n",
       "  </tbody>\n",
       "</table>\n",
       "<p>62 rows × 5 columns</p>\n",
       "</div>"
      ],
      "text/plain": [
       "      user_id      name  age            city subscription_type\n",
       "15         16    Амалия   27       Краснодар             ultra\n",
       "1535       16    Амалия   27       Краснодар             ultra\n",
       "42         43  Стефания   22            Омск             ultra\n",
       "1539       43  Стефания   22            Омск             ultra\n",
       "1563       47      Юрий   28          Тюмень             ultra\n",
       "...       ...       ...  ...             ...               ...\n",
       "1554     1198     Демид   29  Ростов-на-Дону              free\n",
       "1558     1237   Евгения   23          Тюмень              free\n",
       "1236     1237   Евгения   23          Тюмень              free\n",
       "1544     1245    Регина   27       Пятигорск              free\n",
       "1244     1245    Регина   27       Пятигорск              free\n",
       "\n",
       "[62 rows x 5 columns]"
      ]
     },
     "execution_count": 11,
     "metadata": {},
     "output_type": "execute_result"
    }
   ],
   "source": [
    "#посмотрим дубликаты\n",
    "df_users[df_users.duplicated (['user_id', 'name', 'age', 'city', 'subscription_type'], keep=False)]\\\n",
    ".sort_values(by='user_id')"
   ]
  },
  {
   "cell_type": "code",
   "execution_count": 12,
   "id": "2f0013da",
   "metadata": {},
   "outputs": [
    {
     "data": {
      "text/plain": [
       "1.98"
      ]
     },
     "execution_count": 12,
     "metadata": {},
     "output_type": "execute_result"
    }
   ],
   "source": [
    "#проверим какое соотношение дублей ко всему датасету\n",
    "round((df_users.duplicated (subset=['user_id', 'name', 'age', 'city', 'subscription_type']).sum() *100)/df_users.shape[0],2)"
   ]
  },
  {
   "cell_type": "markdown",
   "id": "0a0457a5",
   "metadata": {},
   "source": [
    " В датафрейме users обнаружены полные дубликаты строк с данными пользователей. Всего 31 дубль, что составляет 1.98% от всего датафрейма. Удалим их."
   ]
  },
  {
   "cell_type": "code",
   "execution_count": 13,
   "id": "879bf188",
   "metadata": {},
   "outputs": [
    {
     "data": {
      "text/plain": [
       "1534"
      ]
     },
     "execution_count": 13,
     "metadata": {},
     "output_type": "execute_result"
    }
   ],
   "source": [
    "#удалим дубликаты\n",
    "df_users=df_users.drop_duplicates(subset=['user_id', 'name', 'age', 'city', 'subscription_type'], keep='first')\n",
    "#проеврим количество строк\n",
    "df_users.shape[0]"
   ]
  },
  {
   "cell_type": "code",
   "execution_count": 14,
   "id": "569e0a82",
   "metadata": {},
   "outputs": [
    {
     "data": {
      "text/plain": [
       "Index(['user_id', 'distance', 'duration', 'date', 'month'], dtype='object')"
      ]
     },
     "execution_count": 14,
     "metadata": {},
     "output_type": "execute_result"
    }
   ],
   "source": [
    "df_rides.columns"
   ]
  },
  {
   "cell_type": "code",
   "execution_count": 15,
   "id": "b6bbdebb",
   "metadata": {},
   "outputs": [
    {
     "data": {
      "text/html": [
       "<div>\n",
       "<style scoped>\n",
       "    .dataframe tbody tr th:only-of-type {\n",
       "        vertical-align: middle;\n",
       "    }\n",
       "\n",
       "    .dataframe tbody tr th {\n",
       "        vertical-align: top;\n",
       "    }\n",
       "\n",
       "    .dataframe thead th {\n",
       "        text-align: right;\n",
       "    }\n",
       "</style>\n",
       "<table border=\"1\" class=\"dataframe\">\n",
       "  <thead>\n",
       "    <tr style=\"text-align: right;\">\n",
       "      <th></th>\n",
       "      <th>user_id</th>\n",
       "      <th>distance</th>\n",
       "      <th>duration</th>\n",
       "      <th>date</th>\n",
       "      <th>month</th>\n",
       "    </tr>\n",
       "  </thead>\n",
       "  <tbody>\n",
       "  </tbody>\n",
       "</table>\n",
       "</div>"
      ],
      "text/plain": [
       "Empty DataFrame\n",
       "Columns: [user_id, distance, duration, date, month]\n",
       "Index: []"
      ]
     },
     "execution_count": 15,
     "metadata": {},
     "output_type": "execute_result"
    }
   ],
   "source": [
    "#посмотрим дубликаты в датафрейме riders\n",
    "df_rides[df_rides.duplicated (['user_id', 'distance', 'duration', 'date', 'month'], keep=False)]\\\n",
    ".sort_values(by='user_id')"
   ]
  },
  {
   "cell_type": "markdown",
   "id": "9ae05774",
   "metadata": {},
   "source": [
    "Дубликаты в датафрейме rides отсутсвуют"
   ]
  },
  {
   "cell_type": "markdown",
   "id": "c9c35358",
   "metadata": {},
   "source": [
    "Посмотрим распределение величин дистанции и времени датафрейма rides"
   ]
  },
  {
   "cell_type": "code",
   "execution_count": 16,
   "id": "3f5097da",
   "metadata": {},
   "outputs": [
    {
     "data": {
      "image/png": "[encoded data removed]",
      "text/plain": [
       "<Figure size 640x480 with 1 Axes>"
      ]
     },
     "metadata": {},
     "output_type": "display_data"
    }
   ],
   "source": [
    "df_rides['distance'].hist(bins=15)\n",
    "plt.title('Гистограмма распределения величин дистанции')\n",
    "plt.xlabel('Метры')\n",
    "plt.ylabel('Частота')\n",
    "plt.show()"
   ]
  },
  {
   "cell_type": "code",
   "execution_count": 17,
   "id": "074badb8",
   "metadata": {},
   "outputs": [
    {
     "data": {
      "image/png": "[encoded data removed]",
      "text/plain": [
       "<Figure size 640x480 with 1 Axes>"
      ]
     },
     "metadata": {},
     "output_type": "display_data"
    }
   ],
   "source": [
    "df_rides['duration'].hist(bins=15)\n",
    "plt.title('Гистограмма распределения величин времени аренды')\n",
    "plt.xlabel('Минуты')\n",
    "plt.ylabel('Частота')\n",
    "plt.show()"
   ]
  },
  {
   "cell_type": "markdown",
   "id": "aa4b2e65",
   "metadata": {},
   "source": [
    "Набор данных о времени и дистанции в датафрейме rides имеет нормальное распределение"
   ]
  },
  {
   "cell_type": "markdown",
   "id": "85a46deb",
   "metadata": {},
   "source": [
    "Выводы по блоку \"предобработка данных\":\n",
    "* Приведен столбец date в датафрейме rides к типу даты pandas\n",
    "* Создан новый столбец с номером месяца на основе столбца date\n",
    "* В датафрейме users обнаружены полные дубликаты строк с данными пользователей. Всего 31 дубль, что составляет 1.98% от всего датафрейма. Удалено.\n",
    "* Дубликаты в датафрейме rides отсутсвуют\n",
    "* Набор данных о времени и дистанции в датафрейме rides имеет нормальное распределение"
   ]
  },
  {
   "cell_type": "markdown",
   "id": "178048f7",
   "metadata": {},
   "source": [
    "## Исследовательский анализ данных"
   ]
  },
  {
   "cell_type": "markdown",
   "id": "ee8bf166",
   "metadata": {},
   "source": [
    "### Частота встречаемости городов"
   ]
  },
  {
   "cell_type": "code",
   "execution_count": 18,
   "id": "1ed11435",
   "metadata": {},
   "outputs": [
    {
     "data": {
      "text/plain": [
       "Пятигорск         219\n",
       "Екатеринбург      204\n",
       "Ростов-на-Дону    198\n",
       "Краснодар         193\n",
       "Сочи              189\n",
       "Омск              183\n",
       "Тюмень            180\n",
       "Москва            168\n",
       "Name: city, dtype: int64"
      ]
     },
     "execution_count": 18,
     "metadata": {},
     "output_type": "execute_result"
    }
   ],
   "source": [
    "df_users['city'].value_counts()"
   ]
  },
  {
   "cell_type": "code",
   "execution_count": 19,
   "id": "d4797fab",
   "metadata": {},
   "outputs": [
    {
     "data": {
      "image/png": "[encoded data removed]",
      "text/plain": [
       "<Figure size 1300x900 with 1 Axes>"
      ]
     },
     "metadata": {},
     "output_type": "display_data"
    }
   ],
   "source": [
    "df_users_city = df_users.groupby('city').agg({'user_id': 'count'}).sort_values(by='user_id', ascending=False).reset_index()\n",
    "\n",
    "# строим столбчатую диаграмму \n",
    "plt.figure(figsize=(13, 9))\n",
    "sns.barplot(x='city', y='user_id', data=df_users_city, color='steelblue')\n",
    "plt.title('Частота встречаемости городов')\n",
    "plt.xlabel('Город')\n",
    "plt.ylabel('Количество')\n",
    "plt.xticks(rotation=45)\n",
    "plt.grid()\n",
    "plt.show()"
   ]
  },
  {
   "cell_type": "markdown",
   "id": "adb471ea",
   "metadata": {},
   "source": [
    "Больше всего пользователей в Пятигорске"
   ]
  },
  {
   "cell_type": "markdown",
   "id": "cf9b3202",
   "metadata": {},
   "source": [
    "### Cоотношение пользователей с подпиской и без подписки"
   ]
  },
  {
   "cell_type": "code",
   "execution_count": 20,
   "id": "6c6129ab",
   "metadata": {},
   "outputs": [
    {
     "data": {
      "text/plain": [
       "free     835\n",
       "ultra    699\n",
       "Name: subscription_type, dtype: int64"
      ]
     },
     "execution_count": 20,
     "metadata": {},
     "output_type": "execute_result"
    }
   ],
   "source": [
    "df_users['subscription_type'].value_counts()"
   ]
  },
  {
   "cell_type": "markdown",
   "id": "b2e71bef",
   "metadata": {},
   "source": [
    "Пользователей без подписки больше 835 чем пользователей с подпиской 699"
   ]
  },
  {
   "cell_type": "markdown",
   "id": "a0ccc4d4",
   "metadata": {},
   "source": [
    "### Возраст пользователей"
   ]
  },
  {
   "cell_type": "code",
   "execution_count": 21,
   "id": "0969d943",
   "metadata": {},
   "outputs": [
    {
     "data": {
      "text/plain": [
       "count    1534.000000\n",
       "mean       24.903520\n",
       "std         4.572367\n",
       "min        12.000000\n",
       "25%        22.000000\n",
       "50%        25.000000\n",
       "75%        28.000000\n",
       "max        43.000000\n",
       "Name: age, dtype: float64"
      ]
     },
     "execution_count": 21,
     "metadata": {},
     "output_type": "execute_result"
    }
   ],
   "source": [
    "df_users['age'].describe()"
   ]
  },
  {
   "cell_type": "code",
   "execution_count": 22,
   "id": "96ebbb80",
   "metadata": {},
   "outputs": [
    {
     "data": {
      "image/png": "[encoded data removed]",
      "text/plain": [
       "<Figure size 640x480 with 1 Axes>"
      ]
     },
     "metadata": {},
     "output_type": "display_data"
    }
   ],
   "source": [
    "df_users['age'].hist(bins=15)\n",
    "plt.title('Гистограмма распределения возраста пользователей')\n",
    "plt.xlabel('Возраст')\n",
    "plt.ylabel('Частота')\n",
    "plt.show()"
   ]
  },
  {
   "cell_type": "markdown",
   "id": "6677c369",
   "metadata": {},
   "source": [
    "Основной возраст пользователей распределен от 20 до 30 лет. Медианное значение возраста пользователей 25 лет"
   ]
  },
  {
   "cell_type": "markdown",
   "id": "e1fd8791",
   "metadata": {},
   "source": [
    "### Расстояние, которое пользователь преодолел за одну поездку"
   ]
  },
  {
   "cell_type": "code",
   "execution_count": 23,
   "id": "dde67242",
   "metadata": {},
   "outputs": [
    {
     "data": {
      "text/html": [
       "<div>\n",
       "<style scoped>\n",
       "    .dataframe tbody tr th:only-of-type {\n",
       "        vertical-align: middle;\n",
       "    }\n",
       "\n",
       "    .dataframe tbody tr th {\n",
       "        vertical-align: top;\n",
       "    }\n",
       "\n",
       "    .dataframe thead th {\n",
       "        text-align: right;\n",
       "    }\n",
       "</style>\n",
       "<table border=\"1\" class=\"dataframe\">\n",
       "  <thead>\n",
       "    <tr style=\"text-align: right;\">\n",
       "      <th></th>\n",
       "      <th>distance</th>\n",
       "    </tr>\n",
       "    <tr>\n",
       "      <th>user_id</th>\n",
       "      <th></th>\n",
       "    </tr>\n",
       "  </thead>\n",
       "  <tbody>\n",
       "    <tr>\n",
       "      <th>1</th>\n",
       "      <td>2839.181839</td>\n",
       "    </tr>\n",
       "    <tr>\n",
       "      <th>2</th>\n",
       "      <td>3087.641692</td>\n",
       "    </tr>\n",
       "    <tr>\n",
       "      <th>3</th>\n",
       "      <td>3075.633155</td>\n",
       "    </tr>\n",
       "    <tr>\n",
       "      <th>4</th>\n",
       "      <td>3202.656423</td>\n",
       "    </tr>\n",
       "    <tr>\n",
       "      <th>5</th>\n",
       "      <td>3232.449968</td>\n",
       "    </tr>\n",
       "    <tr>\n",
       "      <th>...</th>\n",
       "      <td>...</td>\n",
       "    </tr>\n",
       "    <tr>\n",
       "      <th>1530</th>\n",
       "      <td>2750.498225</td>\n",
       "    </tr>\n",
       "    <tr>\n",
       "      <th>1531</th>\n",
       "      <td>2915.425836</td>\n",
       "    </tr>\n",
       "    <tr>\n",
       "      <th>1532</th>\n",
       "      <td>2607.861784</td>\n",
       "    </tr>\n",
       "    <tr>\n",
       "      <th>1533</th>\n",
       "      <td>2837.707093</td>\n",
       "    </tr>\n",
       "    <tr>\n",
       "      <th>1534</th>\n",
       "      <td>3222.957142</td>\n",
       "    </tr>\n",
       "  </tbody>\n",
       "</table>\n",
       "<p>1534 rows × 1 columns</p>\n",
       "</div>"
      ],
      "text/plain": [
       "            distance\n",
       "user_id             \n",
       "1        2839.181839\n",
       "2        3087.641692\n",
       "3        3075.633155\n",
       "4        3202.656423\n",
       "5        3232.449968\n",
       "...              ...\n",
       "1530     2750.498225\n",
       "1531     2915.425836\n",
       "1532     2607.861784\n",
       "1533     2837.707093\n",
       "1534     3222.957142\n",
       "\n",
       "[1534 rows x 1 columns]"
      ]
     },
     "execution_count": 23,
     "metadata": {},
     "output_type": "execute_result"
    }
   ],
   "source": [
    "# посмотрим среднее расстояние поездок на одного пользователя\n",
    "df_rides.groupby('user_id').agg({'distance': 'mean'})"
   ]
  },
  {
   "cell_type": "code",
   "execution_count": 24,
   "id": "ce9e0a96",
   "metadata": {},
   "outputs": [
    {
     "data": {
      "text/html": [
       "<div>\n",
       "<style scoped>\n",
       "    .dataframe tbody tr th:only-of-type {\n",
       "        vertical-align: middle;\n",
       "    }\n",
       "\n",
       "    .dataframe tbody tr th {\n",
       "        vertical-align: top;\n",
       "    }\n",
       "\n",
       "    .dataframe thead th {\n",
       "        text-align: right;\n",
       "    }\n",
       "</style>\n",
       "<table border=\"1\" class=\"dataframe\">\n",
       "  <thead>\n",
       "    <tr style=\"text-align: right;\">\n",
       "      <th></th>\n",
       "      <th>distance</th>\n",
       "    </tr>\n",
       "  </thead>\n",
       "  <tbody>\n",
       "    <tr>\n",
       "      <th>count</th>\n",
       "      <td>1534.000000</td>\n",
       "    </tr>\n",
       "    <tr>\n",
       "      <th>mean</th>\n",
       "      <td>3077.296650</td>\n",
       "    </tr>\n",
       "    <tr>\n",
       "      <th>std</th>\n",
       "      <td>327.624403</td>\n",
       "    </tr>\n",
       "    <tr>\n",
       "      <th>min</th>\n",
       "      <td>1630.788427</td>\n",
       "    </tr>\n",
       "    <tr>\n",
       "      <th>25%</th>\n",
       "      <td>2882.505704</td>\n",
       "    </tr>\n",
       "    <tr>\n",
       "      <th>50%</th>\n",
       "      <td>3090.864050</td>\n",
       "    </tr>\n",
       "    <tr>\n",
       "      <th>75%</th>\n",
       "      <td>3293.325678</td>\n",
       "    </tr>\n",
       "    <tr>\n",
       "      <th>max</th>\n",
       "      <td>4287.519387</td>\n",
       "    </tr>\n",
       "  </tbody>\n",
       "</table>\n",
       "</div>"
      ],
      "text/plain": [
       "          distance\n",
       "count  1534.000000\n",
       "mean   3077.296650\n",
       "std     327.624403\n",
       "min    1630.788427\n",
       "25%    2882.505704\n",
       "50%    3090.864050\n",
       "75%    3293.325678\n",
       "max    4287.519387"
      ]
     },
     "execution_count": 24,
     "metadata": {},
     "output_type": "execute_result"
    }
   ],
   "source": [
    "df_rides.groupby('user_id').agg({'distance': 'mean'}).describe()"
   ]
  },
  {
   "cell_type": "code",
   "execution_count": 25,
   "id": "a7bde0c5",
   "metadata": {},
   "outputs": [
    {
     "data": {
      "image/png": "[encoded data removed]",
      "text/plain": [
       "<Figure size 640x480 with 1 Axes>"
      ]
     },
     "metadata": {},
     "output_type": "display_data"
    }
   ],
   "source": [
    "df_rides.groupby('user_id').agg({'distance': 'mean'}).hist(bins=30)\n",
    "plt.title('Гистограмма распределения среднего расстояния на одного пользователей')\n",
    "plt.xlabel('Расстояние')\n",
    "plt.ylabel('Частота')\n",
    "plt.show()"
   ]
  },
  {
   "cell_type": "code",
   "execution_count": 26,
   "id": "ebce90b4",
   "metadata": {},
   "outputs": [
    {
     "data": {
      "text/html": [
       "<div>\n",
       "<style scoped>\n",
       "    .dataframe tbody tr th:only-of-type {\n",
       "        vertical-align: middle;\n",
       "    }\n",
       "\n",
       "    .dataframe tbody tr th {\n",
       "        vertical-align: top;\n",
       "    }\n",
       "\n",
       "    .dataframe thead th {\n",
       "        text-align: right;\n",
       "    }\n",
       "</style>\n",
       "<table border=\"1\" class=\"dataframe\">\n",
       "  <thead>\n",
       "    <tr style=\"text-align: right;\">\n",
       "      <th></th>\n",
       "      <th>distance</th>\n",
       "    </tr>\n",
       "  </thead>\n",
       "  <tbody>\n",
       "    <tr>\n",
       "      <th>count</th>\n",
       "      <td>1534.000000</td>\n",
       "    </tr>\n",
       "    <tr>\n",
       "      <th>mean</th>\n",
       "      <td>1213.443936</td>\n",
       "    </tr>\n",
       "    <tr>\n",
       "      <th>std</th>\n",
       "      <td>920.434737</td>\n",
       "    </tr>\n",
       "    <tr>\n",
       "      <th>min</th>\n",
       "      <td>0.855683</td>\n",
       "    </tr>\n",
       "    <tr>\n",
       "      <th>25%</th>\n",
       "      <td>432.252167</td>\n",
       "    </tr>\n",
       "    <tr>\n",
       "      <th>50%</th>\n",
       "      <td>903.368698</td>\n",
       "    </tr>\n",
       "    <tr>\n",
       "      <th>75%</th>\n",
       "      <td>2129.285702</td>\n",
       "    </tr>\n",
       "    <tr>\n",
       "      <th>max</th>\n",
       "      <td>3477.029683</td>\n",
       "    </tr>\n",
       "  </tbody>\n",
       "</table>\n",
       "</div>"
      ],
      "text/plain": [
       "          distance\n",
       "count  1534.000000\n",
       "mean   1213.443936\n",
       "std     920.434737\n",
       "min       0.855683\n",
       "25%     432.252167\n",
       "50%     903.368698\n",
       "75%    2129.285702\n",
       "max    3477.029683"
      ]
     },
     "execution_count": 26,
     "metadata": {},
     "output_type": "execute_result"
    }
   ],
   "source": [
    "# посмотрим минимальное расстояние поездок на одного пользователя\n",
    "df_rides.groupby('user_id').agg({'distance': 'min'}).describe()"
   ]
  },
  {
   "cell_type": "code",
   "execution_count": 27,
   "id": "f2923c4b",
   "metadata": {},
   "outputs": [
    {
     "data": {
      "image/png": "[encoded data removed]",
      "text/plain": [
       "<Figure size 640x480 with 1 Axes>"
      ]
     },
     "metadata": {},
     "output_type": "display_data"
    }
   ],
   "source": [
    "df_rides.groupby('user_id').agg({'distance': 'min'}).hist(bins=30)\n",
    "plt.title('Гистограмма распределения минимального расстояния на одного пользователей')\n",
    "plt.xlabel('Расстояние')\n",
    "plt.ylabel('Частота')\n",
    "plt.show()"
   ]
  },
  {
   "cell_type": "code",
   "execution_count": 28,
   "id": "3a288fee",
   "metadata": {},
   "outputs": [
    {
     "data": {
      "text/html": [
       "<div>\n",
       "<style scoped>\n",
       "    .dataframe tbody tr th:only-of-type {\n",
       "        vertical-align: middle;\n",
       "    }\n",
       "\n",
       "    .dataframe tbody tr th {\n",
       "        vertical-align: top;\n",
       "    }\n",
       "\n",
       "    .dataframe thead th {\n",
       "        text-align: right;\n",
       "    }\n",
       "</style>\n",
       "<table border=\"1\" class=\"dataframe\">\n",
       "  <thead>\n",
       "    <tr style=\"text-align: right;\">\n",
       "      <th></th>\n",
       "      <th>distance</th>\n",
       "    </tr>\n",
       "  </thead>\n",
       "  <tbody>\n",
       "    <tr>\n",
       "      <th>count</th>\n",
       "      <td>1534.000000</td>\n",
       "    </tr>\n",
       "    <tr>\n",
       "      <th>mean</th>\n",
       "      <td>4619.303179</td>\n",
       "    </tr>\n",
       "    <tr>\n",
       "      <th>std</th>\n",
       "      <td>660.473641</td>\n",
       "    </tr>\n",
       "    <tr>\n",
       "      <th>min</th>\n",
       "      <td>2964.528011</td>\n",
       "    </tr>\n",
       "    <tr>\n",
       "      <th>25%</th>\n",
       "      <td>4187.637922</td>\n",
       "    </tr>\n",
       "    <tr>\n",
       "      <th>50%</th>\n",
       "      <td>4578.851616</td>\n",
       "    </tr>\n",
       "    <tr>\n",
       "      <th>75%</th>\n",
       "      <td>5019.973823</td>\n",
       "    </tr>\n",
       "    <tr>\n",
       "      <th>max</th>\n",
       "      <td>7211.007745</td>\n",
       "    </tr>\n",
       "  </tbody>\n",
       "</table>\n",
       "</div>"
      ],
      "text/plain": [
       "          distance\n",
       "count  1534.000000\n",
       "mean   4619.303179\n",
       "std     660.473641\n",
       "min    2964.528011\n",
       "25%    4187.637922\n",
       "50%    4578.851616\n",
       "75%    5019.973823\n",
       "max    7211.007745"
      ]
     },
     "execution_count": 28,
     "metadata": {},
     "output_type": "execute_result"
    }
   ],
   "source": [
    "# посмотрим максимальное расстояние поездок на одного пользователя\n",
    "df_rides.groupby('user_id').agg({'distance': 'max'}).describe()"
   ]
  },
  {
   "cell_type": "code",
   "execution_count": 29,
   "id": "30218bb9",
   "metadata": {},
   "outputs": [
    {
     "data": {
      "image/png": "[encoded data removed]",
      "text/plain": [
       "<Figure size 640x480 with 1 Axes>"
      ]
     },
     "metadata": {},
     "output_type": "display_data"
    }
   ],
   "source": [
    "df_rides.groupby('user_id').agg({'distance': 'max'}).hist(bins=30)\n",
    "plt.title('Гистограмма распределения максимального расстояния на одного пользователя')\n",
    "plt.xlabel('Расстояние')\n",
    "plt.ylabel('Частота')\n",
    "plt.show()"
   ]
  },
  {
   "cell_type": "code",
   "execution_count": 30,
   "id": "4c516459",
   "metadata": {},
   "outputs": [
    {
     "data": {
      "image/png": "[encoded data removed]",
      "text/plain": [
       "<Figure size 640x480 with 1 Axes>"
      ]
     },
     "metadata": {},
     "output_type": "display_data"
    }
   ],
   "source": [
    "df_rides['distance'].hist(bins=15)\n",
    "plt.title('Гистограмма распределения расстояния всех поездок пользователей')\n",
    "plt.xlabel('Расстояние')\n",
    "plt.ylabel('Частота')\n",
    "plt.show()"
   ]
  },
  {
   "cell_type": "markdown",
   "id": "c7a80583",
   "metadata": {},
   "source": [
    "Средняя поездка одного пользователся около 3000 метров , чаще всего пользователи проезжают от 2500 до 3500 метров.\n",
    "\n",
    "В среднем минимальная поездка одного пользователся порядка 900 метров, чаще всего пользователи проезжают минимум от 400 до 2000 метров\n",
    "\n",
    "В среднем максимальная поездка одного пользователся составляет 4600 метров, чаще всего пользователи проезжают максимум от 4000 до 5000 метров"
   ]
  },
  {
   "cell_type": "markdown",
   "id": "14399d16",
   "metadata": {},
   "source": [
    "### Продолжительность поездок"
   ]
  },
  {
   "cell_type": "code",
   "execution_count": 31,
   "id": "821a6c3d",
   "metadata": {},
   "outputs": [
    {
     "data": {
      "text/plain": [
       "count    18068.000000\n",
       "mean        17.805011\n",
       "std          6.091051\n",
       "min          0.500000\n",
       "25%         13.597563\n",
       "50%         17.678395\n",
       "75%         21.724800\n",
       "max         40.823963\n",
       "Name: duration, dtype: float64"
      ]
     },
     "execution_count": 31,
     "metadata": {},
     "output_type": "execute_result"
    }
   ],
   "source": [
    "df_rides['duration'].describe()"
   ]
  },
  {
   "cell_type": "code",
   "execution_count": 32,
   "id": "8803afff",
   "metadata": {},
   "outputs": [
    {
     "data": {
      "image/png": "[encoded data removed]",
      "text/plain": [
       "<Figure size 640x480 with 1 Axes>"
      ]
     },
     "metadata": {},
     "output_type": "display_data"
    }
   ],
   "source": [
    "df_rides['duration'].hist(bins=30)\n",
    "plt.title('Гистограмма распределения времени всех поездок пользователей')\n",
    "plt.xlabel('Минуты')\n",
    "plt.ylabel('Частота')\n",
    "plt.show()"
   ]
  },
  {
   "cell_type": "code",
   "execution_count": 33,
   "id": "22620ce2",
   "metadata": {},
   "outputs": [
    {
     "data": {
      "image/png": "[encoded data removed]",
      "text/plain": [
       "<Figure size 640x480 with 1 Axes>"
      ]
     },
     "metadata": {},
     "output_type": "display_data"
    }
   ],
   "source": [
    "# построим диаграмму размаха\n",
    "df_rides.boxplot('duration')\n",
    "plt.title('Диаграмма размаха продолжительности поездок')\n",
    "plt.show()"
   ]
  },
  {
   "cell_type": "markdown",
   "id": "32ee9724",
   "metadata": {},
   "source": [
    "Средняя продолжительность одной поездки 17 минут. Чаще всего продолжительность поездки лежит в диапазоне от 13 до 22 минут. Присутсвует небольшое количество выбросов в диапазоне 0.5 минут и свыше 33 минут, ниже рассмотрим их."
   ]
  },
  {
   "cell_type": "code",
   "execution_count": 34,
   "id": "4a273fec",
   "metadata": {
    "scrolled": true
   },
   "outputs": [
    {
     "data": {
      "text/html": [
       "<div>\n",
       "<style scoped>\n",
       "    .dataframe tbody tr th:only-of-type {\n",
       "        vertical-align: middle;\n",
       "    }\n",
       "\n",
       "    .dataframe tbody tr th {\n",
       "        vertical-align: top;\n",
       "    }\n",
       "\n",
       "    .dataframe thead th {\n",
       "        text-align: right;\n",
       "    }\n",
       "</style>\n",
       "<table border=\"1\" class=\"dataframe\">\n",
       "  <thead>\n",
       "    <tr style=\"text-align: right;\">\n",
       "      <th></th>\n",
       "      <th>user_id</th>\n",
       "      <th>distance</th>\n",
       "      <th>duration</th>\n",
       "      <th>date</th>\n",
       "      <th>month</th>\n",
       "    </tr>\n",
       "  </thead>\n",
       "  <tbody>\n",
       "    <tr>\n",
       "      <th>6531</th>\n",
       "      <td>701</td>\n",
       "      <td>4196.445201</td>\n",
       "      <td>0.5</td>\n",
       "      <td>2021-08-31</td>\n",
       "      <td>8</td>\n",
       "    </tr>\n",
       "    <tr>\n",
       "      <th>6570</th>\n",
       "      <td>704</td>\n",
       "      <td>4830.824371</td>\n",
       "      <td>0.5</td>\n",
       "      <td>2021-10-14</td>\n",
       "      <td>10</td>\n",
       "    </tr>\n",
       "    <tr>\n",
       "      <th>6680</th>\n",
       "      <td>712</td>\n",
       "      <td>4684.004397</td>\n",
       "      <td>0.5</td>\n",
       "      <td>2021-03-04</td>\n",
       "      <td>3</td>\n",
       "    </tr>\n",
       "    <tr>\n",
       "      <th>6695</th>\n",
       "      <td>713</td>\n",
       "      <td>5215.642710</td>\n",
       "      <td>0.5</td>\n",
       "      <td>2021-02-25</td>\n",
       "      <td>2</td>\n",
       "    </tr>\n",
       "    <tr>\n",
       "      <th>6768</th>\n",
       "      <td>718</td>\n",
       "      <td>5197.436649</td>\n",
       "      <td>0.5</td>\n",
       "      <td>2021-02-11</td>\n",
       "      <td>2</td>\n",
       "    </tr>\n",
       "    <tr>\n",
       "      <th>...</th>\n",
       "      <td>...</td>\n",
       "      <td>...</td>\n",
       "      <td>...</td>\n",
       "      <td>...</td>\n",
       "      <td>...</td>\n",
       "    </tr>\n",
       "    <tr>\n",
       "      <th>17004</th>\n",
       "      <td>1460</td>\n",
       "      <td>5531.335845</td>\n",
       "      <td>0.5</td>\n",
       "      <td>2021-01-19</td>\n",
       "      <td>1</td>\n",
       "    </tr>\n",
       "    <tr>\n",
       "      <th>17242</th>\n",
       "      <td>1477</td>\n",
       "      <td>6724.932981</td>\n",
       "      <td>0.5</td>\n",
       "      <td>2021-01-12</td>\n",
       "      <td>1</td>\n",
       "    </tr>\n",
       "    <tr>\n",
       "      <th>17314</th>\n",
       "      <td>1483</td>\n",
       "      <td>4445.481070</td>\n",
       "      <td>0.5</td>\n",
       "      <td>2021-03-06</td>\n",
       "      <td>3</td>\n",
       "    </tr>\n",
       "    <tr>\n",
       "      <th>17505</th>\n",
       "      <td>1496</td>\n",
       "      <td>5722.551787</td>\n",
       "      <td>0.5</td>\n",
       "      <td>2021-02-14</td>\n",
       "      <td>2</td>\n",
       "    </tr>\n",
       "    <tr>\n",
       "      <th>17909</th>\n",
       "      <td>1524</td>\n",
       "      <td>4103.998874</td>\n",
       "      <td>0.5</td>\n",
       "      <td>2021-06-18</td>\n",
       "      <td>6</td>\n",
       "    </tr>\n",
       "  </tbody>\n",
       "</table>\n",
       "<p>95 rows × 5 columns</p>\n",
       "</div>"
      ],
      "text/plain": [
       "       user_id     distance  duration       date  month\n",
       "6531       701  4196.445201       0.5 2021-08-31      8\n",
       "6570       704  4830.824371       0.5 2021-10-14     10\n",
       "6680       712  4684.004397       0.5 2021-03-04      3\n",
       "6695       713  5215.642710       0.5 2021-02-25      2\n",
       "6768       718  5197.436649       0.5 2021-02-11      2\n",
       "...        ...          ...       ...        ...    ...\n",
       "17004     1460  5531.335845       0.5 2021-01-19      1\n",
       "17242     1477  6724.932981       0.5 2021-01-12      1\n",
       "17314     1483  4445.481070       0.5 2021-03-06      3\n",
       "17505     1496  5722.551787       0.5 2021-02-14      2\n",
       "17909     1524  4103.998874       0.5 2021-06-18      6\n",
       "\n",
       "[95 rows x 5 columns]"
      ]
     },
     "execution_count": 34,
     "metadata": {},
     "output_type": "execute_result"
    }
   ],
   "source": [
    "df_rides.query('duration <= 1')"
   ]
  },
  {
   "cell_type": "markdown",
   "id": "02c9384c",
   "metadata": {},
   "source": [
    "95 строк имеют продолжительность поездки 0.5 минуты при этом очень большие дистанции, аномалия похожа на сбой в системе учета."
   ]
  },
  {
   "cell_type": "code",
   "execution_count": 35,
   "id": "ae542365",
   "metadata": {},
   "outputs": [
    {
     "data": {
      "text/html": [
       "<div>\n",
       "<style scoped>\n",
       "    .dataframe tbody tr th:only-of-type {\n",
       "        vertical-align: middle;\n",
       "    }\n",
       "\n",
       "    .dataframe tbody tr th {\n",
       "        vertical-align: top;\n",
       "    }\n",
       "\n",
       "    .dataframe thead th {\n",
       "        text-align: right;\n",
       "    }\n",
       "</style>\n",
       "<table border=\"1\" class=\"dataframe\">\n",
       "  <thead>\n",
       "    <tr style=\"text-align: right;\">\n",
       "      <th></th>\n",
       "      <th>user_id</th>\n",
       "      <th>distance</th>\n",
       "      <th>duration</th>\n",
       "      <th>date</th>\n",
       "      <th>month</th>\n",
       "    </tr>\n",
       "  </thead>\n",
       "  <tbody>\n",
       "    <tr>\n",
       "      <th>42</th>\n",
       "      <td>4</td>\n",
       "      <td>4649.488243</td>\n",
       "      <td>35.896929</td>\n",
       "      <td>2021-08-14</td>\n",
       "      <td>8</td>\n",
       "    </tr>\n",
       "    <tr>\n",
       "      <th>63</th>\n",
       "      <td>6</td>\n",
       "      <td>4453.521758</td>\n",
       "      <td>33.721131</td>\n",
       "      <td>2021-05-17</td>\n",
       "      <td>5</td>\n",
       "    </tr>\n",
       "    <tr>\n",
       "      <th>143</th>\n",
       "      <td>15</td>\n",
       "      <td>4187.621459</td>\n",
       "      <td>38.125729</td>\n",
       "      <td>2021-01-13</td>\n",
       "      <td>1</td>\n",
       "    </tr>\n",
       "    <tr>\n",
       "      <th>263</th>\n",
       "      <td>28</td>\n",
       "      <td>3732.717049</td>\n",
       "      <td>33.396302</td>\n",
       "      <td>2021-08-16</td>\n",
       "      <td>8</td>\n",
       "    </tr>\n",
       "    <tr>\n",
       "      <th>467</th>\n",
       "      <td>51</td>\n",
       "      <td>4100.049214</td>\n",
       "      <td>33.363905</td>\n",
       "      <td>2021-01-11</td>\n",
       "      <td>1</td>\n",
       "    </tr>\n",
       "    <tr>\n",
       "      <th>...</th>\n",
       "      <td>...</td>\n",
       "      <td>...</td>\n",
       "      <td>...</td>\n",
       "      <td>...</td>\n",
       "      <td>...</td>\n",
       "    </tr>\n",
       "    <tr>\n",
       "      <th>17684</th>\n",
       "      <td>1509</td>\n",
       "      <td>3728.895778</td>\n",
       "      <td>34.339432</td>\n",
       "      <td>2021-01-22</td>\n",
       "      <td>1</td>\n",
       "    </tr>\n",
       "    <tr>\n",
       "      <th>17733</th>\n",
       "      <td>1511</td>\n",
       "      <td>3815.649136</td>\n",
       "      <td>33.078246</td>\n",
       "      <td>2021-12-16</td>\n",
       "      <td>12</td>\n",
       "    </tr>\n",
       "    <tr>\n",
       "      <th>17929</th>\n",
       "      <td>1525</td>\n",
       "      <td>4597.854350</td>\n",
       "      <td>33.220866</td>\n",
       "      <td>2021-12-30</td>\n",
       "      <td>12</td>\n",
       "    </tr>\n",
       "    <tr>\n",
       "      <th>17935</th>\n",
       "      <td>1526</td>\n",
       "      <td>4488.864389</td>\n",
       "      <td>34.484715</td>\n",
       "      <td>2021-06-05</td>\n",
       "      <td>6</td>\n",
       "    </tr>\n",
       "    <tr>\n",
       "      <th>17944</th>\n",
       "      <td>1527</td>\n",
       "      <td>4997.137591</td>\n",
       "      <td>33.416304</td>\n",
       "      <td>2021-05-26</td>\n",
       "      <td>5</td>\n",
       "    </tr>\n",
       "  </tbody>\n",
       "</table>\n",
       "<p>146 rows × 5 columns</p>\n",
       "</div>"
      ],
      "text/plain": [
       "       user_id     distance   duration       date  month\n",
       "42           4  4649.488243  35.896929 2021-08-14      8\n",
       "63           6  4453.521758  33.721131 2021-05-17      5\n",
       "143         15  4187.621459  38.125729 2021-01-13      1\n",
       "263         28  3732.717049  33.396302 2021-08-16      8\n",
       "467         51  4100.049214  33.363905 2021-01-11      1\n",
       "...        ...          ...        ...        ...    ...\n",
       "17684     1509  3728.895778  34.339432 2021-01-22      1\n",
       "17733     1511  3815.649136  33.078246 2021-12-16     12\n",
       "17929     1525  4597.854350  33.220866 2021-12-30     12\n",
       "17935     1526  4488.864389  34.484715 2021-06-05      6\n",
       "17944     1527  4997.137591  33.416304 2021-05-26      5\n",
       "\n",
       "[146 rows x 5 columns]"
      ]
     },
     "execution_count": 35,
     "metadata": {},
     "output_type": "execute_result"
    }
   ],
   "source": [
    "df_rides.query('duration >= 33')"
   ]
  },
  {
   "cell_type": "markdown",
   "id": "038a885f",
   "metadata": {},
   "source": [
    "Свыше 33 минут поездки выглядят впоне приемлемо."
   ]
  },
  {
   "cell_type": "markdown",
   "id": "dbe73f40",
   "metadata": {},
   "source": [
    "Выводы по блоку \"Исследовательский анализ данных\"\n",
    "* Больше всего пользователей в Пятигорске\n",
    "* Пользователей без подписки больше 835 чем пользователей с подпиской 699\n",
    "* Основной возраст пользователей распределен от 20 до 30 лет. Медианное значение возраста пользователей 25 лет\n",
    "* Средняя поездка одного пользователся около 3000 метров , чаще всего пользователи проезжают от 2500 до 3500 метров.\n",
    "* В среднем минимальная поездка одного пользователся порядка 900 метров, чаще всего пользователи проезжают минимум от 400 до 2000 метров\n",
    "* В среднем максимальная поездка одного пользователся составляет 4600 метров, чаще всего пользователи проезжают максимум от 4000 до 5000 метров\n",
    "* Средняя продолжительность одной поездки 17 минут. Чаще всего продолжительность поездки лежит в диапазоне от 13 до 22 минут. Присутсвует небольшое количество выбросов в диапазоне 0.5 минут и свыше 33 минут\n",
    "* 95 строк имеют продолжительность поездки 0.5 минуты при этом очень большие дистанции, аномалия похожа на сбой в системе учета.\n",
    "* Свыше 33 минут поездки выглядят впоне приемлемо."
   ]
  },
  {
   "cell_type": "markdown",
   "id": "548bda9c",
   "metadata": {},
   "source": [
    "## Объединение данных"
   ]
  },
  {
   "cell_type": "code",
   "execution_count": 36,
   "id": "3ef9a8d0",
   "metadata": {},
   "outputs": [
    {
     "data": {
      "text/html": [
       "<div>\n",
       "<style scoped>\n",
       "    .dataframe tbody tr th:only-of-type {\n",
       "        vertical-align: middle;\n",
       "    }\n",
       "\n",
       "    .dataframe tbody tr th {\n",
       "        vertical-align: top;\n",
       "    }\n",
       "\n",
       "    .dataframe thead th {\n",
       "        text-align: right;\n",
       "    }\n",
       "</style>\n",
       "<table border=\"1\" class=\"dataframe\">\n",
       "  <thead>\n",
       "    <tr style=\"text-align: right;\">\n",
       "      <th></th>\n",
       "      <th>user_id</th>\n",
       "      <th>name</th>\n",
       "      <th>age</th>\n",
       "      <th>city</th>\n",
       "      <th>subscription_type</th>\n",
       "      <th>distance</th>\n",
       "      <th>duration</th>\n",
       "      <th>date</th>\n",
       "      <th>month</th>\n",
       "    </tr>\n",
       "  </thead>\n",
       "  <tbody>\n",
       "    <tr>\n",
       "      <th>0</th>\n",
       "      <td>1</td>\n",
       "      <td>Кира</td>\n",
       "      <td>22</td>\n",
       "      <td>Тюмень</td>\n",
       "      <td>ultra</td>\n",
       "      <td>4409.919140</td>\n",
       "      <td>25.599769</td>\n",
       "      <td>2021-01-01</td>\n",
       "      <td>1</td>\n",
       "    </tr>\n",
       "    <tr>\n",
       "      <th>1</th>\n",
       "      <td>1</td>\n",
       "      <td>Кира</td>\n",
       "      <td>22</td>\n",
       "      <td>Тюмень</td>\n",
       "      <td>ultra</td>\n",
       "      <td>2617.592153</td>\n",
       "      <td>15.816871</td>\n",
       "      <td>2021-01-18</td>\n",
       "      <td>1</td>\n",
       "    </tr>\n",
       "    <tr>\n",
       "      <th>2</th>\n",
       "      <td>1</td>\n",
       "      <td>Кира</td>\n",
       "      <td>22</td>\n",
       "      <td>Тюмень</td>\n",
       "      <td>ultra</td>\n",
       "      <td>754.159807</td>\n",
       "      <td>6.232113</td>\n",
       "      <td>2021-04-20</td>\n",
       "      <td>4</td>\n",
       "    </tr>\n",
       "    <tr>\n",
       "      <th>3</th>\n",
       "      <td>1</td>\n",
       "      <td>Кира</td>\n",
       "      <td>22</td>\n",
       "      <td>Тюмень</td>\n",
       "      <td>ultra</td>\n",
       "      <td>2694.783254</td>\n",
       "      <td>18.511000</td>\n",
       "      <td>2021-08-11</td>\n",
       "      <td>8</td>\n",
       "    </tr>\n",
       "    <tr>\n",
       "      <th>4</th>\n",
       "      <td>1</td>\n",
       "      <td>Кира</td>\n",
       "      <td>22</td>\n",
       "      <td>Тюмень</td>\n",
       "      <td>ultra</td>\n",
       "      <td>4028.687306</td>\n",
       "      <td>26.265803</td>\n",
       "      <td>2021-08-28</td>\n",
       "      <td>8</td>\n",
       "    </tr>\n",
       "  </tbody>\n",
       "</table>\n",
       "</div>"
      ],
      "text/plain": [
       "   user_id  name  age    city subscription_type     distance   duration  \\\n",
       "0        1  Кира   22  Тюмень             ultra  4409.919140  25.599769   \n",
       "1        1  Кира   22  Тюмень             ultra  2617.592153  15.816871   \n",
       "2        1  Кира   22  Тюмень             ultra   754.159807   6.232113   \n",
       "3        1  Кира   22  Тюмень             ultra  2694.783254  18.511000   \n",
       "4        1  Кира   22  Тюмень             ultra  4028.687306  26.265803   \n",
       "\n",
       "        date  month  \n",
       "0 2021-01-01      1  \n",
       "1 2021-01-18      1  \n",
       "2 2021-04-20      4  \n",
       "3 2021-08-11      8  \n",
       "4 2021-08-28      8  "
      ]
     },
     "execution_count": 36,
     "metadata": {},
     "output_type": "execute_result"
    }
   ],
   "source": [
    "df_merged_table = df_users.merge(df_rides, on='user_id', how='left')\n",
    "df_merged_table.head(5)"
   ]
  },
  {
   "cell_type": "code",
   "execution_count": 37,
   "id": "6f46611f",
   "metadata": {},
   "outputs": [
    {
     "data": {
      "text/html": [
       "<div>\n",
       "<style scoped>\n",
       "    .dataframe tbody tr th:only-of-type {\n",
       "        vertical-align: middle;\n",
       "    }\n",
       "\n",
       "    .dataframe tbody tr th {\n",
       "        vertical-align: top;\n",
       "    }\n",
       "\n",
       "    .dataframe thead th {\n",
       "        text-align: right;\n",
       "    }\n",
       "</style>\n",
       "<table border=\"1\" class=\"dataframe\">\n",
       "  <thead>\n",
       "    <tr style=\"text-align: right;\">\n",
       "      <th></th>\n",
       "      <th>user_id</th>\n",
       "      <th>name</th>\n",
       "      <th>age</th>\n",
       "      <th>city</th>\n",
       "      <th>subscription_type</th>\n",
       "      <th>distance</th>\n",
       "      <th>duration</th>\n",
       "      <th>date</th>\n",
       "      <th>month</th>\n",
       "      <th>minute_price</th>\n",
       "      <th>start_ride_price</th>\n",
       "      <th>subscription_fee</th>\n",
       "    </tr>\n",
       "  </thead>\n",
       "  <tbody>\n",
       "    <tr>\n",
       "      <th>0</th>\n",
       "      <td>1</td>\n",
       "      <td>Кира</td>\n",
       "      <td>22</td>\n",
       "      <td>Тюмень</td>\n",
       "      <td>ultra</td>\n",
       "      <td>4409.919140</td>\n",
       "      <td>25.599769</td>\n",
       "      <td>2021-01-01</td>\n",
       "      <td>1</td>\n",
       "      <td>6</td>\n",
       "      <td>0</td>\n",
       "      <td>199</td>\n",
       "    </tr>\n",
       "    <tr>\n",
       "      <th>1</th>\n",
       "      <td>1</td>\n",
       "      <td>Кира</td>\n",
       "      <td>22</td>\n",
       "      <td>Тюмень</td>\n",
       "      <td>ultra</td>\n",
       "      <td>2617.592153</td>\n",
       "      <td>15.816871</td>\n",
       "      <td>2021-01-18</td>\n",
       "      <td>1</td>\n",
       "      <td>6</td>\n",
       "      <td>0</td>\n",
       "      <td>199</td>\n",
       "    </tr>\n",
       "    <tr>\n",
       "      <th>2</th>\n",
       "      <td>1</td>\n",
       "      <td>Кира</td>\n",
       "      <td>22</td>\n",
       "      <td>Тюмень</td>\n",
       "      <td>ultra</td>\n",
       "      <td>754.159807</td>\n",
       "      <td>6.232113</td>\n",
       "      <td>2021-04-20</td>\n",
       "      <td>4</td>\n",
       "      <td>6</td>\n",
       "      <td>0</td>\n",
       "      <td>199</td>\n",
       "    </tr>\n",
       "    <tr>\n",
       "      <th>3</th>\n",
       "      <td>1</td>\n",
       "      <td>Кира</td>\n",
       "      <td>22</td>\n",
       "      <td>Тюмень</td>\n",
       "      <td>ultra</td>\n",
       "      <td>2694.783254</td>\n",
       "      <td>18.511000</td>\n",
       "      <td>2021-08-11</td>\n",
       "      <td>8</td>\n",
       "      <td>6</td>\n",
       "      <td>0</td>\n",
       "      <td>199</td>\n",
       "    </tr>\n",
       "    <tr>\n",
       "      <th>4</th>\n",
       "      <td>1</td>\n",
       "      <td>Кира</td>\n",
       "      <td>22</td>\n",
       "      <td>Тюмень</td>\n",
       "      <td>ultra</td>\n",
       "      <td>4028.687306</td>\n",
       "      <td>26.265803</td>\n",
       "      <td>2021-08-28</td>\n",
       "      <td>8</td>\n",
       "      <td>6</td>\n",
       "      <td>0</td>\n",
       "      <td>199</td>\n",
       "    </tr>\n",
       "  </tbody>\n",
       "</table>\n",
       "</div>"
      ],
      "text/plain": [
       "   user_id  name  age    city subscription_type     distance   duration  \\\n",
       "0        1  Кира   22  Тюмень             ultra  4409.919140  25.599769   \n",
       "1        1  Кира   22  Тюмень             ultra  2617.592153  15.816871   \n",
       "2        1  Кира   22  Тюмень             ultra   754.159807   6.232113   \n",
       "3        1  Кира   22  Тюмень             ultra  2694.783254  18.511000   \n",
       "4        1  Кира   22  Тюмень             ultra  4028.687306  26.265803   \n",
       "\n",
       "        date  month  minute_price  start_ride_price  subscription_fee  \n",
       "0 2021-01-01      1             6                 0               199  \n",
       "1 2021-01-18      1             6                 0               199  \n",
       "2 2021-04-20      4             6                 0               199  \n",
       "3 2021-08-11      8             6                 0               199  \n",
       "4 2021-08-28      8             6                 0               199  "
      ]
     },
     "execution_count": 37,
     "metadata": {},
     "output_type": "execute_result"
    }
   ],
   "source": [
    "df_merged_table = df_merged_table.merge(df_subscriptions, on='subscription_type', how='left')\n",
    "df_merged_table.head(5)"
   ]
  },
  {
   "cell_type": "code",
   "execution_count": 38,
   "id": "6c68136e",
   "metadata": {},
   "outputs": [
    {
     "data": {
      "text/plain": [
       "18068"
      ]
     },
     "execution_count": 38,
     "metadata": {},
     "output_type": "execute_result"
    }
   ],
   "source": [
    "df_merged_table.shape[0]"
   ]
  },
  {
   "cell_type": "code",
   "execution_count": 39,
   "id": "23de2dd0",
   "metadata": {},
   "outputs": [
    {
     "data": {
      "text/plain": [
       "ultra    6500\n",
       "Name: subscription_type, dtype: int64"
      ]
     },
     "execution_count": 39,
     "metadata": {},
     "output_type": "execute_result"
    }
   ],
   "source": [
    "# После объединения создадим 2 таблицы пользователи с подпиской и пользователи без подписки\n",
    "df_merged_table_ultra = df_merged_table.query('subscription_type == \"ultra\"')\n",
    "df_merged_table_ultra['subscription_type'].value_counts()"
   ]
  },
  {
   "cell_type": "code",
   "execution_count": 40,
   "id": "5432f291",
   "metadata": {},
   "outputs": [
    {
     "data": {
      "text/plain": [
       "free    11568\n",
       "Name: subscription_type, dtype: int64"
      ]
     },
     "execution_count": 40,
     "metadata": {},
     "output_type": "execute_result"
    }
   ],
   "source": [
    "df_merged_table_free = df_merged_table.query('subscription_type == \"free\"')\n",
    "df_merged_table_free['subscription_type'].value_counts()"
   ]
  },
  {
   "cell_type": "code",
   "execution_count": 41,
   "id": "ac664510",
   "metadata": {},
   "outputs": [
    {
     "data": {
      "text/html": [
       "<div>\n",
       "<style scoped>\n",
       "    .dataframe tbody tr th:only-of-type {\n",
       "        vertical-align: middle;\n",
       "    }\n",
       "\n",
       "    .dataframe tbody tr th {\n",
       "        vertical-align: top;\n",
       "    }\n",
       "\n",
       "    .dataframe thead th {\n",
       "        text-align: right;\n",
       "    }\n",
       "</style>\n",
       "<table border=\"1\" class=\"dataframe\">\n",
       "  <thead>\n",
       "    <tr style=\"text-align: right;\">\n",
       "      <th></th>\n",
       "      <th>user_id</th>\n",
       "      <th>name</th>\n",
       "      <th>age</th>\n",
       "      <th>city</th>\n",
       "      <th>subscription_type</th>\n",
       "      <th>distance</th>\n",
       "      <th>duration</th>\n",
       "      <th>date</th>\n",
       "      <th>month</th>\n",
       "      <th>minute_price</th>\n",
       "      <th>start_ride_price</th>\n",
       "      <th>subscription_fee</th>\n",
       "    </tr>\n",
       "  </thead>\n",
       "  <tbody>\n",
       "    <tr>\n",
       "      <th>0</th>\n",
       "      <td>1</td>\n",
       "      <td>Кира</td>\n",
       "      <td>22</td>\n",
       "      <td>Тюмень</td>\n",
       "      <td>ultra</td>\n",
       "      <td>4409.919140</td>\n",
       "      <td>25.599769</td>\n",
       "      <td>2021-01-01</td>\n",
       "      <td>1</td>\n",
       "      <td>6</td>\n",
       "      <td>0</td>\n",
       "      <td>199</td>\n",
       "    </tr>\n",
       "    <tr>\n",
       "      <th>1</th>\n",
       "      <td>1</td>\n",
       "      <td>Кира</td>\n",
       "      <td>22</td>\n",
       "      <td>Тюмень</td>\n",
       "      <td>ultra</td>\n",
       "      <td>2617.592153</td>\n",
       "      <td>15.816871</td>\n",
       "      <td>2021-01-18</td>\n",
       "      <td>1</td>\n",
       "      <td>6</td>\n",
       "      <td>0</td>\n",
       "      <td>199</td>\n",
       "    </tr>\n",
       "    <tr>\n",
       "      <th>2</th>\n",
       "      <td>1</td>\n",
       "      <td>Кира</td>\n",
       "      <td>22</td>\n",
       "      <td>Тюмень</td>\n",
       "      <td>ultra</td>\n",
       "      <td>754.159807</td>\n",
       "      <td>6.232113</td>\n",
       "      <td>2021-04-20</td>\n",
       "      <td>4</td>\n",
       "      <td>6</td>\n",
       "      <td>0</td>\n",
       "      <td>199</td>\n",
       "    </tr>\n",
       "    <tr>\n",
       "      <th>3</th>\n",
       "      <td>1</td>\n",
       "      <td>Кира</td>\n",
       "      <td>22</td>\n",
       "      <td>Тюмень</td>\n",
       "      <td>ultra</td>\n",
       "      <td>2694.783254</td>\n",
       "      <td>18.511000</td>\n",
       "      <td>2021-08-11</td>\n",
       "      <td>8</td>\n",
       "      <td>6</td>\n",
       "      <td>0</td>\n",
       "      <td>199</td>\n",
       "    </tr>\n",
       "    <tr>\n",
       "      <th>4</th>\n",
       "      <td>1</td>\n",
       "      <td>Кира</td>\n",
       "      <td>22</td>\n",
       "      <td>Тюмень</td>\n",
       "      <td>ultra</td>\n",
       "      <td>4028.687306</td>\n",
       "      <td>26.265803</td>\n",
       "      <td>2021-08-28</td>\n",
       "      <td>8</td>\n",
       "      <td>6</td>\n",
       "      <td>0</td>\n",
       "      <td>199</td>\n",
       "    </tr>\n",
       "    <tr>\n",
       "      <th>5</th>\n",
       "      <td>1</td>\n",
       "      <td>Кира</td>\n",
       "      <td>22</td>\n",
       "      <td>Тюмень</td>\n",
       "      <td>ultra</td>\n",
       "      <td>2770.890808</td>\n",
       "      <td>16.650138</td>\n",
       "      <td>2021-10-09</td>\n",
       "      <td>10</td>\n",
       "      <td>6</td>\n",
       "      <td>0</td>\n",
       "      <td>199</td>\n",
       "    </tr>\n",
       "    <tr>\n",
       "      <th>6</th>\n",
       "      <td>1</td>\n",
       "      <td>Кира</td>\n",
       "      <td>22</td>\n",
       "      <td>Тюмень</td>\n",
       "      <td>ultra</td>\n",
       "      <td>3039.020292</td>\n",
       "      <td>14.927879</td>\n",
       "      <td>2021-10-19</td>\n",
       "      <td>10</td>\n",
       "      <td>6</td>\n",
       "      <td>0</td>\n",
       "      <td>199</td>\n",
       "    </tr>\n",
       "    <tr>\n",
       "      <th>7</th>\n",
       "      <td>1</td>\n",
       "      <td>Кира</td>\n",
       "      <td>22</td>\n",
       "      <td>Тюмень</td>\n",
       "      <td>ultra</td>\n",
       "      <td>2842.118050</td>\n",
       "      <td>23.117468</td>\n",
       "      <td>2021-11-06</td>\n",
       "      <td>11</td>\n",
       "      <td>6</td>\n",
       "      <td>0</td>\n",
       "      <td>199</td>\n",
       "    </tr>\n",
       "    <tr>\n",
       "      <th>8</th>\n",
       "      <td>1</td>\n",
       "      <td>Кира</td>\n",
       "      <td>22</td>\n",
       "      <td>Тюмень</td>\n",
       "      <td>ultra</td>\n",
       "      <td>3412.690668</td>\n",
       "      <td>15.238072</td>\n",
       "      <td>2021-11-14</td>\n",
       "      <td>11</td>\n",
       "      <td>6</td>\n",
       "      <td>0</td>\n",
       "      <td>199</td>\n",
       "    </tr>\n",
       "    <tr>\n",
       "      <th>9</th>\n",
       "      <td>1</td>\n",
       "      <td>Кира</td>\n",
       "      <td>22</td>\n",
       "      <td>Тюмень</td>\n",
       "      <td>ultra</td>\n",
       "      <td>748.690645</td>\n",
       "      <td>15.041884</td>\n",
       "      <td>2021-11-22</td>\n",
       "      <td>11</td>\n",
       "      <td>6</td>\n",
       "      <td>0</td>\n",
       "      <td>199</td>\n",
       "    </tr>\n",
       "  </tbody>\n",
       "</table>\n",
       "</div>"
      ],
      "text/plain": [
       "   user_id  name  age    city subscription_type     distance   duration  \\\n",
       "0        1  Кира   22  Тюмень             ultra  4409.919140  25.599769   \n",
       "1        1  Кира   22  Тюмень             ultra  2617.592153  15.816871   \n",
       "2        1  Кира   22  Тюмень             ultra   754.159807   6.232113   \n",
       "3        1  Кира   22  Тюмень             ultra  2694.783254  18.511000   \n",
       "4        1  Кира   22  Тюмень             ultra  4028.687306  26.265803   \n",
       "5        1  Кира   22  Тюмень             ultra  2770.890808  16.650138   \n",
       "6        1  Кира   22  Тюмень             ultra  3039.020292  14.927879   \n",
       "7        1  Кира   22  Тюмень             ultra  2842.118050  23.117468   \n",
       "8        1  Кира   22  Тюмень             ultra  3412.690668  15.238072   \n",
       "9        1  Кира   22  Тюмень             ultra   748.690645  15.041884   \n",
       "\n",
       "        date  month  minute_price  start_ride_price  subscription_fee  \n",
       "0 2021-01-01      1             6                 0               199  \n",
       "1 2021-01-18      1             6                 0               199  \n",
       "2 2021-04-20      4             6                 0               199  \n",
       "3 2021-08-11      8             6                 0               199  \n",
       "4 2021-08-28      8             6                 0               199  \n",
       "5 2021-10-09     10             6                 0               199  \n",
       "6 2021-10-19     10             6                 0               199  \n",
       "7 2021-11-06     11             6                 0               199  \n",
       "8 2021-11-14     11             6                 0               199  \n",
       "9 2021-11-22     11             6                 0               199  "
      ]
     },
     "execution_count": 41,
     "metadata": {},
     "output_type": "execute_result"
    }
   ],
   "source": [
    "df_merged_table_ultra.head(10)"
   ]
  },
  {
   "cell_type": "code",
   "execution_count": 42,
   "id": "48b77fc3",
   "metadata": {},
   "outputs": [
    {
     "data": {
      "text/html": [
       "<div>\n",
       "<style scoped>\n",
       "    .dataframe tbody tr th:only-of-type {\n",
       "        vertical-align: middle;\n",
       "    }\n",
       "\n",
       "    .dataframe tbody tr th {\n",
       "        vertical-align: top;\n",
       "    }\n",
       "\n",
       "    .dataframe thead th {\n",
       "        text-align: right;\n",
       "    }\n",
       "</style>\n",
       "<table border=\"1\" class=\"dataframe\">\n",
       "  <thead>\n",
       "    <tr style=\"text-align: right;\">\n",
       "      <th></th>\n",
       "      <th>user_id</th>\n",
       "      <th>name</th>\n",
       "      <th>age</th>\n",
       "      <th>city</th>\n",
       "      <th>subscription_type</th>\n",
       "      <th>distance</th>\n",
       "      <th>duration</th>\n",
       "      <th>date</th>\n",
       "      <th>month</th>\n",
       "      <th>minute_price</th>\n",
       "      <th>start_ride_price</th>\n",
       "      <th>subscription_fee</th>\n",
       "    </tr>\n",
       "  </thead>\n",
       "  <tbody>\n",
       "    <tr>\n",
       "      <th>6500</th>\n",
       "      <td>700</td>\n",
       "      <td>Айдар</td>\n",
       "      <td>22</td>\n",
       "      <td>Омск</td>\n",
       "      <td>free</td>\n",
       "      <td>2515.690719</td>\n",
       "      <td>14.944286</td>\n",
       "      <td>2021-01-02</td>\n",
       "      <td>1</td>\n",
       "      <td>8</td>\n",
       "      <td>50</td>\n",
       "      <td>0</td>\n",
       "    </tr>\n",
       "    <tr>\n",
       "      <th>6501</th>\n",
       "      <td>700</td>\n",
       "      <td>Айдар</td>\n",
       "      <td>22</td>\n",
       "      <td>Омск</td>\n",
       "      <td>free</td>\n",
       "      <td>846.932642</td>\n",
       "      <td>16.234663</td>\n",
       "      <td>2021-02-01</td>\n",
       "      <td>2</td>\n",
       "      <td>8</td>\n",
       "      <td>50</td>\n",
       "      <td>0</td>\n",
       "    </tr>\n",
       "    <tr>\n",
       "      <th>6502</th>\n",
       "      <td>700</td>\n",
       "      <td>Айдар</td>\n",
       "      <td>22</td>\n",
       "      <td>Омск</td>\n",
       "      <td>free</td>\n",
       "      <td>4004.434142</td>\n",
       "      <td>20.016628</td>\n",
       "      <td>2021-02-04</td>\n",
       "      <td>2</td>\n",
       "      <td>8</td>\n",
       "      <td>50</td>\n",
       "      <td>0</td>\n",
       "    </tr>\n",
       "    <tr>\n",
       "      <th>6503</th>\n",
       "      <td>700</td>\n",
       "      <td>Айдар</td>\n",
       "      <td>22</td>\n",
       "      <td>Омск</td>\n",
       "      <td>free</td>\n",
       "      <td>1205.911290</td>\n",
       "      <td>9.782872</td>\n",
       "      <td>2021-02-10</td>\n",
       "      <td>2</td>\n",
       "      <td>8</td>\n",
       "      <td>50</td>\n",
       "      <td>0</td>\n",
       "    </tr>\n",
       "    <tr>\n",
       "      <th>6504</th>\n",
       "      <td>700</td>\n",
       "      <td>Айдар</td>\n",
       "      <td>22</td>\n",
       "      <td>Омск</td>\n",
       "      <td>free</td>\n",
       "      <td>3047.379435</td>\n",
       "      <td>17.427673</td>\n",
       "      <td>2021-02-14</td>\n",
       "      <td>2</td>\n",
       "      <td>8</td>\n",
       "      <td>50</td>\n",
       "      <td>0</td>\n",
       "    </tr>\n",
       "    <tr>\n",
       "      <th>6505</th>\n",
       "      <td>700</td>\n",
       "      <td>Айдар</td>\n",
       "      <td>22</td>\n",
       "      <td>Омск</td>\n",
       "      <td>free</td>\n",
       "      <td>4342.002254</td>\n",
       "      <td>22.368009</td>\n",
       "      <td>2021-02-23</td>\n",
       "      <td>2</td>\n",
       "      <td>8</td>\n",
       "      <td>50</td>\n",
       "      <td>0</td>\n",
       "    </tr>\n",
       "    <tr>\n",
       "      <th>6506</th>\n",
       "      <td>700</td>\n",
       "      <td>Айдар</td>\n",
       "      <td>22</td>\n",
       "      <td>Омск</td>\n",
       "      <td>free</td>\n",
       "      <td>3798.334905</td>\n",
       "      <td>18.243756</td>\n",
       "      <td>2021-03-03</td>\n",
       "      <td>3</td>\n",
       "      <td>8</td>\n",
       "      <td>50</td>\n",
       "      <td>0</td>\n",
       "    </tr>\n",
       "    <tr>\n",
       "      <th>6507</th>\n",
       "      <td>700</td>\n",
       "      <td>Айдар</td>\n",
       "      <td>22</td>\n",
       "      <td>Омск</td>\n",
       "      <td>free</td>\n",
       "      <td>2984.551206</td>\n",
       "      <td>15.424899</td>\n",
       "      <td>2021-04-09</td>\n",
       "      <td>4</td>\n",
       "      <td>8</td>\n",
       "      <td>50</td>\n",
       "      <td>0</td>\n",
       "    </tr>\n",
       "    <tr>\n",
       "      <th>6508</th>\n",
       "      <td>700</td>\n",
       "      <td>Айдар</td>\n",
       "      <td>22</td>\n",
       "      <td>Омск</td>\n",
       "      <td>free</td>\n",
       "      <td>3360.107141</td>\n",
       "      <td>16.765497</td>\n",
       "      <td>2021-06-12</td>\n",
       "      <td>6</td>\n",
       "      <td>8</td>\n",
       "      <td>50</td>\n",
       "      <td>0</td>\n",
       "    </tr>\n",
       "    <tr>\n",
       "      <th>6509</th>\n",
       "      <td>700</td>\n",
       "      <td>Айдар</td>\n",
       "      <td>22</td>\n",
       "      <td>Омск</td>\n",
       "      <td>free</td>\n",
       "      <td>2567.543847</td>\n",
       "      <td>11.312160</td>\n",
       "      <td>2021-06-23</td>\n",
       "      <td>6</td>\n",
       "      <td>8</td>\n",
       "      <td>50</td>\n",
       "      <td>0</td>\n",
       "    </tr>\n",
       "  </tbody>\n",
       "</table>\n",
       "</div>"
      ],
      "text/plain": [
       "      user_id   name  age  city subscription_type     distance   duration  \\\n",
       "6500      700  Айдар   22  Омск              free  2515.690719  14.944286   \n",
       "6501      700  Айдар   22  Омск              free   846.932642  16.234663   \n",
       "6502      700  Айдар   22  Омск              free  4004.434142  20.016628   \n",
       "6503      700  Айдар   22  Омск              free  1205.911290   9.782872   \n",
       "6504      700  Айдар   22  Омск              free  3047.379435  17.427673   \n",
       "6505      700  Айдар   22  Омск              free  4342.002254  22.368009   \n",
       "6506      700  Айдар   22  Омск              free  3798.334905  18.243756   \n",
       "6507      700  Айдар   22  Омск              free  2984.551206  15.424899   \n",
       "6508      700  Айдар   22  Омск              free  3360.107141  16.765497   \n",
       "6509      700  Айдар   22  Омск              free  2567.543847  11.312160   \n",
       "\n",
       "           date  month  minute_price  start_ride_price  subscription_fee  \n",
       "6500 2021-01-02      1             8                50                 0  \n",
       "6501 2021-02-01      2             8                50                 0  \n",
       "6502 2021-02-04      2             8                50                 0  \n",
       "6503 2021-02-10      2             8                50                 0  \n",
       "6504 2021-02-14      2             8                50                 0  \n",
       "6505 2021-02-23      2             8                50                 0  \n",
       "6506 2021-03-03      3             8                50                 0  \n",
       "6507 2021-04-09      4             8                50                 0  \n",
       "6508 2021-06-12      6             8                50                 0  \n",
       "6509 2021-06-23      6             8                50                 0  "
      ]
     },
     "execution_count": 42,
     "metadata": {},
     "output_type": "execute_result"
    }
   ],
   "source": [
    "df_merged_table_free.head(10)"
   ]
  },
  {
   "cell_type": "markdown",
   "id": "10f7f4eb",
   "metadata": {},
   "source": [
    "### Визуализируем информацию о расстоянии и времени поездок для пользователей обеих категорий"
   ]
  },
  {
   "cell_type": "code",
   "execution_count": 43,
   "id": "0bd21052",
   "metadata": {},
   "outputs": [
    {
     "data": {
      "image/png": "[encoded data removed]",
      "text/plain": [
       "<Figure size 1200x500 with 2 Axes>"
      ]
     },
     "metadata": {},
     "output_type": "display_data"
    }
   ],
   "source": [
    "df_merged_table_ultra.groupby('user_id').agg({'distance': 'mean','duration': 'mean'}).hist(bins=30, figsize=(12, 5))\n",
    "plt.suptitle('Гистограмма распределения среднего расстояния и времени поездок по каждому пользователей')\n",
    "plt.show()"
   ]
  },
  {
   "cell_type": "code",
   "execution_count": 44,
   "id": "9c884167",
   "metadata": {},
   "outputs": [
    {
     "data": {
      "image/png": "[encoded data removed]",
      "text/plain": [
       "<Figure size 1200x500 with 2 Axes>"
      ]
     },
     "metadata": {},
     "output_type": "display_data"
    }
   ],
   "source": [
    "df_merged_table_ultra[['distance','duration']].hist(bins=20, figsize=(12, 5) )\n",
    "plt.suptitle('Гистограмма распределения расстояния и времени всех поездок пользователей')\n",
    "plt.show()\n"
   ]
  },
  {
   "cell_type": "code",
   "execution_count": 45,
   "id": "24ac94d6",
   "metadata": {},
   "outputs": [
    {
     "data": {
      "text/html": [
       "<div>\n",
       "<style scoped>\n",
       "    .dataframe tbody tr th:only-of-type {\n",
       "        vertical-align: middle;\n",
       "    }\n",
       "\n",
       "    .dataframe tbody tr th {\n",
       "        vertical-align: top;\n",
       "    }\n",
       "\n",
       "    .dataframe thead th {\n",
       "        text-align: right;\n",
       "    }\n",
       "</style>\n",
       "<table border=\"1\" class=\"dataframe\">\n",
       "  <thead>\n",
       "    <tr style=\"text-align: right;\">\n",
       "      <th></th>\n",
       "      <th>distance</th>\n",
       "      <th>duration</th>\n",
       "    </tr>\n",
       "  </thead>\n",
       "  <tbody>\n",
       "    <tr>\n",
       "      <th>count</th>\n",
       "      <td>699.000000</td>\n",
       "      <td>699.000000</td>\n",
       "    </tr>\n",
       "    <tr>\n",
       "      <th>mean</th>\n",
       "      <td>3113.459926</td>\n",
       "      <td>18.574380</td>\n",
       "    </tr>\n",
       "    <tr>\n",
       "      <th>std</th>\n",
       "      <td>299.706136</td>\n",
       "      <td>2.015094</td>\n",
       "    </tr>\n",
       "    <tr>\n",
       "      <th>min</th>\n",
       "      <td>2098.297845</td>\n",
       "      <td>11.385922</td>\n",
       "    </tr>\n",
       "    <tr>\n",
       "      <th>25%</th>\n",
       "      <td>2925.005435</td>\n",
       "      <td>17.278630</td>\n",
       "    </tr>\n",
       "    <tr>\n",
       "      <th>50%</th>\n",
       "      <td>3134.349186</td>\n",
       "      <td>18.585189</td>\n",
       "    </tr>\n",
       "    <tr>\n",
       "      <th>75%</th>\n",
       "      <td>3312.191643</td>\n",
       "      <td>19.789236</td>\n",
       "    </tr>\n",
       "    <tr>\n",
       "      <th>max</th>\n",
       "      <td>3939.773328</td>\n",
       "      <td>26.136000</td>\n",
       "    </tr>\n",
       "  </tbody>\n",
       "</table>\n",
       "</div>"
      ],
      "text/plain": [
       "          distance    duration\n",
       "count   699.000000  699.000000\n",
       "mean   3113.459926   18.574380\n",
       "std     299.706136    2.015094\n",
       "min    2098.297845   11.385922\n",
       "25%    2925.005435   17.278630\n",
       "50%    3134.349186   18.585189\n",
       "75%    3312.191643   19.789236\n",
       "max    3939.773328   26.136000"
      ]
     },
     "execution_count": 45,
     "metadata": {},
     "output_type": "execute_result"
    }
   ],
   "source": [
    "df_merged_table_ultra.groupby('user_id').agg({'distance': 'mean','duration': 'mean'}).describe()"
   ]
  },
  {
   "cell_type": "code",
   "execution_count": 46,
   "id": "8eccccae",
   "metadata": {},
   "outputs": [
    {
     "data": {
      "image/png": "[encoded data removed]",
      "text/plain": [
       "<Figure size 1200x500 with 2 Axes>"
      ]
     },
     "metadata": {},
     "output_type": "display_data"
    }
   ],
   "source": [
    "df_merged_table_free.groupby('user_id').agg({'distance': 'mean','duration': 'mean'}).hist(bins=30, figsize=(12, 5))\n",
    "plt.show()"
   ]
  },
  {
   "cell_type": "code",
   "execution_count": 47,
   "id": "bcaa5a0d",
   "metadata": {},
   "outputs": [
    {
     "data": {
      "image/png": "[encoded data removed]",
      "text/plain": [
       "<Figure size 1200x500 with 2 Axes>"
      ]
     },
     "metadata": {},
     "output_type": "display_data"
    }
   ],
   "source": [
    "df_merged_table_free[['distance','duration']].hist(bins=20, figsize=(12, 5) )\n",
    "plt.suptitle('Гистограмма распределения расстояния и времени всех поездок пользователей')\n",
    "plt.show()"
   ]
  },
  {
   "cell_type": "code",
   "execution_count": 48,
   "id": "6d6aa930",
   "metadata": {},
   "outputs": [
    {
     "data": {
      "text/html": [
       "<div>\n",
       "<style scoped>\n",
       "    .dataframe tbody tr th:only-of-type {\n",
       "        vertical-align: middle;\n",
       "    }\n",
       "\n",
       "    .dataframe tbody tr th {\n",
       "        vertical-align: top;\n",
       "    }\n",
       "\n",
       "    .dataframe thead th {\n",
       "        text-align: right;\n",
       "    }\n",
       "</style>\n",
       "<table border=\"1\" class=\"dataframe\">\n",
       "  <thead>\n",
       "    <tr style=\"text-align: right;\">\n",
       "      <th></th>\n",
       "      <th>user_id</th>\n",
       "      <th>name</th>\n",
       "      <th>age</th>\n",
       "      <th>city</th>\n",
       "      <th>subscription_type</th>\n",
       "      <th>distance</th>\n",
       "      <th>duration</th>\n",
       "      <th>date</th>\n",
       "      <th>month</th>\n",
       "      <th>minute_price</th>\n",
       "      <th>start_ride_price</th>\n",
       "      <th>subscription_fee</th>\n",
       "    </tr>\n",
       "  </thead>\n",
       "  <tbody>\n",
       "    <tr>\n",
       "      <th>0</th>\n",
       "      <td>1</td>\n",
       "      <td>Кира</td>\n",
       "      <td>22</td>\n",
       "      <td>Тюмень</td>\n",
       "      <td>ultra</td>\n",
       "      <td>4409.919140</td>\n",
       "      <td>25.599769</td>\n",
       "      <td>2021-01-01</td>\n",
       "      <td>1</td>\n",
       "      <td>6</td>\n",
       "      <td>0</td>\n",
       "      <td>199</td>\n",
       "    </tr>\n",
       "    <tr>\n",
       "      <th>1</th>\n",
       "      <td>1</td>\n",
       "      <td>Кира</td>\n",
       "      <td>22</td>\n",
       "      <td>Тюмень</td>\n",
       "      <td>ultra</td>\n",
       "      <td>2617.592153</td>\n",
       "      <td>15.816871</td>\n",
       "      <td>2021-01-18</td>\n",
       "      <td>1</td>\n",
       "      <td>6</td>\n",
       "      <td>0</td>\n",
       "      <td>199</td>\n",
       "    </tr>\n",
       "    <tr>\n",
       "      <th>2</th>\n",
       "      <td>1</td>\n",
       "      <td>Кира</td>\n",
       "      <td>22</td>\n",
       "      <td>Тюмень</td>\n",
       "      <td>ultra</td>\n",
       "      <td>754.159807</td>\n",
       "      <td>6.232113</td>\n",
       "      <td>2021-04-20</td>\n",
       "      <td>4</td>\n",
       "      <td>6</td>\n",
       "      <td>0</td>\n",
       "      <td>199</td>\n",
       "    </tr>\n",
       "    <tr>\n",
       "      <th>3</th>\n",
       "      <td>1</td>\n",
       "      <td>Кира</td>\n",
       "      <td>22</td>\n",
       "      <td>Тюмень</td>\n",
       "      <td>ultra</td>\n",
       "      <td>2694.783254</td>\n",
       "      <td>18.511000</td>\n",
       "      <td>2021-08-11</td>\n",
       "      <td>8</td>\n",
       "      <td>6</td>\n",
       "      <td>0</td>\n",
       "      <td>199</td>\n",
       "    </tr>\n",
       "    <tr>\n",
       "      <th>4</th>\n",
       "      <td>1</td>\n",
       "      <td>Кира</td>\n",
       "      <td>22</td>\n",
       "      <td>Тюмень</td>\n",
       "      <td>ultra</td>\n",
       "      <td>4028.687306</td>\n",
       "      <td>26.265803</td>\n",
       "      <td>2021-08-28</td>\n",
       "      <td>8</td>\n",
       "      <td>6</td>\n",
       "      <td>0</td>\n",
       "      <td>199</td>\n",
       "    </tr>\n",
       "    <tr>\n",
       "      <th>...</th>\n",
       "      <td>...</td>\n",
       "      <td>...</td>\n",
       "      <td>...</td>\n",
       "      <td>...</td>\n",
       "      <td>...</td>\n",
       "      <td>...</td>\n",
       "      <td>...</td>\n",
       "      <td>...</td>\n",
       "      <td>...</td>\n",
       "      <td>...</td>\n",
       "      <td>...</td>\n",
       "      <td>...</td>\n",
       "    </tr>\n",
       "    <tr>\n",
       "      <th>18063</th>\n",
       "      <td>1534</td>\n",
       "      <td>Альберт</td>\n",
       "      <td>25</td>\n",
       "      <td>Краснодар</td>\n",
       "      <td>free</td>\n",
       "      <td>3781.098080</td>\n",
       "      <td>19.822962</td>\n",
       "      <td>2021-11-04</td>\n",
       "      <td>11</td>\n",
       "      <td>8</td>\n",
       "      <td>50</td>\n",
       "      <td>0</td>\n",
       "    </tr>\n",
       "    <tr>\n",
       "      <th>18064</th>\n",
       "      <td>1534</td>\n",
       "      <td>Альберт</td>\n",
       "      <td>25</td>\n",
       "      <td>Краснодар</td>\n",
       "      <td>free</td>\n",
       "      <td>2840.423057</td>\n",
       "      <td>21.409799</td>\n",
       "      <td>2021-11-16</td>\n",
       "      <td>11</td>\n",
       "      <td>8</td>\n",
       "      <td>50</td>\n",
       "      <td>0</td>\n",
       "    </tr>\n",
       "    <tr>\n",
       "      <th>18065</th>\n",
       "      <td>1534</td>\n",
       "      <td>Альберт</td>\n",
       "      <td>25</td>\n",
       "      <td>Краснодар</td>\n",
       "      <td>free</td>\n",
       "      <td>3826.185507</td>\n",
       "      <td>18.435051</td>\n",
       "      <td>2021-11-18</td>\n",
       "      <td>11</td>\n",
       "      <td>8</td>\n",
       "      <td>50</td>\n",
       "      <td>0</td>\n",
       "    </tr>\n",
       "    <tr>\n",
       "      <th>18066</th>\n",
       "      <td>1534</td>\n",
       "      <td>Альберт</td>\n",
       "      <td>25</td>\n",
       "      <td>Краснодар</td>\n",
       "      <td>free</td>\n",
       "      <td>2902.308661</td>\n",
       "      <td>16.674362</td>\n",
       "      <td>2021-11-27</td>\n",
       "      <td>11</td>\n",
       "      <td>8</td>\n",
       "      <td>50</td>\n",
       "      <td>0</td>\n",
       "    </tr>\n",
       "    <tr>\n",
       "      <th>18067</th>\n",
       "      <td>1534</td>\n",
       "      <td>Альберт</td>\n",
       "      <td>25</td>\n",
       "      <td>Краснодар</td>\n",
       "      <td>free</td>\n",
       "      <td>2371.711192</td>\n",
       "      <td>15.893917</td>\n",
       "      <td>2021-12-29</td>\n",
       "      <td>12</td>\n",
       "      <td>8</td>\n",
       "      <td>50</td>\n",
       "      <td>0</td>\n",
       "    </tr>\n",
       "  </tbody>\n",
       "</table>\n",
       "<p>18068 rows × 12 columns</p>\n",
       "</div>"
      ],
      "text/plain": [
       "       user_id     name  age       city subscription_type     distance  \\\n",
       "0            1     Кира   22     Тюмень             ultra  4409.919140   \n",
       "1            1     Кира   22     Тюмень             ultra  2617.592153   \n",
       "2            1     Кира   22     Тюмень             ultra   754.159807   \n",
       "3            1     Кира   22     Тюмень             ultra  2694.783254   \n",
       "4            1     Кира   22     Тюмень             ultra  4028.687306   \n",
       "...        ...      ...  ...        ...               ...          ...   \n",
       "18063     1534  Альберт   25  Краснодар              free  3781.098080   \n",
       "18064     1534  Альберт   25  Краснодар              free  2840.423057   \n",
       "18065     1534  Альберт   25  Краснодар              free  3826.185507   \n",
       "18066     1534  Альберт   25  Краснодар              free  2902.308661   \n",
       "18067     1534  Альберт   25  Краснодар              free  2371.711192   \n",
       "\n",
       "        duration       date  month  minute_price  start_ride_price  \\\n",
       "0      25.599769 2021-01-01      1             6                 0   \n",
       "1      15.816871 2021-01-18      1             6                 0   \n",
       "2       6.232113 2021-04-20      4             6                 0   \n",
       "3      18.511000 2021-08-11      8             6                 0   \n",
       "4      26.265803 2021-08-28      8             6                 0   \n",
       "...          ...        ...    ...           ...               ...   \n",
       "18063  19.822962 2021-11-04     11             8                50   \n",
       "18064  21.409799 2021-11-16     11             8                50   \n",
       "18065  18.435051 2021-11-18     11             8                50   \n",
       "18066  16.674362 2021-11-27     11             8                50   \n",
       "18067  15.893917 2021-12-29     12             8                50   \n",
       "\n",
       "       subscription_fee  \n",
       "0                   199  \n",
       "1                   199  \n",
       "2                   199  \n",
       "3                   199  \n",
       "4                   199  \n",
       "...                 ...  \n",
       "18063                 0  \n",
       "18064                 0  \n",
       "18065                 0  \n",
       "18066                 0  \n",
       "18067                 0  \n",
       "\n",
       "[18068 rows x 12 columns]"
      ]
     },
     "execution_count": 48,
     "metadata": {},
     "output_type": "execute_result"
    }
   ],
   "source": [
    "df_merged_table"
   ]
  },
  {
   "cell_type": "code",
   "execution_count": 49,
   "id": "a273c9b4",
   "metadata": {},
   "outputs": [
    {
     "data": {
      "text/html": [
       "<div>\n",
       "<style scoped>\n",
       "    .dataframe tbody tr th:only-of-type {\n",
       "        vertical-align: middle;\n",
       "    }\n",
       "\n",
       "    .dataframe tbody tr th {\n",
       "        vertical-align: top;\n",
       "    }\n",
       "\n",
       "    .dataframe thead th {\n",
       "        text-align: right;\n",
       "    }\n",
       "</style>\n",
       "<table border=\"1\" class=\"dataframe\">\n",
       "  <thead>\n",
       "    <tr style=\"text-align: right;\">\n",
       "      <th></th>\n",
       "      <th>distance</th>\n",
       "      <th>duration</th>\n",
       "    </tr>\n",
       "  </thead>\n",
       "  <tbody>\n",
       "    <tr>\n",
       "      <th>count</th>\n",
       "      <td>835.000000</td>\n",
       "      <td>835.000000</td>\n",
       "    </tr>\n",
       "    <tr>\n",
       "      <th>mean</th>\n",
       "      <td>3047.023441</td>\n",
       "      <td>17.384033</td>\n",
       "    </tr>\n",
       "    <tr>\n",
       "      <th>std</th>\n",
       "      <td>346.570021</td>\n",
       "      <td>1.759845</td>\n",
       "    </tr>\n",
       "    <tr>\n",
       "      <th>min</th>\n",
       "      <td>1630.788427</td>\n",
       "      <td>11.163431</td>\n",
       "    </tr>\n",
       "    <tr>\n",
       "      <th>25%</th>\n",
       "      <td>2820.516763</td>\n",
       "      <td>16.209124</td>\n",
       "    </tr>\n",
       "    <tr>\n",
       "      <th>50%</th>\n",
       "      <td>3057.940909</td>\n",
       "      <td>17.402644</td>\n",
       "    </tr>\n",
       "    <tr>\n",
       "      <th>75%</th>\n",
       "      <td>3276.990199</td>\n",
       "      <td>18.568622</td>\n",
       "    </tr>\n",
       "    <tr>\n",
       "      <th>max</th>\n",
       "      <td>4287.519387</td>\n",
       "      <td>23.069943</td>\n",
       "    </tr>\n",
       "  </tbody>\n",
       "</table>\n",
       "</div>"
      ],
      "text/plain": [
       "          distance    duration\n",
       "count   835.000000  835.000000\n",
       "mean   3047.023441   17.384033\n",
       "std     346.570021    1.759845\n",
       "min    1630.788427   11.163431\n",
       "25%    2820.516763   16.209124\n",
       "50%    3057.940909   17.402644\n",
       "75%    3276.990199   18.568622\n",
       "max    4287.519387   23.069943"
      ]
     },
     "execution_count": 49,
     "metadata": {},
     "output_type": "execute_result"
    }
   ],
   "source": [
    "df_merged_table_free.groupby('user_id').agg({'distance': 'mean','duration': 'mean'}).describe()"
   ]
  },
  {
   "cell_type": "markdown",
   "id": "daa169f1",
   "metadata": {},
   "source": [
    "Между пользователями с подпиской и без подписки не наблюдается сильной разницы. В среднем пользователи с подпиской проезжают на 100 метров больше и тратят в среднем на 1 минуту больше времени."
   ]
  },
  {
   "cell_type": "markdown",
   "id": "75a357dc",
   "metadata": {},
   "source": [
    "Выводы по блоку \"Объединение данных\"\n",
    "* объеденили таблицы в одну единую\n",
    "* расделили на 2 таблицы пользователи с подпиской и без.\n",
    "* Между пользователями с подпиской и без подписки не наблюдается сильной разницы. В среднем пользователи с подпиской проезжают на 100 метров больше и тратят в среднем на 1 минуту больше времени."
   ]
  },
  {
   "cell_type": "markdown",
   "id": "b7590296",
   "metadata": {},
   "source": [
    "## Подсчёт выручки"
   ]
  },
  {
   "cell_type": "code",
   "execution_count": 50,
   "id": "e3ea618a",
   "metadata": {},
   "outputs": [
    {
     "data": {
      "text/html": [
       "<div>\n",
       "<style scoped>\n",
       "    .dataframe tbody tr th:only-of-type {\n",
       "        vertical-align: middle;\n",
       "    }\n",
       "\n",
       "    .dataframe tbody tr th {\n",
       "        vertical-align: top;\n",
       "    }\n",
       "\n",
       "    .dataframe thead th {\n",
       "        text-align: right;\n",
       "    }\n",
       "</style>\n",
       "<table border=\"1\" class=\"dataframe\">\n",
       "  <thead>\n",
       "    <tr style=\"text-align: right;\">\n",
       "      <th></th>\n",
       "      <th>user_id</th>\n",
       "      <th>name</th>\n",
       "      <th>age</th>\n",
       "      <th>city</th>\n",
       "      <th>subscription_type</th>\n",
       "      <th>distance</th>\n",
       "      <th>duration</th>\n",
       "      <th>date</th>\n",
       "      <th>month</th>\n",
       "      <th>minute_price</th>\n",
       "      <th>start_ride_price</th>\n",
       "      <th>subscription_fee</th>\n",
       "    </tr>\n",
       "  </thead>\n",
       "  <tbody>\n",
       "    <tr>\n",
       "      <th>0</th>\n",
       "      <td>1</td>\n",
       "      <td>Кира</td>\n",
       "      <td>22</td>\n",
       "      <td>Тюмень</td>\n",
       "      <td>ultra</td>\n",
       "      <td>4409.919140</td>\n",
       "      <td>26.0</td>\n",
       "      <td>2021-01-01</td>\n",
       "      <td>1</td>\n",
       "      <td>6</td>\n",
       "      <td>0</td>\n",
       "      <td>199</td>\n",
       "    </tr>\n",
       "    <tr>\n",
       "      <th>1</th>\n",
       "      <td>1</td>\n",
       "      <td>Кира</td>\n",
       "      <td>22</td>\n",
       "      <td>Тюмень</td>\n",
       "      <td>ultra</td>\n",
       "      <td>2617.592153</td>\n",
       "      <td>16.0</td>\n",
       "      <td>2021-01-18</td>\n",
       "      <td>1</td>\n",
       "      <td>6</td>\n",
       "      <td>0</td>\n",
       "      <td>199</td>\n",
       "    </tr>\n",
       "    <tr>\n",
       "      <th>2</th>\n",
       "      <td>1</td>\n",
       "      <td>Кира</td>\n",
       "      <td>22</td>\n",
       "      <td>Тюмень</td>\n",
       "      <td>ultra</td>\n",
       "      <td>754.159807</td>\n",
       "      <td>7.0</td>\n",
       "      <td>2021-04-20</td>\n",
       "      <td>4</td>\n",
       "      <td>6</td>\n",
       "      <td>0</td>\n",
       "      <td>199</td>\n",
       "    </tr>\n",
       "  </tbody>\n",
       "</table>\n",
       "</div>"
      ],
      "text/plain": [
       "   user_id  name  age    city subscription_type     distance  duration  \\\n",
       "0        1  Кира   22  Тюмень             ultra  4409.919140      26.0   \n",
       "1        1  Кира   22  Тюмень             ultra  2617.592153      16.0   \n",
       "2        1  Кира   22  Тюмень             ultra   754.159807       7.0   \n",
       "\n",
       "        date  month  minute_price  start_ride_price  subscription_fee  \n",
       "0 2021-01-01      1             6                 0               199  \n",
       "1 2021-01-18      1             6                 0               199  \n",
       "2 2021-04-20      4             6                 0               199  "
      ]
     },
     "execution_count": 50,
     "metadata": {},
     "output_type": "execute_result"
    }
   ],
   "source": [
    "df_merged_table_agrigate = df_merged_table\n",
    "df_merged_table_agrigate['duration'] = np.ceil (df_merged_table_agrigate['duration'])\n",
    "df_merged_table_agrigate.head(3)"
   ]
  },
  {
   "cell_type": "markdown",
   "id": "451342de",
   "metadata": {},
   "source": [
    "Подсчитаем доход от каждой поездки пользователя, добавим стоимость старта при ее наличии"
   ]
  },
  {
   "cell_type": "code",
   "execution_count": 51,
   "id": "2567bcb9",
   "metadata": {},
   "outputs": [
    {
     "data": {
      "text/html": [
       "<div>\n",
       "<style scoped>\n",
       "    .dataframe tbody tr th:only-of-type {\n",
       "        vertical-align: middle;\n",
       "    }\n",
       "\n",
       "    .dataframe tbody tr th {\n",
       "        vertical-align: top;\n",
       "    }\n",
       "\n",
       "    .dataframe thead th {\n",
       "        text-align: right;\n",
       "    }\n",
       "</style>\n",
       "<table border=\"1\" class=\"dataframe\">\n",
       "  <thead>\n",
       "    <tr style=\"text-align: right;\">\n",
       "      <th></th>\n",
       "      <th>user_id</th>\n",
       "      <th>name</th>\n",
       "      <th>age</th>\n",
       "      <th>city</th>\n",
       "      <th>subscription_type</th>\n",
       "      <th>distance</th>\n",
       "      <th>duration</th>\n",
       "      <th>date</th>\n",
       "      <th>month</th>\n",
       "      <th>minute_price</th>\n",
       "      <th>start_ride_price</th>\n",
       "      <th>subscription_fee</th>\n",
       "      <th>income</th>\n",
       "    </tr>\n",
       "  </thead>\n",
       "  <tbody>\n",
       "    <tr>\n",
       "      <th>0</th>\n",
       "      <td>1</td>\n",
       "      <td>Кира</td>\n",
       "      <td>22</td>\n",
       "      <td>Тюмень</td>\n",
       "      <td>ultra</td>\n",
       "      <td>4409.919140</td>\n",
       "      <td>26.0</td>\n",
       "      <td>2021-01-01</td>\n",
       "      <td>1</td>\n",
       "      <td>6</td>\n",
       "      <td>0</td>\n",
       "      <td>199</td>\n",
       "      <td>156.0</td>\n",
       "    </tr>\n",
       "    <tr>\n",
       "      <th>1</th>\n",
       "      <td>1</td>\n",
       "      <td>Кира</td>\n",
       "      <td>22</td>\n",
       "      <td>Тюмень</td>\n",
       "      <td>ultra</td>\n",
       "      <td>2617.592153</td>\n",
       "      <td>16.0</td>\n",
       "      <td>2021-01-18</td>\n",
       "      <td>1</td>\n",
       "      <td>6</td>\n",
       "      <td>0</td>\n",
       "      <td>199</td>\n",
       "      <td>96.0</td>\n",
       "    </tr>\n",
       "    <tr>\n",
       "      <th>2</th>\n",
       "      <td>1</td>\n",
       "      <td>Кира</td>\n",
       "      <td>22</td>\n",
       "      <td>Тюмень</td>\n",
       "      <td>ultra</td>\n",
       "      <td>754.159807</td>\n",
       "      <td>7.0</td>\n",
       "      <td>2021-04-20</td>\n",
       "      <td>4</td>\n",
       "      <td>6</td>\n",
       "      <td>0</td>\n",
       "      <td>199</td>\n",
       "      <td>42.0</td>\n",
       "    </tr>\n",
       "  </tbody>\n",
       "</table>\n",
       "</div>"
      ],
      "text/plain": [
       "   user_id  name  age    city subscription_type     distance  duration  \\\n",
       "0        1  Кира   22  Тюмень             ultra  4409.919140      26.0   \n",
       "1        1  Кира   22  Тюмень             ultra  2617.592153      16.0   \n",
       "2        1  Кира   22  Тюмень             ultra   754.159807       7.0   \n",
       "\n",
       "        date  month  minute_price  start_ride_price  subscription_fee  income  \n",
       "0 2021-01-01      1             6                 0               199   156.0  \n",
       "1 2021-01-18      1             6                 0               199    96.0  \n",
       "2 2021-04-20      4             6                 0               199    42.0  "
      ]
     },
     "execution_count": 51,
     "metadata": {},
     "output_type": "execute_result"
    }
   ],
   "source": [
    "df_merged_table_agrigate['income'] = (df_merged_table_agrigate['duration'] * df_merged_table_agrigate['minute_price']) + df_merged_table_agrigate['start_ride_price']\n",
    "df_merged_table_agrigate.head(3)"
   ]
  },
  {
   "cell_type": "markdown",
   "id": "70e8be57",
   "metadata": {},
   "source": [
    "Сгруппируем данные по пользователю и месяцу"
   ]
  },
  {
   "cell_type": "code",
   "execution_count": 52,
   "id": "66aef28b",
   "metadata": {
    "scrolled": true
   },
   "outputs": [
    {
     "data": {
      "text/html": [
       "<div>\n",
       "<style scoped>\n",
       "    .dataframe tbody tr th:only-of-type {\n",
       "        vertical-align: middle;\n",
       "    }\n",
       "\n",
       "    .dataframe tbody tr th {\n",
       "        vertical-align: top;\n",
       "    }\n",
       "\n",
       "    .dataframe thead th {\n",
       "        text-align: right;\n",
       "    }\n",
       "</style>\n",
       "<table border=\"1\" class=\"dataframe\">\n",
       "  <thead>\n",
       "    <tr style=\"text-align: right;\">\n",
       "      <th></th>\n",
       "      <th>user_id</th>\n",
       "      <th>month</th>\n",
       "      <th>subscription_type</th>\n",
       "      <th>subscription_fee</th>\n",
       "      <th>distance</th>\n",
       "      <th>duration</th>\n",
       "      <th>income</th>\n",
       "    </tr>\n",
       "  </thead>\n",
       "  <tbody>\n",
       "    <tr>\n",
       "      <th>0</th>\n",
       "      <td>1</td>\n",
       "      <td>1</td>\n",
       "      <td>ultra</td>\n",
       "      <td>199</td>\n",
       "      <td>7027.511294</td>\n",
       "      <td>42.0</td>\n",
       "      <td>252.0</td>\n",
       "    </tr>\n",
       "    <tr>\n",
       "      <th>1</th>\n",
       "      <td>1</td>\n",
       "      <td>4</td>\n",
       "      <td>ultra</td>\n",
       "      <td>199</td>\n",
       "      <td>754.159807</td>\n",
       "      <td>7.0</td>\n",
       "      <td>42.0</td>\n",
       "    </tr>\n",
       "    <tr>\n",
       "      <th>2</th>\n",
       "      <td>1</td>\n",
       "      <td>8</td>\n",
       "      <td>ultra</td>\n",
       "      <td>199</td>\n",
       "      <td>6723.470560</td>\n",
       "      <td>46.0</td>\n",
       "      <td>276.0</td>\n",
       "    </tr>\n",
       "    <tr>\n",
       "      <th>3</th>\n",
       "      <td>1</td>\n",
       "      <td>10</td>\n",
       "      <td>ultra</td>\n",
       "      <td>199</td>\n",
       "      <td>5809.911100</td>\n",
       "      <td>32.0</td>\n",
       "      <td>192.0</td>\n",
       "    </tr>\n",
       "    <tr>\n",
       "      <th>4</th>\n",
       "      <td>1</td>\n",
       "      <td>11</td>\n",
       "      <td>ultra</td>\n",
       "      <td>199</td>\n",
       "      <td>7003.499363</td>\n",
       "      <td>56.0</td>\n",
       "      <td>336.0</td>\n",
       "    </tr>\n",
       "    <tr>\n",
       "      <th>...</th>\n",
       "      <td>...</td>\n",
       "      <td>...</td>\n",
       "      <td>...</td>\n",
       "      <td>...</td>\n",
       "      <td>...</td>\n",
       "      <td>...</td>\n",
       "      <td>...</td>\n",
       "    </tr>\n",
       "    <tr>\n",
       "      <th>11326</th>\n",
       "      <td>1534</td>\n",
       "      <td>6</td>\n",
       "      <td>free</td>\n",
       "      <td>0</td>\n",
       "      <td>3409.468534</td>\n",
       "      <td>26.0</td>\n",
       "      <td>308.0</td>\n",
       "    </tr>\n",
       "    <tr>\n",
       "      <th>11327</th>\n",
       "      <td>1534</td>\n",
       "      <td>8</td>\n",
       "      <td>free</td>\n",
       "      <td>0</td>\n",
       "      <td>7622.453034</td>\n",
       "      <td>48.0</td>\n",
       "      <td>484.0</td>\n",
       "    </tr>\n",
       "    <tr>\n",
       "      <th>11328</th>\n",
       "      <td>1534</td>\n",
       "      <td>9</td>\n",
       "      <td>free</td>\n",
       "      <td>0</td>\n",
       "      <td>4928.173852</td>\n",
       "      <td>23.0</td>\n",
       "      <td>234.0</td>\n",
       "    </tr>\n",
       "    <tr>\n",
       "      <th>11329</th>\n",
       "      <td>1534</td>\n",
       "      <td>11</td>\n",
       "      <td>free</td>\n",
       "      <td>0</td>\n",
       "      <td>13350.015305</td>\n",
       "      <td>78.0</td>\n",
       "      <td>824.0</td>\n",
       "    </tr>\n",
       "    <tr>\n",
       "      <th>11330</th>\n",
       "      <td>1534</td>\n",
       "      <td>12</td>\n",
       "      <td>free</td>\n",
       "      <td>0</td>\n",
       "      <td>2371.711192</td>\n",
       "      <td>16.0</td>\n",
       "      <td>178.0</td>\n",
       "    </tr>\n",
       "  </tbody>\n",
       "</table>\n",
       "<p>11331 rows × 7 columns</p>\n",
       "</div>"
      ],
      "text/plain": [
       "       user_id  month subscription_type  subscription_fee      distance  \\\n",
       "0            1      1             ultra               199   7027.511294   \n",
       "1            1      4             ultra               199    754.159807   \n",
       "2            1      8             ultra               199   6723.470560   \n",
       "3            1     10             ultra               199   5809.911100   \n",
       "4            1     11             ultra               199   7003.499363   \n",
       "...        ...    ...               ...               ...           ...   \n",
       "11326     1534      6              free                 0   3409.468534   \n",
       "11327     1534      8              free                 0   7622.453034   \n",
       "11328     1534      9              free                 0   4928.173852   \n",
       "11329     1534     11              free                 0  13350.015305   \n",
       "11330     1534     12              free                 0   2371.711192   \n",
       "\n",
       "       duration  income  \n",
       "0          42.0   252.0  \n",
       "1           7.0    42.0  \n",
       "2          46.0   276.0  \n",
       "3          32.0   192.0  \n",
       "4          56.0   336.0  \n",
       "...         ...     ...  \n",
       "11326      26.0   308.0  \n",
       "11327      48.0   484.0  \n",
       "11328      23.0   234.0  \n",
       "11329      78.0   824.0  \n",
       "11330      16.0   178.0  \n",
       "\n",
       "[11331 rows x 7 columns]"
      ]
     },
     "execution_count": 52,
     "metadata": {},
     "output_type": "execute_result"
    }
   ],
   "source": [
    "df_merged_table_agrigate_grouped = (\n",
    "df_merged_table_agrigate\n",
    "    .groupby(['user_id','month','subscription_type','subscription_fee'])\n",
    "    .agg({'distance': 'sum','duration': 'sum','income': 'sum' })\n",
    "    .reset_index()\n",
    ")\n",
    "df_merged_table_agrigate_grouped"
   ]
  },
  {
   "cell_type": "markdown",
   "id": "e5fcff89",
   "metadata": {},
   "source": [
    "Добавим к доходам от пользователя в месяц стоимость подписки при ее наличии"
   ]
  },
  {
   "cell_type": "code",
   "execution_count": 53,
   "id": "b853d4dd",
   "metadata": {
    "scrolled": true
   },
   "outputs": [
    {
     "data": {
      "text/html": [
       "<div>\n",
       "<style scoped>\n",
       "    .dataframe tbody tr th:only-of-type {\n",
       "        vertical-align: middle;\n",
       "    }\n",
       "\n",
       "    .dataframe tbody tr th {\n",
       "        vertical-align: top;\n",
       "    }\n",
       "\n",
       "    .dataframe thead th {\n",
       "        text-align: right;\n",
       "    }\n",
       "</style>\n",
       "<table border=\"1\" class=\"dataframe\">\n",
       "  <thead>\n",
       "    <tr style=\"text-align: right;\">\n",
       "      <th></th>\n",
       "      <th>user_id</th>\n",
       "      <th>month</th>\n",
       "      <th>subscription_type</th>\n",
       "      <th>subscription_fee</th>\n",
       "      <th>distance</th>\n",
       "      <th>duration</th>\n",
       "      <th>income</th>\n",
       "    </tr>\n",
       "  </thead>\n",
       "  <tbody>\n",
       "    <tr>\n",
       "      <th>0</th>\n",
       "      <td>1</td>\n",
       "      <td>1</td>\n",
       "      <td>ultra</td>\n",
       "      <td>199</td>\n",
       "      <td>7027.511294</td>\n",
       "      <td>42.0</td>\n",
       "      <td>451.0</td>\n",
       "    </tr>\n",
       "    <tr>\n",
       "      <th>1</th>\n",
       "      <td>1</td>\n",
       "      <td>4</td>\n",
       "      <td>ultra</td>\n",
       "      <td>199</td>\n",
       "      <td>754.159807</td>\n",
       "      <td>7.0</td>\n",
       "      <td>241.0</td>\n",
       "    </tr>\n",
       "    <tr>\n",
       "      <th>2</th>\n",
       "      <td>1</td>\n",
       "      <td>8</td>\n",
       "      <td>ultra</td>\n",
       "      <td>199</td>\n",
       "      <td>6723.470560</td>\n",
       "      <td>46.0</td>\n",
       "      <td>475.0</td>\n",
       "    </tr>\n",
       "    <tr>\n",
       "      <th>3</th>\n",
       "      <td>1</td>\n",
       "      <td>10</td>\n",
       "      <td>ultra</td>\n",
       "      <td>199</td>\n",
       "      <td>5809.911100</td>\n",
       "      <td>32.0</td>\n",
       "      <td>391.0</td>\n",
       "    </tr>\n",
       "    <tr>\n",
       "      <th>4</th>\n",
       "      <td>1</td>\n",
       "      <td>11</td>\n",
       "      <td>ultra</td>\n",
       "      <td>199</td>\n",
       "      <td>7003.499363</td>\n",
       "      <td>56.0</td>\n",
       "      <td>535.0</td>\n",
       "    </tr>\n",
       "    <tr>\n",
       "      <th>...</th>\n",
       "      <td>...</td>\n",
       "      <td>...</td>\n",
       "      <td>...</td>\n",
       "      <td>...</td>\n",
       "      <td>...</td>\n",
       "      <td>...</td>\n",
       "      <td>...</td>\n",
       "    </tr>\n",
       "    <tr>\n",
       "      <th>11326</th>\n",
       "      <td>1534</td>\n",
       "      <td>6</td>\n",
       "      <td>free</td>\n",
       "      <td>0</td>\n",
       "      <td>3409.468534</td>\n",
       "      <td>26.0</td>\n",
       "      <td>308.0</td>\n",
       "    </tr>\n",
       "    <tr>\n",
       "      <th>11327</th>\n",
       "      <td>1534</td>\n",
       "      <td>8</td>\n",
       "      <td>free</td>\n",
       "      <td>0</td>\n",
       "      <td>7622.453034</td>\n",
       "      <td>48.0</td>\n",
       "      <td>484.0</td>\n",
       "    </tr>\n",
       "    <tr>\n",
       "      <th>11328</th>\n",
       "      <td>1534</td>\n",
       "      <td>9</td>\n",
       "      <td>free</td>\n",
       "      <td>0</td>\n",
       "      <td>4928.173852</td>\n",
       "      <td>23.0</td>\n",
       "      <td>234.0</td>\n",
       "    </tr>\n",
       "    <tr>\n",
       "      <th>11329</th>\n",
       "      <td>1534</td>\n",
       "      <td>11</td>\n",
       "      <td>free</td>\n",
       "      <td>0</td>\n",
       "      <td>13350.015305</td>\n",
       "      <td>78.0</td>\n",
       "      <td>824.0</td>\n",
       "    </tr>\n",
       "    <tr>\n",
       "      <th>11330</th>\n",
       "      <td>1534</td>\n",
       "      <td>12</td>\n",
       "      <td>free</td>\n",
       "      <td>0</td>\n",
       "      <td>2371.711192</td>\n",
       "      <td>16.0</td>\n",
       "      <td>178.0</td>\n",
       "    </tr>\n",
       "  </tbody>\n",
       "</table>\n",
       "<p>11331 rows × 7 columns</p>\n",
       "</div>"
      ],
      "text/plain": [
       "       user_id  month subscription_type  subscription_fee      distance  \\\n",
       "0            1      1             ultra               199   7027.511294   \n",
       "1            1      4             ultra               199    754.159807   \n",
       "2            1      8             ultra               199   6723.470560   \n",
       "3            1     10             ultra               199   5809.911100   \n",
       "4            1     11             ultra               199   7003.499363   \n",
       "...        ...    ...               ...               ...           ...   \n",
       "11326     1534      6              free                 0   3409.468534   \n",
       "11327     1534      8              free                 0   7622.453034   \n",
       "11328     1534      9              free                 0   4928.173852   \n",
       "11329     1534     11              free                 0  13350.015305   \n",
       "11330     1534     12              free                 0   2371.711192   \n",
       "\n",
       "       duration  income  \n",
       "0          42.0   451.0  \n",
       "1           7.0   241.0  \n",
       "2          46.0   475.0  \n",
       "3          32.0   391.0  \n",
       "4          56.0   535.0  \n",
       "...         ...     ...  \n",
       "11326      26.0   308.0  \n",
       "11327      48.0   484.0  \n",
       "11328      23.0   234.0  \n",
       "11329      78.0   824.0  \n",
       "11330      16.0   178.0  \n",
       "\n",
       "[11331 rows x 7 columns]"
      ]
     },
     "execution_count": 53,
     "metadata": {},
     "output_type": "execute_result"
    }
   ],
   "source": [
    "df_merged_table_agrigate_grouped['income'] = df_merged_table_agrigate_grouped['income'] + df_merged_table_agrigate_grouped['subscription_fee']\n",
    "df_merged_table_agrigate_grouped"
   ]
  },
  {
   "cell_type": "code",
   "execution_count": 54,
   "id": "3015093b",
   "metadata": {},
   "outputs": [
    {
     "data": {
      "text/plain": [
       "3878641.0"
      ]
     },
     "execution_count": 54,
     "metadata": {},
     "output_type": "execute_result"
    }
   ],
   "source": [
    "#выручка от всех пользователей\n",
    "df_merged_table_agrigate_grouped['income'].sum()\n",
    "\n"
   ]
  },
  {
   "cell_type": "code",
   "execution_count": 55,
   "id": "f6b7c3b7",
   "metadata": {},
   "outputs": [
    {
     "data": {
      "text/plain": [
       "1644537.0"
      ]
     },
     "execution_count": 55,
     "metadata": {},
     "output_type": "execute_result"
    }
   ],
   "source": [
    "#выоручка от пользователей с подпиской\n",
    "df_merged_table_agrigate_grouped_ultra = df_merged_table_agrigate_grouped.query('subscription_type == \"ultra\"')\n",
    "df_merged_table_agrigate_grouped_ultra['income'].sum()"
   ]
  },
  {
   "cell_type": "code",
   "execution_count": 56,
   "id": "e1bb5bbf",
   "metadata": {},
   "outputs": [
    {
     "data": {
      "text/plain": [
       "2234104.0"
      ]
     },
     "execution_count": 56,
     "metadata": {},
     "output_type": "execute_result"
    }
   ],
   "source": [
    "#выоручка от пользователей без  подписки\n",
    "df_merged_table_agrigate_grouped_free = df_merged_table_agrigate_grouped.query('subscription_type == \"free\"')\n",
    "df_merged_table_agrigate_grouped_free['income'].sum()"
   ]
  },
  {
   "cell_type": "markdown",
   "id": "1d6d9038",
   "metadata": {},
   "source": [
    "Выводы по блоку \"Подсчет выручки\":\n",
    "* пользователи без подписки принесли сервису (2234104.0) больше денег чем пользователи с подпиской (1644537.0)\n",
    "* всего выручка сервиса составила 3878641.0"
   ]
  },
  {
   "cell_type": "markdown",
   "id": "f2103a67",
   "metadata": {},
   "source": [
    "## Проверка гипотез"
   ]
  },
  {
   "cell_type": "markdown",
   "id": "e4c4b451",
   "metadata": {},
   "source": [
    "### Тратят ли пользователи с подпиской больше времени на поездки"
   ]
  },
  {
   "cell_type": "code",
   "execution_count": 57,
   "id": "09210bac",
   "metadata": {},
   "outputs": [
    {
     "data": {
      "text/plain": [
       "18.54198516280583"
      ]
     },
     "execution_count": 57,
     "metadata": {},
     "output_type": "execute_result"
    }
   ],
   "source": [
    "df_merged_table_ultra['duration'].mean()\n"
   ]
  },
  {
   "cell_type": "code",
   "execution_count": 58,
   "id": "ac090bb2",
   "metadata": {},
   "outputs": [
    {
     "data": {
      "text/plain": [
       "17.39090929866399"
      ]
     },
     "execution_count": 58,
     "metadata": {},
     "output_type": "execute_result"
    }
   ],
   "source": [
    "df_merged_table_free['duration'].mean()"
   ]
  },
  {
   "cell_type": "markdown",
   "id": "d49624bd",
   "metadata": {},
   "source": [
    "Проверим гипотезу\n",
    "\n",
    "- Нулевая гипотеза (Н0): Среднее время поездки пользователей с подпиской и без - равны\n",
    "- Альтернативная гипотеза (Н1): Среднее время поездки пользователей с подпиской больше, чем среднее  время поездки пользователей без подписки"
   ]
  },
  {
   "cell_type": "code",
   "execution_count": 59,
   "id": "65ec936e",
   "metadata": {},
   "outputs": [
    {
     "name": "stdout",
     "output_type": "stream",
     "text": [
      "p-value: 5.675781377128977e-37\n",
      "Отвергаем нулевую гипотезу\n"
     ]
    }
   ],
   "source": [
    "# задаём уровень статистической значимости\n",
    "alpha = 0.05\n",
    "\n",
    "# время первой группы пользователей (с подпиской)\n",
    "first_group_total = df_merged_table_ultra['duration']\n",
    "\n",
    "# время второй группы пользователей (без подпиской)\n",
    "second_group_total = df_merged_table_free['duration']\n",
    "\n",
    "# проводим ttest для двух выборок, в качестве альтернативной используем одностороннюю гипотезу «больше»\n",
    "# т.к. мы не можем утверждать что размеры выборки одинаковы по размеру, а их дисперсии могут быть разными выберем параметр equal_var=False\n",
    "results = st.ttest_ind(first_group_total, second_group_total, alternative='greater', equal_var=False) \n",
    "\n",
    "print(f'p-value: {results.pvalue}')\n",
    "\n",
    "# проверяем p-value\n",
    "if results.pvalue < alpha:\n",
    "    print('Отвергаем нулевую гипотезу')\n",
    "else:\n",
    "    print('Нет оснований отвергнуть нулевую гипотезу')"
   ]
  },
  {
   "cell_type": "markdown",
   "id": "6cbe930c",
   "metadata": {},
   "source": [
    "Полученное значение p-value (~5.675781377128977e-37) меньше заданного уровня значимости, поэтому можно отвергнуть нулевую гипотезу. Есть основания говорить, что пользователи с подпиской тратят больше времени на поездки"
   ]
  },
  {
   "cell_type": "markdown",
   "id": "b45f6cd0",
   "metadata": {},
   "source": [
    "### Расстояние одной поездки в 3130 метров — оптимальное с точки зрения износа самоката. Можно ли сказать, что среднее расстояние, которое проезжают пользователи с подпиской за одну поездку, не превышает 3130 метров? "
   ]
  },
  {
   "cell_type": "markdown",
   "id": "b8278a6f",
   "metadata": {},
   "source": [
    "Проверим гипотезу\n",
    "\n",
    "- Нулевая гипотеза (Н0): Среднее расстояние поездки у пользователей с подпиской равно 3130 м\n",
    "- Альтернативная гипотеза (Н1): Среднее расстояние поездки у пользователей с подпиской больше 3130 м"
   ]
  },
  {
   "cell_type": "code",
   "execution_count": 60,
   "id": "a56bffdc",
   "metadata": {},
   "outputs": [
    {
     "name": "stdout",
     "output_type": "stream",
     "text": [
      "p-значение: 0.9195368847849785\n",
      "Не отвергаем нулевую гипотезу\n"
     ]
    }
   ],
   "source": [
    "distance = df_merged_table_ultra['distance']\n",
    "distance_mean = 3130\n",
    "\n",
    "alpha = 0.05 # уровень статистической значимости\n",
    "\n",
    "results = st.ttest_1samp(\n",
    "    distance, \n",
    "    distance_mean,\n",
    "      alternative='greater')\n",
    "\n",
    "print('p-значение:', results.pvalue)\n",
    "\n",
    "if (results.pvalue < alpha):\n",
    "    print('Отвергаем нулевую гипотезу')\n",
    "else:\n",
    "    print('Не отвергаем нулевую гипотезу') "
   ]
  },
  {
   "cell_type": "code",
   "execution_count": 61,
   "id": "c0cdf790",
   "metadata": {},
   "outputs": [
    {
     "data": {
      "text/plain": [
       "3115.4453880370247"
      ]
     },
     "execution_count": 61,
     "metadata": {},
     "output_type": "execute_result"
    }
   ],
   "source": [
    "df_merged_table_ultra['distance'].mean()"
   ]
  },
  {
   "cell_type": "markdown",
   "id": "1edee8da",
   "metadata": {},
   "source": [
    "Не отвергаем нулевую гипотезу. В среднем пользователи с подпиской проезжают 3115 метров"
   ]
  },
  {
   "cell_type": "markdown",
   "id": "6ea08ebb",
   "metadata": {},
   "source": [
    "### Будет ли помесячная выручка от пользователей с подпиской по месяцам выше, чем выручка от пользователей без подписки"
   ]
  },
  {
   "cell_type": "code",
   "execution_count": 62,
   "id": "9c6a68e7",
   "metadata": {},
   "outputs": [
    {
     "data": {
      "text/plain": [
       "362.7921906022502"
      ]
     },
     "execution_count": 62,
     "metadata": {},
     "output_type": "execute_result"
    }
   ],
   "source": [
    "# средняя выручка от пользователей с подпиской\n",
    "df_merged_table_agrigate_grouped_ultra['income'].mean()"
   ]
  },
  {
   "cell_type": "code",
   "execution_count": 63,
   "id": "63359e39",
   "metadata": {},
   "outputs": [
    {
     "data": {
      "text/plain": [
       "328.6413651073845"
      ]
     },
     "execution_count": 63,
     "metadata": {},
     "output_type": "execute_result"
    }
   ],
   "source": [
    "# средняя выручка от пользователей без подписки\n",
    "df_merged_table_agrigate_grouped_free['income'].mean()"
   ]
  },
  {
   "cell_type": "markdown",
   "id": "79207ba0",
   "metadata": {},
   "source": [
    "Проверим гипотезу\n",
    "\n",
    "- Нулевая гипотеза (Н0): Средняя помесячная выручка от пользователей с подпиской и без - равны\n",
    "- Альтернативная гипотеза (Н1): Средняя помесячная выручка пользователей с подпиской больше, чем среднее значение трат пользователей без подписки"
   ]
  },
  {
   "cell_type": "code",
   "execution_count": 64,
   "id": "d7250653",
   "metadata": {},
   "outputs": [
    {
     "name": "stdout",
     "output_type": "stream",
     "text": [
      "p-value: 8.874140893976874e-40\n",
      "Отвергаем нулевую гипотезу\n"
     ]
    }
   ],
   "source": [
    "# задаём уровень статистической значимости\n",
    "alpha = 0.05\n",
    "\n",
    "# траты первой группы пользователей (с подпиской)\n",
    "first_group_total = df_merged_table_agrigate_grouped_ultra['income']\n",
    "\n",
    "# траты второй группы пользователей (без подпиской)\n",
    "second_group_total = df_merged_table_agrigate_grouped_free['income']\n",
    "\n",
    "# проводим ttest для двух выборок, в качестве альтернативной используем одностороннюю гипотезу «больше»\n",
    "# т.к. мы не можем утверждать что размеры выборки одинаковы по размеру, а их дисперсии могут быть разными выберем параметр equal_var=False\n",
    "results = st.ttest_ind(first_group_total, second_group_total, alternative='greater', equal_var=False)\n",
    "\n",
    "print(f'p-value: {results.pvalue}')\n",
    "\n",
    "# проверяем p-value\n",
    "if results.pvalue < alpha:\n",
    "    print('Отвергаем нулевую гипотезу')\n",
    "else:\n",
    "    print('Нет оснований отвергнуть нулевую гипотезу')"
   ]
  },
  {
   "cell_type": "markdown",
   "id": "8010f163",
   "metadata": {},
   "source": [
    "Полученное значение p-value (~8.874140893976874e-40) меньше заданного уровня значимости, поэтому можно отвергнуть нулевую гипотезу. Есть основания говорить, что пользователи с подпиской тратят в сервисе больше денег"
   ]
  },
  {
   "cell_type": "markdown",
   "id": "8eb60541",
   "metadata": {},
   "source": [
    "Выводы по блоку \"Проверка гипотез\"\n",
    "* Тратят ли пользователи с подпиской больше времени на поездки - Полученное значение p-value (~5.675781377128977e-37) меньше заданного уровня значимости, поэтому можно отвергнуть нулевую гипотезу. Есть основания говорить, что пользователи с подпиской тратят больше времени на поездки\n",
    "* Расстояние одной поездки в 3130 метров — оптимальное с точки зрения износа самоката. Можно ли сказать, что среднее расстояние, которое проезжают пользователи с подпиской за одну поездку, не превышает 3130 метров?  - Не отвергаем нулевую гипотезу. В среднем пользователи с подпиской проезжают 3115 метров\n",
    "* Будет ли помесячная выручка от пользователей с подпиской по месяцам выше, чем выручка от пользователей без подписки - Полученное значение p-value (~8.874140893976874e-40) меньше заданного уровня значимости, поэтому можно отвергнуть нулевую гипотезу. Есть основания говорить, что пользователи с подпиской тратят в сервисе больше денег"
   ]
  },
  {
   "cell_type": "markdown",
   "id": "d820098b",
   "metadata": {},
   "source": [
    "## Распределения"
   ]
  },
  {
   "cell_type": "markdown",
   "id": "271f9f4c",
   "metadata": {},
   "source": [
    "Отделу маркетинга GoFast поставили задачу: нужно провести акцию с раздачей промокодов на один бесплатный месяц подписки, в рамках которой как минимум 100 существующих клиентов должны продлить эту подписку. То есть по завершении периода действия подписки пользователь может либо отказаться от неё, либо продлить, совершив соответствующий платёж. \n",
    "Эта акция уже проводилась ранее и по итогу выяснилось, что после бесплатного пробного периода подписку продлевают 10 % пользователей. Выясните, какое минимальное количество промокодов нужно разослать, чтобы вероятность не выполнить план была примерно 5 %. Подберите параметры распределения, описывающего эту ситуацию, постройте график распределения и сформулируйте ответ на вопрос о количестве промокодов."
   ]
  },
  {
   "cell_type": "code",
   "execution_count": 65,
   "id": "f9d70f6c",
   "metadata": {},
   "outputs": [
    {
     "name": "stdout",
     "output_type": "stream",
     "text": [
      "Минимальное количество промокодов:  1161\n"
     ]
    },
    {
     "data": {
      "image/png": "[encoded data removed]",
      "text/plain": [
       "<Figure size 640x480 with 1 Axes>"
      ]
     },
     "metadata": {},
     "output_type": "display_data"
    },
    {
     "name": "stdout",
     "output_type": "stream",
     "text": [
      "Вероятно получить менее 100 продления подписок:  0.05762489347496267\n"
     ]
    }
   ],
   "source": [
    "p = 0.1 # вероятность того, что подписка будет продлена\n",
    "#n = 854 # количество рассылок, для вероятности в 5% НЕ выпонить план\n",
    "for n in range(0, 1800):\n",
    "    if binom.cdf(99, n, p) <= 0.05:\n",
    "      print(\"Минимальное количество промокодов: \", n)\n",
    "      break\n",
    "\n",
    "distr = []\n",
    "\n",
    "#for k in range(0, n + 1):\n",
    "#    choose = factorial(n) / (factorial(k) * factorial(n - k))\n",
    "#    prob = choose * p**k * (1 - p)**(n - k) \n",
    "#    distr.append(prob)\n",
    "#plt.figure(figsize=(10, 5))    \n",
    "#plt.bar(range(0, n + 1), distr)\n",
    "#plt.grid()\n",
    "x = range(n + 1)\n",
    "y = binom.pmf(x, n, p)\n",
    "plt.title('Биномиальное распредиление')\n",
    "plt.xlabel('количество успехов')\n",
    "plt.plot(x, y)\n",
    "plt.show()\n",
    "\n",
    "# математическое ожидание\n",
    "mu = p * n\n",
    "# стандартное отклонение\n",
    "sigma = (n * p * (1 - p)) ** 0.5\n",
    "\n",
    "# задаём нормальное распределение по mu и sigma\n",
    "distr = st.norm(mu, sigma) \n",
    "\n",
    "# значение, для которого хотим найти вероятность (в нашем случае 100)\n",
    "x = 100\n",
    "# считаем вероятность получить значение, равное x или меньше \n",
    "result = distr.cdf(x)\n",
    "print(\"Вероятно получить менее 100 продления подписок: \", result)"
   ]
  },
  {
   "cell_type": "markdown",
   "id": "a8e25704",
   "metadata": {},
   "source": [
    "Для того чтобы выполнить план с вероятностью 5% что будет менее 100 продлений подписок -  необходимо отправить 1161 промокод"
   ]
  },
  {
   "cell_type": "markdown",
   "id": "5c57cc97",
   "metadata": {},
   "source": [
    "## Выводы по проекту"
   ]
  },
  {
   "cell_type": "markdown",
   "id": "0c0c9962",
   "metadata": {},
   "source": [
    "Выводы по блоку \"предобработка данных\":\n",
    "* Приведен столбец date в датафрейме rides к типу даты pandas\n",
    "* Создан новый столбец с номером месяца на основе столбца date\n",
    "* В датафрейме users обнаружены полные дубликаты строк с данными пользователей. Всего 31 дубль, что составляет 1.98% от всего датафрейма. Удалено.\n",
    "* Дубликаты в датафрейме rides отсутсвуют\n",
    "* Набор данных о времени и дистанции в датафрейме rides имеет нормальное распределение\n",
    "\n",
    "Выводы по блоку \"Исследовательский анализ данных\"\n",
    "* Больше всего пользователей в Пятигорске\n",
    "* Пользователей без подписки больше 835 чем пользователей с подпиской 699\n",
    "* Основной возраст пользователей распределен от 20 до 30 лет. Медианное значение возраста пользователей 25 лет\n",
    "* Средняя поездка одного пользователся около 3000 метров , чаще всего пользователи проезжают от 2500 до 3500 метров.\n",
    "* В среднем минимальная поездка одного пользователся порядка 900 метров, чаще всего пользователи проезжают минимум от 400 до 2000 метров\n",
    "* В среднем максимальная поездка одного пользователся составляет 4600 метров, чаще всего пользователи проезжают максимум от 4000 до 5000 метров\n",
    "* Средняя продолжительность одной поездки 17 минут. Чаще всего продолжительность поездки лежит в диапазоне от 13 до 22 минут. Присутсвует небольшое количество выбросов в диапазоне 0.5 минут и свыше 33 минут\n",
    "* 95 строк имеют продолжительность поездки 0.5 минуты при этом очень большие дистанции, аномалия похожа на сбой в системе учета.\n",
    "* Свыше 33 минут поездки выглядят впоне приемлемо.\n",
    "\n",
    "Выводы по блоку \"Объединение данных\"\n",
    "* объеденили таблицы в одну единую\n",
    "* расделили на 2 таблицы пользователи с подпиской и без.\n",
    "* Между пользователями с подпиской и без подписки не наблюдается сильной разницы. В среднем пользователи с подпиской проезжают на 100 метров больше и тратят в среднем на 1 минуту больше времени.\n",
    "\n",
    "Выводы по блоку \"Подсчет выручки\":\n",
    "* пользователи без подписки принесли сервису (2234104.0) больше денег чем пользователи с подпиской (1644537.0)\n",
    "* всего выручка сервиса составила 3878641.0\n",
    "\n",
    "Выводы по блоку \"Проверка гипотез\"\n",
    "* Тратят ли пользователи с подпиской больше времени на поездки - Полученное значение p-value (~5.675781377128977e-37) меньше заданного уровня значимости, поэтому можно отвергнуть нулевую гипотезу. Есть основания говорить, что пользователи с подпиской тратят больше времени на поездки\n",
    "* Расстояние одной поездки в 3130 метров — оптимальное с точки зрения износа самоката. Можно ли сказать, что среднее расстояние, которое проезжают пользователи с подпиской за одну поездку, не превышает 3130 метров?  - Не отвергаем нулевую гипотезу. В среднем пользователи с подпиской проезжают 3115 метров\n",
    "* Будет ли помесячная выручка от пользователей с подпиской по месяцам выше, чем выручка от пользователей без подписки - Полученное значение p-value (~8.874140893976874e-40) меньше заданного уровня значимости, поэтому можно отвергнуть нулевую гипотезу. Есть основания говорить, что пользователи с подпиской тратят в сервисе больше денег\n",
    "\n",
    "\n",
    "Общий вывод:\n",
    "Данные предоставлены в хорошем виде.\n",
    "В данных проявлялись несколько дублей, вероятно из-за задвоения при регистрации. \n",
    "\n",
    "95 строк имеют продолжительность поездки 0.5 минуты при этом очень большие дистанции, аномалия похожа на сбой в системе учета\n",
    "Метрики сервиса и выручка выглядят в норме.\n",
    "\n",
    "Реккомендации: для увеличения прибыли сервиса - перевести больше пользователей из бесплатной подписки на платную, т.к. пользователи с подпиской тратят больше денег.\n"
   ]
  },
  {
   "cell_type": "code",
   "execution_count": null,
   "id": "8ab011fd",
   "metadata": {},
   "outputs": [],
   "source": []
  }
 ],
 "metadata": {
  "ExecuteTimeLog": [
   {
    "duration": 1435,
    "start_time": "2023-12-21T09:37:09.189Z"
   },
   {
    "duration": 121,
    "start_time": "2023-12-21T09:37:10.626Z"
   },
   {
    "duration": 13,
    "start_time": "2023-12-21T09:37:10.749Z"
   },
   {
    "duration": 230,
    "start_time": "2023-12-21T09:37:10.763Z"
   },
   {
    "duration": 12,
    "start_time": "2023-12-21T09:37:10.997Z"
   },
   {
    "duration": 94,
    "start_time": "2023-12-21T09:37:11.010Z"
   },
   {
    "duration": 8,
    "start_time": "2023-12-21T09:37:11.105Z"
   },
   {
    "duration": 11,
    "start_time": "2023-12-21T09:37:11.115Z"
   },
   {
    "duration": 12,
    "start_time": "2023-12-21T09:37:11.128Z"
   },
   {
    "duration": 9,
    "start_time": "2023-12-21T09:37:11.142Z"
   },
   {
    "duration": 24,
    "start_time": "2023-12-21T09:37:11.153Z"
   },
   {
    "duration": 14,
    "start_time": "2023-12-21T09:37:11.180Z"
   },
   {
    "duration": 16,
    "start_time": "2023-12-21T09:37:46.215Z"
   },
   {
    "duration": 16,
    "start_time": "2023-12-21T09:38:04.172Z"
   },
   {
    "duration": 47,
    "start_time": "2023-12-21T17:36:37.504Z"
   },
   {
    "duration": 6,
    "start_time": "2023-12-21T17:38:30.888Z"
   },
   {
    "duration": 1310,
    "start_time": "2023-12-21T17:38:34.788Z"
   },
   {
    "duration": 129,
    "start_time": "2023-12-21T17:38:36.100Z"
   },
   {
    "duration": 10,
    "start_time": "2023-12-21T17:38:36.231Z"
   },
   {
    "duration": 117,
    "start_time": "2023-12-21T17:38:36.242Z"
   },
   {
    "duration": 8,
    "start_time": "2023-12-21T17:38:36.361Z"
   },
   {
    "duration": 103,
    "start_time": "2023-12-21T17:38:36.370Z"
   },
   {
    "duration": 6,
    "start_time": "2023-12-21T17:38:36.475Z"
   },
   {
    "duration": 22,
    "start_time": "2023-12-21T17:38:36.482Z"
   },
   {
    "duration": 21,
    "start_time": "2023-12-21T17:38:36.506Z"
   },
   {
    "duration": 4,
    "start_time": "2023-12-21T17:38:36.528Z"
   },
   {
    "duration": 17,
    "start_time": "2023-12-21T17:38:36.533Z"
   },
   {
    "duration": 14,
    "start_time": "2023-12-21T17:38:36.551Z"
   },
   {
    "duration": 6,
    "start_time": "2023-12-21T17:38:36.566Z"
   },
   {
    "duration": 14,
    "start_time": "2023-12-21T17:38:36.574Z"
   },
   {
    "duration": 11,
    "start_time": "2023-12-21T17:38:36.589Z"
   },
   {
    "duration": 15,
    "start_time": "2023-12-21T17:38:36.602Z"
   },
   {
    "duration": 192,
    "start_time": "2023-12-21T17:38:36.619Z"
   },
   {
    "duration": 136,
    "start_time": "2023-12-21T17:38:36.812Z"
   },
   {
    "duration": 6,
    "start_time": "2023-12-21T17:38:36.949Z"
   },
   {
    "duration": 189,
    "start_time": "2023-12-21T17:38:36.956Z"
   },
   {
    "duration": 6,
    "start_time": "2023-12-21T17:38:37.146Z"
   },
   {
    "duration": 7,
    "start_time": "2023-12-21T17:38:37.164Z"
   },
   {
    "duration": 118,
    "start_time": "2023-12-21T17:38:37.173Z"
   },
   {
    "duration": 11,
    "start_time": "2023-12-21T17:38:37.292Z"
   },
   {
    "duration": 27,
    "start_time": "2023-12-21T17:38:37.304Z"
   },
   {
    "duration": 146,
    "start_time": "2023-12-21T17:38:37.333Z"
   },
   {
    "duration": 12,
    "start_time": "2023-12-21T17:38:37.480Z"
   },
   {
    "duration": 166,
    "start_time": "2023-12-21T17:38:37.494Z"
   },
   {
    "duration": 12,
    "start_time": "2023-12-21T17:38:37.665Z"
   },
   {
    "duration": 155,
    "start_time": "2023-12-21T17:38:37.679Z"
   },
   {
    "duration": 9,
    "start_time": "2023-12-21T17:38:37.835Z"
   },
   {
    "duration": 258,
    "start_time": "2023-12-21T17:38:37.845Z"
   },
   {
    "duration": 119,
    "start_time": "2023-12-21T17:38:38.104Z"
   },
   {
    "duration": 14,
    "start_time": "2023-12-21T17:38:38.224Z"
   },
   {
    "duration": 28,
    "start_time": "2023-12-21T17:38:38.240Z"
   },
   {
    "duration": 15,
    "start_time": "2023-12-21T17:38:38.270Z"
   },
   {
    "duration": 17,
    "start_time": "2023-12-21T17:38:38.287Z"
   },
   {
    "duration": 4,
    "start_time": "2023-12-21T17:38:38.305Z"
   },
   {
    "duration": 11,
    "start_time": "2023-12-21T17:38:38.310Z"
   },
   {
    "duration": 9,
    "start_time": "2023-12-21T17:38:38.322Z"
   },
   {
    "duration": 12,
    "start_time": "2023-12-21T17:38:38.366Z"
   },
   {
    "duration": 13,
    "start_time": "2023-12-21T17:38:38.380Z"
   },
   {
    "duration": 327,
    "start_time": "2023-12-21T17:38:38.394Z"
   },
   {
    "duration": 18,
    "start_time": "2023-12-21T17:38:38.723Z"
   },
   {
    "duration": 261,
    "start_time": "2023-12-21T17:38:38.743Z"
   },
   {
    "duration": 14,
    "start_time": "2023-12-21T17:38:39.006Z"
   },
   {
    "duration": 10,
    "start_time": "2023-12-21T17:38:39.022Z"
   },
   {
    "duration": 12,
    "start_time": "2023-12-21T17:38:39.034Z"
   },
   {
    "duration": 25,
    "start_time": "2023-12-21T17:38:39.066Z"
   },
   {
    "duration": 14,
    "start_time": "2023-12-21T17:38:39.092Z"
   },
   {
    "duration": 4,
    "start_time": "2023-12-21T17:38:39.107Z"
   },
   {
    "duration": 10,
    "start_time": "2023-12-21T17:38:39.112Z"
   },
   {
    "duration": 6,
    "start_time": "2023-12-21T17:38:39.123Z"
   },
   {
    "duration": 21,
    "start_time": "2023-12-21T17:38:39.130Z"
   },
   {
    "duration": 4,
    "start_time": "2023-12-21T17:38:39.166Z"
   },
   {
    "duration": 10,
    "start_time": "2023-12-21T17:38:39.172Z"
   },
   {
    "duration": 6,
    "start_time": "2023-12-21T17:38:39.183Z"
   },
   {
    "duration": 4,
    "start_time": "2023-12-21T17:38:39.190Z"
   },
   {
    "duration": 5,
    "start_time": "2023-12-21T17:38:39.195Z"
   },
   {
    "duration": 10,
    "start_time": "2023-12-21T17:38:39.201Z"
   },
   {
    "duration": 6,
    "start_time": "2023-12-21T17:38:39.212Z"
   },
   {
    "duration": 1234,
    "start_time": "2023-12-21T17:38:39.219Z"
   },
   {
    "duration": 152,
    "start_time": "2023-12-21T17:40:14.675Z"
   },
   {
    "duration": 144,
    "start_time": "2023-12-21T17:40:16.099Z"
   },
   {
    "duration": 130,
    "start_time": "2023-12-21T17:45:27.950Z"
   },
   {
    "duration": 169,
    "start_time": "2023-12-21T17:47:01.854Z"
   },
   {
    "duration": 165,
    "start_time": "2023-12-21T17:47:10.643Z"
   },
   {
    "duration": 191,
    "start_time": "2023-12-21T17:47:32.276Z"
   },
   {
    "duration": 275,
    "start_time": "2023-12-21T17:47:57.757Z"
   },
   {
    "duration": 182,
    "start_time": "2023-12-21T17:55:06.115Z"
   },
   {
    "duration": 167,
    "start_time": "2023-12-21T17:55:25.188Z"
   },
   {
    "duration": 192,
    "start_time": "2023-12-21T17:58:01.338Z"
   },
   {
    "duration": 1469,
    "start_time": "2023-12-21T18:04:09.588Z"
   },
   {
    "duration": 263,
    "start_time": "2023-12-21T18:25:08.677Z"
   },
   {
    "duration": 342,
    "start_time": "2023-12-21T18:25:16.653Z"
   },
   {
    "duration": 251,
    "start_time": "2023-12-21T18:25:25.096Z"
   },
   {
    "duration": 397,
    "start_time": "2023-12-21T18:29:09.399Z"
   },
   {
    "duration": 329,
    "start_time": "2023-12-21T18:31:50.372Z"
   },
   {
    "duration": 272,
    "start_time": "2023-12-21T18:32:08.560Z"
   },
   {
    "duration": 281,
    "start_time": "2023-12-21T18:32:36.612Z"
   },
   {
    "duration": 268,
    "start_time": "2023-12-21T18:33:23.371Z"
   },
   {
    "duration": 298,
    "start_time": "2023-12-21T18:34:03.576Z"
   },
   {
    "duration": 71,
    "start_time": "2023-12-21T18:38:47.690Z"
   },
   {
    "duration": 370,
    "start_time": "2023-12-21T19:27:34.408Z"
   },
   {
    "duration": 11,
    "start_time": "2023-12-21T19:52:30.919Z"
   },
   {
    "duration": 3,
    "start_time": "2023-12-21T19:52:49.808Z"
   },
   {
    "duration": 169,
    "start_time": "2023-12-21T19:52:57.962Z"
   },
   {
    "duration": 120,
    "start_time": "2023-12-21T19:54:14.033Z"
   },
   {
    "duration": 9,
    "start_time": "2023-12-21T19:54:51.825Z"
   },
   {
    "duration": 115,
    "start_time": "2023-12-21T19:55:03.124Z"
   },
   {
    "duration": 169,
    "start_time": "2023-12-21T19:58:30.085Z"
   },
   {
    "duration": 1570,
    "start_time": "2023-12-21T20:00:34.716Z"
   },
   {
    "duration": 143,
    "start_time": "2023-12-21T20:00:48.925Z"
   },
   {
    "duration": 166,
    "start_time": "2023-12-21T20:01:06.083Z"
   },
   {
    "duration": 273,
    "start_time": "2023-12-21T20:04:23.674Z"
   },
   {
    "duration": 248,
    "start_time": "2023-12-21T20:08:25.218Z"
   },
   {
    "duration": 1156,
    "start_time": "2023-12-21T22:48:59.413Z"
   },
   {
    "duration": 74,
    "start_time": "2023-12-21T22:49:00.571Z"
   },
   {
    "duration": 11,
    "start_time": "2023-12-21T22:49:00.647Z"
   },
   {
    "duration": 97,
    "start_time": "2023-12-21T22:49:00.660Z"
   },
   {
    "duration": 9,
    "start_time": "2023-12-21T22:49:00.759Z"
   },
   {
    "duration": 76,
    "start_time": "2023-12-21T22:49:00.770Z"
   },
   {
    "duration": 7,
    "start_time": "2023-12-21T22:49:00.848Z"
   },
   {
    "duration": 34,
    "start_time": "2023-12-21T22:49:00.857Z"
   },
   {
    "duration": 29,
    "start_time": "2023-12-21T22:49:00.893Z"
   },
   {
    "duration": 19,
    "start_time": "2023-12-21T22:49:00.925Z"
   },
   {
    "duration": 46,
    "start_time": "2023-12-21T22:49:00.946Z"
   },
   {
    "duration": 39,
    "start_time": "2023-12-21T22:49:00.994Z"
   },
   {
    "duration": 37,
    "start_time": "2023-12-21T22:49:01.035Z"
   },
   {
    "duration": 38,
    "start_time": "2023-12-21T22:49:01.073Z"
   },
   {
    "duration": 30,
    "start_time": "2023-12-21T22:49:01.113Z"
   },
   {
    "duration": 37,
    "start_time": "2023-12-21T22:49:01.144Z"
   },
   {
    "duration": 181,
    "start_time": "2023-12-21T22:49:01.183Z"
   },
   {
    "duration": 144,
    "start_time": "2023-12-21T22:49:01.365Z"
   },
   {
    "duration": 5,
    "start_time": "2023-12-21T22:49:01.510Z"
   },
   {
    "duration": 182,
    "start_time": "2023-12-21T22:49:01.516Z"
   },
   {
    "duration": 5,
    "start_time": "2023-12-21T22:49:01.700Z"
   },
   {
    "duration": 24,
    "start_time": "2023-12-21T22:49:01.706Z"
   },
   {
    "duration": 142,
    "start_time": "2023-12-21T22:49:01.732Z"
   },
   {
    "duration": 13,
    "start_time": "2023-12-21T22:49:01.875Z"
   },
   {
    "duration": 19,
    "start_time": "2023-12-21T22:49:01.890Z"
   },
   {
    "duration": 159,
    "start_time": "2023-12-21T22:49:01.911Z"
   },
   {
    "duration": 13,
    "start_time": "2023-12-21T22:49:02.072Z"
   },
   {
    "duration": 177,
    "start_time": "2023-12-21T22:49:02.088Z"
   },
   {
    "duration": 22,
    "start_time": "2023-12-21T22:49:02.267Z"
   },
   {
    "duration": 305,
    "start_time": "2023-12-21T22:49:02.290Z"
   },
   {
    "duration": 214,
    "start_time": "2023-12-21T22:49:02.597Z"
   },
   {
    "duration": 7,
    "start_time": "2023-12-21T22:49:02.812Z"
   },
   {
    "duration": 206,
    "start_time": "2023-12-21T22:49:02.820Z"
   },
   {
    "duration": 122,
    "start_time": "2023-12-21T22:49:03.028Z"
   },
   {
    "duration": 15,
    "start_time": "2023-12-21T22:49:03.152Z"
   },
   {
    "duration": 20,
    "start_time": "2023-12-21T22:49:03.169Z"
   },
   {
    "duration": 21,
    "start_time": "2023-12-21T22:49:03.191Z"
   },
   {
    "duration": 14,
    "start_time": "2023-12-21T22:49:03.214Z"
   },
   {
    "duration": 3,
    "start_time": "2023-12-21T22:49:03.230Z"
   },
   {
    "duration": 35,
    "start_time": "2023-12-21T22:49:03.234Z"
   },
   {
    "duration": 9,
    "start_time": "2023-12-21T22:49:03.270Z"
   },
   {
    "duration": 27,
    "start_time": "2023-12-21T22:49:03.281Z"
   },
   {
    "duration": 24,
    "start_time": "2023-12-21T22:49:03.310Z"
   },
   {
    "duration": 316,
    "start_time": "2023-12-21T22:49:03.336Z"
   },
   {
    "duration": 264,
    "start_time": "2023-12-21T22:49:03.654Z"
   },
   {
    "duration": 14,
    "start_time": "2023-12-21T22:49:03.919Z"
   },
   {
    "duration": 257,
    "start_time": "2023-12-21T22:49:03.934Z"
   },
   {
    "duration": 277,
    "start_time": "2023-12-21T22:49:04.192Z"
   },
   {
    "duration": 23,
    "start_time": "2023-12-21T22:49:04.471Z"
   },
   {
    "duration": 265,
    "start_time": "2023-12-21T22:49:32.975Z"
   },
   {
    "duration": 15,
    "start_time": "2023-12-21T22:49:44.489Z"
   },
   {
    "duration": 99,
    "start_time": "2023-12-21T22:49:47.820Z"
   },
   {
    "duration": 106,
    "start_time": "2023-12-21T22:51:37.648Z"
   },
   {
    "duration": 1124,
    "start_time": "2023-12-21T22:54:38.630Z"
   },
   {
    "duration": 70,
    "start_time": "2023-12-21T22:54:39.755Z"
   },
   {
    "duration": 10,
    "start_time": "2023-12-21T22:54:39.826Z"
   },
   {
    "duration": 71,
    "start_time": "2023-12-21T22:54:39.838Z"
   },
   {
    "duration": 8,
    "start_time": "2023-12-21T22:54:39.911Z"
   },
   {
    "duration": 69,
    "start_time": "2023-12-21T22:54:39.920Z"
   },
   {
    "duration": 7,
    "start_time": "2023-12-21T22:54:39.991Z"
   },
   {
    "duration": 21,
    "start_time": "2023-12-21T22:54:40.000Z"
   },
   {
    "duration": 19,
    "start_time": "2023-12-21T22:54:40.023Z"
   },
   {
    "duration": 7,
    "start_time": "2023-12-21T22:54:40.044Z"
   },
   {
    "duration": 27,
    "start_time": "2023-12-21T22:54:40.053Z"
   },
   {
    "duration": 18,
    "start_time": "2023-12-21T22:54:40.082Z"
   },
   {
    "duration": 7,
    "start_time": "2023-12-21T22:54:40.102Z"
   },
   {
    "duration": 11,
    "start_time": "2023-12-21T22:54:40.110Z"
   },
   {
    "duration": 7,
    "start_time": "2023-12-21T22:54:40.122Z"
   },
   {
    "duration": 21,
    "start_time": "2023-12-21T22:54:40.130Z"
   },
   {
    "duration": 197,
    "start_time": "2023-12-21T22:54:40.153Z"
   },
   {
    "duration": 147,
    "start_time": "2023-12-21T22:54:40.351Z"
   },
   {
    "duration": 5,
    "start_time": "2023-12-21T22:54:40.499Z"
   },
   {
    "duration": 180,
    "start_time": "2023-12-21T22:54:40.506Z"
   },
   {
    "duration": 5,
    "start_time": "2023-12-21T22:54:40.687Z"
   },
   {
    "duration": 11,
    "start_time": "2023-12-21T22:54:40.693Z"
   },
   {
    "duration": 135,
    "start_time": "2023-12-21T22:54:40.706Z"
   },
   {
    "duration": 10,
    "start_time": "2023-12-21T22:54:40.842Z"
   },
   {
    "duration": 11,
    "start_time": "2023-12-21T22:54:40.853Z"
   },
   {
    "duration": 177,
    "start_time": "2023-12-21T22:54:40.865Z"
   },
   {
    "duration": 12,
    "start_time": "2023-12-21T22:54:41.044Z"
   },
   {
    "duration": 167,
    "start_time": "2023-12-21T22:54:41.059Z"
   },
   {
    "duration": 11,
    "start_time": "2023-12-21T22:54:41.228Z"
   },
   {
    "duration": 166,
    "start_time": "2023-12-21T22:54:41.240Z"
   },
   {
    "duration": 218,
    "start_time": "2023-12-21T22:54:41.407Z"
   },
   {
    "duration": 7,
    "start_time": "2023-12-21T22:54:41.626Z"
   },
   {
    "duration": 170,
    "start_time": "2023-12-21T22:54:41.634Z"
   },
   {
    "duration": 122,
    "start_time": "2023-12-21T22:54:41.805Z"
   },
   {
    "duration": 14,
    "start_time": "2023-12-21T22:54:41.928Z"
   },
   {
    "duration": 11,
    "start_time": "2023-12-21T22:54:41.943Z"
   },
   {
    "duration": 34,
    "start_time": "2023-12-21T22:54:41.955Z"
   },
   {
    "duration": 14,
    "start_time": "2023-12-21T22:54:41.990Z"
   },
   {
    "duration": 3,
    "start_time": "2023-12-21T22:54:42.005Z"
   },
   {
    "duration": 16,
    "start_time": "2023-12-21T22:54:42.009Z"
   },
   {
    "duration": 9,
    "start_time": "2023-12-21T22:54:42.026Z"
   },
   {
    "duration": 18,
    "start_time": "2023-12-21T22:54:42.036Z"
   },
   {
    "duration": 27,
    "start_time": "2023-12-21T22:54:42.055Z"
   },
   {
    "duration": 306,
    "start_time": "2023-12-21T22:54:42.084Z"
   },
   {
    "duration": 291,
    "start_time": "2023-12-21T22:54:42.391Z"
   },
   {
    "duration": 15,
    "start_time": "2023-12-21T22:54:42.683Z"
   },
   {
    "duration": 254,
    "start_time": "2023-12-21T22:54:42.699Z"
   },
   {
    "duration": 276,
    "start_time": "2023-12-21T22:54:42.955Z"
   },
   {
    "duration": 244,
    "start_time": "2023-12-21T22:54:43.232Z"
   },
   {
    "duration": 167,
    "start_time": "2023-12-21T22:54:50.431Z"
   },
   {
    "duration": 16,
    "start_time": "2023-12-21T22:55:02.841Z"
   },
   {
    "duration": 53123,
    "start_time": "2023-12-21T22:55:13.391Z"
   },
   {
    "duration": 221,
    "start_time": "2023-12-21T22:58:14.944Z"
   },
   {
    "duration": 311,
    "start_time": "2023-12-21T22:58:47.105Z"
   },
   {
    "duration": 354,
    "start_time": "2023-12-21T22:58:58.796Z"
   },
   {
    "duration": 332,
    "start_time": "2023-12-21T22:59:01.818Z"
   },
   {
    "duration": 336,
    "start_time": "2023-12-21T22:59:16.326Z"
   },
   {
    "duration": 341,
    "start_time": "2023-12-21T22:59:28.549Z"
   }
  ],
  "kernelspec": {
   "display_name": "Python 3 (ipykernel)",
   "language": "python",
   "name": "python3"
  },
  "language_info": {
   "codemirror_mode": {
    "name": "ipython",
    "version": 3
   },
   "file_extension": ".py",
   "mimetype": "text/x-python",
   "name": "python",
   "nbconvert_exporter": "python",
   "pygments_lexer": "ipython3",
   "version": "3.9.16"
  },
  "toc": {
   "base_numbering": 1,
   "nav_menu": {},
   "number_sections": true,
   "sideBar": true,
   "skip_h1_title": true,
   "title_cell": "Table of Contents",
   "title_sidebar": "Contents",
   "toc_cell": true,
   "toc_position": {
    "height": "calc(100% - 180px)",
    "left": "10px",
    "top": "150px",
    "width": "310.398px"
   },
   "toc_section_display": true,
   "toc_window_display": true
  }
 },
 "nbformat": 4,
 "nbformat_minor": 5
}
