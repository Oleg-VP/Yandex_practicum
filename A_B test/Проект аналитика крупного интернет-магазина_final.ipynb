{
 "cells": [
  {
   "cell_type": "markdown",
   "id": "53878706",
   "metadata": {
    "toc": true
   },
   "source": [
    "<h1>Table of Contents<span class=\"tocSkip\"></span></h1>\n",
    "<div class=\"toc\"><ul class=\"toc-item\"><li><span><a href=\"#Задачи\" data-toc-modified-id=\"Задачи-1\"><span class=\"toc-item-num\">1&nbsp;&nbsp;</span>Задачи</a></span></li><li><span><a href=\"#Загрузка-данных\" data-toc-modified-id=\"Загрузка-данных-2\"><span class=\"toc-item-num\">2&nbsp;&nbsp;</span>Загрузка данных</a></span></li><li><span><a href=\"#Предобработка-данных\" data-toc-modified-id=\"Предобработка-данных-3\"><span class=\"toc-item-num\">3&nbsp;&nbsp;</span>Предобработка данных</a></span></li><li><span><a href=\"#Приоретизация-гипотез\" data-toc-modified-id=\"Приоретизация-гипотез-4\"><span class=\"toc-item-num\">4&nbsp;&nbsp;</span>Приоретизация гипотез</a></span><ul class=\"toc-item\"><li><span><a href=\"#Применим-фреймворк-ICE-для-приоритизации-гипотез\" data-toc-modified-id=\"Применим-фреймворк-ICE-для-приоритизации-гипотез-4.1\"><span class=\"toc-item-num\">4.1&nbsp;&nbsp;</span>Применим фреймворк ICE для приоритизации гипотез</a></span></li><li><span><a href=\"#Применим-фреймворк-RICE-для-приоритизации-гипотез.\" data-toc-modified-id=\"Применим-фреймворк-RICE-для-приоритизации-гипотез.-4.2\"><span class=\"toc-item-num\">4.2&nbsp;&nbsp;</span>Применим фреймворк RICE для приоритизации гипотез.</a></span></li></ul></li><li><span><a href=\"#Анализ-А/В---теста\" data-toc-modified-id=\"Анализ-А/В---теста-5\"><span class=\"toc-item-num\">5&nbsp;&nbsp;</span>Анализ А/В - теста</a></span><ul class=\"toc-item\"><li><span><a href=\"#Построим-график-кумулятивной-выручки-по-группам\" data-toc-modified-id=\"Построим-график-кумулятивной-выручки-по-группам-5.1\"><span class=\"toc-item-num\">5.1&nbsp;&nbsp;</span>Построим график кумулятивной выручки по группам</a></span></li><li><span><a href=\"#Построим-график-кумулятивного-среднего-чека\" data-toc-modified-id=\"Построим-график-кумулятивного-среднего-чека-5.2\"><span class=\"toc-item-num\">5.2&nbsp;&nbsp;</span>Построим график кумулятивного среднего чека</a></span></li><li><span><a href=\"#Построим-график-относительного-изменения-кумулятивного-среднего-чека-группы-B-к-группе-A.\" data-toc-modified-id=\"Построим-график-относительного-изменения-кумулятивного-среднего-чека-группы-B-к-группе-A.-5.3\"><span class=\"toc-item-num\">5.3&nbsp;&nbsp;</span>Построим график относительного изменения кумулятивного среднего чека группы B к группе A.</a></span></li><li><span><a href=\"#Построим-график-кумулятивного-среднего-количества-заказов-на-посетителя-по-группам\" data-toc-modified-id=\"Построим-график-кумулятивного-среднего-количества-заказов-на-посетителя-по-группам-5.4\"><span class=\"toc-item-num\">5.4&nbsp;&nbsp;</span>Построим график кумулятивного среднего количества заказов на посетителя по группам</a></span></li><li><span><a href=\"#Построим-график-относительного-изменения-кумулятивного-среднего-количества-заказов-на-посетителя-группы-B-к-группе-A\" data-toc-modified-id=\"Построим-график-относительного-изменения-кумулятивного-среднего-количества-заказов-на-посетителя-группы-B-к-группе-A-5.5\"><span class=\"toc-item-num\">5.5&nbsp;&nbsp;</span>Построим график относительного изменения кумулятивного среднего количества заказов на посетителя группы B к группе A</a></span></li><li><span><a href=\"#Построим-точечный-график-количества-заказов-по-пользователям\" data-toc-modified-id=\"Построим-точечный-график-количества-заказов-по-пользователям-5.6\"><span class=\"toc-item-num\">5.6&nbsp;&nbsp;</span>Построим точечный график количества заказов по пользователям</a></span></li><li><span><a href=\"#Посчитаем-95-й-и-99-й-перцентили-количества-заказов-на-пользователя\" data-toc-modified-id=\"Посчитаем-95-й-и-99-й-перцентили-количества-заказов-на-пользователя-5.7\"><span class=\"toc-item-num\">5.7&nbsp;&nbsp;</span>Посчитаем 95-й и 99-й перцентили количества заказов на пользователя</a></span></li><li><span><a href=\"#Построим-точечный-график-стоимостей-заказов\" data-toc-modified-id=\"Построим-точечный-график-стоимостей-заказов-5.8\"><span class=\"toc-item-num\">5.8&nbsp;&nbsp;</span>Построим точечный график стоимостей заказов</a></span></li><li><span><a href=\"#Посчитаем-95-й-и-99-й-перцентили-стоимости-заказов\" data-toc-modified-id=\"Посчитаем-95-й-и-99-й-перцентили-стоимости-заказов-5.9\"><span class=\"toc-item-num\">5.9&nbsp;&nbsp;</span>Посчитаем 95-й и 99-й перцентили стоимости заказов</a></span></li><li><span><a href=\"#Посчитаем-статистическую-значимость-различий-в-среднем-количестве-заказов-на-посетителя-между-группами-по-«сырым»-данным\" data-toc-modified-id=\"Посчитаем-статистическую-значимость-различий-в-среднем-количестве-заказов-на-посетителя-между-группами-по-«сырым»-данным-5.10\"><span class=\"toc-item-num\">5.10&nbsp;&nbsp;</span>Посчитаем статистическую значимость различий в среднем количестве заказов на посетителя между группами по «сырым» данным</a></span></li><li><span><a href=\"#Посчитаем-статистическую-значимость-различий-в-среднем-чеке-заказа-между-группами-по-«сырым»-данным.\" data-toc-modified-id=\"Посчитаем-статистическую-значимость-различий-в-среднем-чеке-заказа-между-группами-по-«сырым»-данным.-5.11\"><span class=\"toc-item-num\">5.11&nbsp;&nbsp;</span>Посчитаем статистическую значимость различий в среднем чеке заказа между группами по «сырым» данным.</a></span></li><li><span><a href=\"#Посчитаем-статистическую-значимость-различий-в-среднем-количестве-заказов-на-посетителя-между-группами-по-«очищенным»-данным\" data-toc-modified-id=\"Посчитаем-статистическую-значимость-различий-в-среднем-количестве-заказов-на-посетителя-между-группами-по-«очищенным»-данным-5.12\"><span class=\"toc-item-num\">5.12&nbsp;&nbsp;</span>Посчитаем статистическую значимость различий в среднем количестве заказов на посетителя между группами по «очищенным» данным</a></span></li><li><span><a href=\"#Посчитаем-статистическую-значимость-различий-в-среднем-чеке-заказа-между-группами-по-«очищенным»-данным.\" data-toc-modified-id=\"Посчитаем-статистическую-значимость-различий-в-среднем-чеке-заказа-между-группами-по-«очищенным»-данным.-5.13\"><span class=\"toc-item-num\">5.13&nbsp;&nbsp;</span>Посчитаем статистическую значимость различий в среднем чеке заказа между группами по «очищенным» данным.</a></span></li></ul></li><li><span><a href=\"#Приоретизация-гипотез.-Выводы\" data-toc-modified-id=\"Приоретизация-гипотез.-Выводы-6\"><span class=\"toc-item-num\">6&nbsp;&nbsp;</span>Приоретизация гипотез. Выводы</a></span></li><li><span><a href=\"#Принятие-решения.-Выводы.\" data-toc-modified-id=\"Принятие-решения.-Выводы.-7\"><span class=\"toc-item-num\">7&nbsp;&nbsp;</span>Принятие решения. Выводы.</a></span></li></ul></div>"
   ]
  },
  {
   "cell_type": "markdown",
   "id": "6b58612e",
   "metadata": {},
   "source": [
    "# Проект аналитика крупного интернет-магазина\n",
    "Проект разработал О.Паньков"
   ]
  },
  {
   "cell_type": "markdown",
   "id": "e15c345a",
   "metadata": {},
   "source": [
    "## Задачи\n",
    "Аналитика крупного интернет-магазина. Вместе с отделом маркетинга  подготовилен список гипотез для увеличения выручки.\n",
    "Необходимо приоритизировать гипотезы, запустить A/B-тест и проанализировать результаты.\n",
    "* Часть 1. Приоритизация гипотез.\n",
    "    * Примените фреймворк ICE для приоритизации гипотез.\n",
    "    * Отсортируйте их по убыванию приоритета.\n",
    "    * Примените фреймворк RICE для приоритизации гипотез. \n",
    "    * Отсортируйте их по убыванию приоритета.\n",
    "    * Укажите, как изменилась приоритизация гипотез при применении RICE вместо ICE. Объясните, почему так произошло.\n",
    "* Часть 2. Анализ A/B-теста\n",
    "\n",
    "     Проанализируйте A/B-тест:\n",
    "    * Постройте график кумулятивной выручки по группам.\n",
    "    * Постройте график кумулятивного среднего чека по группам. \n",
    "    * Постройте график относительного изменения кумулятивного среднего чека группы B к группе A.\n",
    "    * Постройте график кумулятивного среднего количества заказов на посетителя по группам. \n",
    "    * Постройте график относительного изменения кумулятивного среднего количества заказов на посетителя группы B к группе A. \n",
    "    * Постройте точечный график количества заказов по пользователям.\n",
    "    * Посчитайте 95-й и 99-й перцентили количества заказов на пользователя. \n",
    "    * Постройте точечный график стоимостей заказов.\n",
    "    * Посчитайте 95-й и 99-й перцентили стоимости заказов. \n",
    "    * Посчитайте статистическую значимость различий в среднем количестве заказов на посетителя между группами по «сырым» данным. \n",
    "    * Посчитайте статистическую значимость различий в среднем чеке заказа между группами по «сырым» данным. \n",
    "    * Посчитайте статистическую значимость различий в среднем количестве заказов на посетителя между группами по «очищенным» данным.\n",
    "    * Посчитайте статистическую значимость различий в среднем чеке заказа между группами по «очищенным» данным.\n",
    "    * Примите решение по результатам теста и объясните его. Варианты решений:\n",
    "        1. Остановить тест, зафиксировать победу одной из групп.\n",
    "        2. Остановить тест, зафиксировать отсутствие различий между группами.\n",
    "        3. Продолжить тест."
   ]
  },
  {
   "cell_type": "markdown",
   "id": "beaabad1",
   "metadata": {},
   "source": [
    "Описание данных\n",
    "\n",
    "Файл /datasets/hypothesis.csv.\n",
    "* Hypothesis — краткое описание гипотезы;\n",
    "* Reach — охват пользователей по 10-балльной шкале;\n",
    "* Impact — влияние на пользователей по 10-балльной шкале;\n",
    "* Confidence — уверенность в гипотезе по 10-балльной шкале;\n",
    "* Efforts — затраты ресурсов на проверку гипотезы по 10-балльной шкале. Чем больше значение Efforts, тем дороже проверка гипотезы.\n",
    "\n",
    "Файл /datasets/orders.csv.\n",
    "* transactionId — идентификатор заказа;\n",
    "* visitorId — идентификатор пользователя, совершившего заказ;\n",
    "* date — дата, когда был совершён заказ;\n",
    "* revenue — выручка заказа;\n",
    "* group — группа A/B-теста, в которую попал заказ.\n",
    "\n",
    "Файл /datasets/visitors.csv. Скачать датасет\n",
    "* date — дата;\n",
    "* group — группа A/B-теста;\n",
    "* visitors — количество пользователей в указанную дату в указанной группе A/B-теста"
   ]
  },
  {
   "cell_type": "markdown",
   "id": "0b62c51f",
   "metadata": {},
   "source": [
    "## Загрузка данных"
   ]
  },
  {
   "cell_type": "code",
   "execution_count": 1,
   "id": "8f454a66",
   "metadata": {},
   "outputs": [],
   "source": [
    "#загружаем библиотеки\n",
    "import pandas as pd\n",
    "import numpy as np\n",
    "from matplotlib import pyplot as plt\n",
    "from scipy import stats as st\n",
    "import datetime as dt\n",
    "\n",
    "\n",
    "pd.set_option('display.max_colwidth', None)\n",
    "\n",
    "import warnings\n",
    "warnings.filterwarnings('ignore')"
   ]
  },
  {
   "cell_type": "code",
   "execution_count": 2,
   "id": "77180b32",
   "metadata": {},
   "outputs": [
    {
     "name": "stdout",
     "output_type": "stream",
     "text": [
      "<class 'pandas.core.frame.DataFrame'>\n",
      "RangeIndex: 9 entries, 0 to 8\n",
      "Data columns (total 5 columns):\n",
      " #   Column      Non-Null Count  Dtype \n",
      "---  ------      --------------  ----- \n",
      " 0   Hypothesis  9 non-null      object\n",
      " 1   Reach       9 non-null      int64 \n",
      " 2   Impact      9 non-null      int64 \n",
      " 3   Confidence  9 non-null      int64 \n",
      " 4   Efforts     9 non-null      int64 \n",
      "dtypes: int64(4), object(1)\n",
      "memory usage: 488.0+ bytes\n"
     ]
    }
   ],
   "source": [
    "try:\n",
    "    df_hypothesis = pd.read_csv('hypothesis.csv')\n",
    "except:\n",
    "    df_hypothesis = pd.read_csv('/datasets/hypothesis.csv')    \n",
    "try:\n",
    "    df_orders = pd.read_csv('orders.csv')\n",
    "except:\n",
    "    df_orders = pd.read_csv('/datasets/orders.csv')  \n",
    "try:\n",
    "    df_visitors = pd.read_csv('visitors.csv')\n",
    "except:\n",
    "    df_visitors = pd.read_csv('/datasets/visitors.csv')  \n",
    "    \n",
    "df_hypothesis.info()"
   ]
  },
  {
   "cell_type": "code",
   "execution_count": 3,
   "id": "39f6c71e",
   "metadata": {},
   "outputs": [
    {
     "data": {
      "text/html": [
       "<div>\n",
       "<style scoped>\n",
       "    .dataframe tbody tr th:only-of-type {\n",
       "        vertical-align: middle;\n",
       "    }\n",
       "\n",
       "    .dataframe tbody tr th {\n",
       "        vertical-align: top;\n",
       "    }\n",
       "\n",
       "    .dataframe thead th {\n",
       "        text-align: right;\n",
       "    }\n",
       "</style>\n",
       "<table border=\"1\" class=\"dataframe\">\n",
       "  <thead>\n",
       "    <tr style=\"text-align: right;\">\n",
       "      <th></th>\n",
       "      <th>Hypothesis</th>\n",
       "      <th>Reach</th>\n",
       "      <th>Impact</th>\n",
       "      <th>Confidence</th>\n",
       "      <th>Efforts</th>\n",
       "    </tr>\n",
       "  </thead>\n",
       "  <tbody>\n",
       "    <tr>\n",
       "      <th>0</th>\n",
       "      <td>Добавить два новых канала привлечения трафика, что позволит привлекать на 30% больше пользователей</td>\n",
       "      <td>3</td>\n",
       "      <td>10</td>\n",
       "      <td>8</td>\n",
       "      <td>6</td>\n",
       "    </tr>\n",
       "    <tr>\n",
       "      <th>1</th>\n",
       "      <td>Запустить собственную службу доставки, что сократит срок доставки заказов</td>\n",
       "      <td>2</td>\n",
       "      <td>5</td>\n",
       "      <td>4</td>\n",
       "      <td>10</td>\n",
       "    </tr>\n",
       "    <tr>\n",
       "      <th>2</th>\n",
       "      <td>Добавить блоки рекомендаций товаров на сайт интернет магазина, чтобы повысить конверсию и средний чек заказа</td>\n",
       "      <td>8</td>\n",
       "      <td>3</td>\n",
       "      <td>7</td>\n",
       "      <td>3</td>\n",
       "    </tr>\n",
       "    <tr>\n",
       "      <th>3</th>\n",
       "      <td>Изменить структура категорий, что увеличит конверсию, т.к. пользователи быстрее найдут нужный товар</td>\n",
       "      <td>8</td>\n",
       "      <td>3</td>\n",
       "      <td>3</td>\n",
       "      <td>8</td>\n",
       "    </tr>\n",
       "    <tr>\n",
       "      <th>4</th>\n",
       "      <td>Изменить цвет фона главной страницы, чтобы увеличить вовлеченность пользователей</td>\n",
       "      <td>3</td>\n",
       "      <td>1</td>\n",
       "      <td>1</td>\n",
       "      <td>1</td>\n",
       "    </tr>\n",
       "    <tr>\n",
       "      <th>5</th>\n",
       "      <td>Добавить страницу отзывов клиентов о магазине, что позволит увеличить количество заказов</td>\n",
       "      <td>3</td>\n",
       "      <td>2</td>\n",
       "      <td>2</td>\n",
       "      <td>3</td>\n",
       "    </tr>\n",
       "    <tr>\n",
       "      <th>6</th>\n",
       "      <td>Показать на главной странице баннеры с актуальными акциями и распродажами, чтобы увеличить конверсию</td>\n",
       "      <td>5</td>\n",
       "      <td>3</td>\n",
       "      <td>8</td>\n",
       "      <td>3</td>\n",
       "    </tr>\n",
       "    <tr>\n",
       "      <th>7</th>\n",
       "      <td>Добавить форму подписки на все основные страницы, чтобы собрать базу клиентов для email-рассылок</td>\n",
       "      <td>10</td>\n",
       "      <td>7</td>\n",
       "      <td>8</td>\n",
       "      <td>5</td>\n",
       "    </tr>\n",
       "    <tr>\n",
       "      <th>8</th>\n",
       "      <td>Запустить акцию, дающую скидку на товар в день рождения</td>\n",
       "      <td>1</td>\n",
       "      <td>9</td>\n",
       "      <td>9</td>\n",
       "      <td>5</td>\n",
       "    </tr>\n",
       "  </tbody>\n",
       "</table>\n",
       "</div>"
      ],
      "text/plain": [
       "                                                                                                     Hypothesis  \\\n",
       "0            Добавить два новых канала привлечения трафика, что позволит привлекать на 30% больше пользователей   \n",
       "1                                     Запустить собственную службу доставки, что сократит срок доставки заказов   \n",
       "2  Добавить блоки рекомендаций товаров на сайт интернет магазина, чтобы повысить конверсию и средний чек заказа   \n",
       "3           Изменить структура категорий, что увеличит конверсию, т.к. пользователи быстрее найдут нужный товар   \n",
       "4                              Изменить цвет фона главной страницы, чтобы увеличить вовлеченность пользователей   \n",
       "5                      Добавить страницу отзывов клиентов о магазине, что позволит увеличить количество заказов   \n",
       "6          Показать на главной странице баннеры с актуальными акциями и распродажами, чтобы увеличить конверсию   \n",
       "7              Добавить форму подписки на все основные страницы, чтобы собрать базу клиентов для email-рассылок   \n",
       "8                                                       Запустить акцию, дающую скидку на товар в день рождения   \n",
       "\n",
       "   Reach  Impact  Confidence  Efforts  \n",
       "0      3      10           8        6  \n",
       "1      2       5           4       10  \n",
       "2      8       3           7        3  \n",
       "3      8       3           3        8  \n",
       "4      3       1           1        1  \n",
       "5      3       2           2        3  \n",
       "6      5       3           8        3  \n",
       "7     10       7           8        5  \n",
       "8      1       9           9        5  "
      ]
     },
     "execution_count": 3,
     "metadata": {},
     "output_type": "execute_result"
    }
   ],
   "source": [
    "df_hypothesis.head(9)"
   ]
  },
  {
   "cell_type": "code",
   "execution_count": 4,
   "id": "e90aeec3",
   "metadata": {},
   "outputs": [
    {
     "name": "stdout",
     "output_type": "stream",
     "text": [
      "<class 'pandas.core.frame.DataFrame'>\n",
      "RangeIndex: 1197 entries, 0 to 1196\n",
      "Data columns (total 5 columns):\n",
      " #   Column         Non-Null Count  Dtype \n",
      "---  ------         --------------  ----- \n",
      " 0   transactionId  1197 non-null   int64 \n",
      " 1   visitorId      1197 non-null   int64 \n",
      " 2   date           1197 non-null   object\n",
      " 3   revenue        1197 non-null   int64 \n",
      " 4   group          1197 non-null   object\n",
      "dtypes: int64(3), object(2)\n",
      "memory usage: 46.9+ KB\n"
     ]
    }
   ],
   "source": [
    "df_orders.info()"
   ]
  },
  {
   "cell_type": "code",
   "execution_count": 5,
   "id": "8c7d2c39",
   "metadata": {},
   "outputs": [
    {
     "data": {
      "text/html": [
       "<div>\n",
       "<style scoped>\n",
       "    .dataframe tbody tr th:only-of-type {\n",
       "        vertical-align: middle;\n",
       "    }\n",
       "\n",
       "    .dataframe tbody tr th {\n",
       "        vertical-align: top;\n",
       "    }\n",
       "\n",
       "    .dataframe thead th {\n",
       "        text-align: right;\n",
       "    }\n",
       "</style>\n",
       "<table border=\"1\" class=\"dataframe\">\n",
       "  <thead>\n",
       "    <tr style=\"text-align: right;\">\n",
       "      <th></th>\n",
       "      <th>transactionId</th>\n",
       "      <th>visitorId</th>\n",
       "      <th>date</th>\n",
       "      <th>revenue</th>\n",
       "      <th>group</th>\n",
       "    </tr>\n",
       "  </thead>\n",
       "  <tbody>\n",
       "    <tr>\n",
       "      <th>0</th>\n",
       "      <td>3667963787</td>\n",
       "      <td>3312258926</td>\n",
       "      <td>2019-08-15</td>\n",
       "      <td>1650</td>\n",
       "      <td>B</td>\n",
       "    </tr>\n",
       "    <tr>\n",
       "      <th>1</th>\n",
       "      <td>2804400009</td>\n",
       "      <td>3642806036</td>\n",
       "      <td>2019-08-15</td>\n",
       "      <td>730</td>\n",
       "      <td>B</td>\n",
       "    </tr>\n",
       "    <tr>\n",
       "      <th>2</th>\n",
       "      <td>2961555356</td>\n",
       "      <td>4069496402</td>\n",
       "      <td>2019-08-15</td>\n",
       "      <td>400</td>\n",
       "      <td>A</td>\n",
       "    </tr>\n",
       "    <tr>\n",
       "      <th>3</th>\n",
       "      <td>3797467345</td>\n",
       "      <td>1196621759</td>\n",
       "      <td>2019-08-15</td>\n",
       "      <td>9759</td>\n",
       "      <td>B</td>\n",
       "    </tr>\n",
       "    <tr>\n",
       "      <th>4</th>\n",
       "      <td>2282983706</td>\n",
       "      <td>2322279887</td>\n",
       "      <td>2019-08-15</td>\n",
       "      <td>2308</td>\n",
       "      <td>B</td>\n",
       "    </tr>\n",
       "  </tbody>\n",
       "</table>\n",
       "</div>"
      ],
      "text/plain": [
       "   transactionId   visitorId        date  revenue group\n",
       "0     3667963787  3312258926  2019-08-15     1650     B\n",
       "1     2804400009  3642806036  2019-08-15      730     B\n",
       "2     2961555356  4069496402  2019-08-15      400     A\n",
       "3     3797467345  1196621759  2019-08-15     9759     B\n",
       "4     2282983706  2322279887  2019-08-15     2308     B"
      ]
     },
     "execution_count": 5,
     "metadata": {},
     "output_type": "execute_result"
    }
   ],
   "source": [
    "df_orders.head()"
   ]
  },
  {
   "cell_type": "code",
   "execution_count": 6,
   "id": "88cdaf3c",
   "metadata": {},
   "outputs": [
    {
     "name": "stdout",
     "output_type": "stream",
     "text": [
      "<class 'pandas.core.frame.DataFrame'>\n",
      "RangeIndex: 62 entries, 0 to 61\n",
      "Data columns (total 3 columns):\n",
      " #   Column    Non-Null Count  Dtype \n",
      "---  ------    --------------  ----- \n",
      " 0   date      62 non-null     object\n",
      " 1   group     62 non-null     object\n",
      " 2   visitors  62 non-null     int64 \n",
      "dtypes: int64(1), object(2)\n",
      "memory usage: 1.6+ KB\n"
     ]
    }
   ],
   "source": [
    "df_visitors.info()"
   ]
  },
  {
   "cell_type": "code",
   "execution_count": 7,
   "id": "25d94286",
   "metadata": {},
   "outputs": [
    {
     "data": {
      "text/html": [
       "<div>\n",
       "<style scoped>\n",
       "    .dataframe tbody tr th:only-of-type {\n",
       "        vertical-align: middle;\n",
       "    }\n",
       "\n",
       "    .dataframe tbody tr th {\n",
       "        vertical-align: top;\n",
       "    }\n",
       "\n",
       "    .dataframe thead th {\n",
       "        text-align: right;\n",
       "    }\n",
       "</style>\n",
       "<table border=\"1\" class=\"dataframe\">\n",
       "  <thead>\n",
       "    <tr style=\"text-align: right;\">\n",
       "      <th></th>\n",
       "      <th>date</th>\n",
       "      <th>group</th>\n",
       "      <th>visitors</th>\n",
       "    </tr>\n",
       "  </thead>\n",
       "  <tbody>\n",
       "    <tr>\n",
       "      <th>0</th>\n",
       "      <td>2019-08-01</td>\n",
       "      <td>A</td>\n",
       "      <td>719</td>\n",
       "    </tr>\n",
       "    <tr>\n",
       "      <th>1</th>\n",
       "      <td>2019-08-02</td>\n",
       "      <td>A</td>\n",
       "      <td>619</td>\n",
       "    </tr>\n",
       "    <tr>\n",
       "      <th>2</th>\n",
       "      <td>2019-08-03</td>\n",
       "      <td>A</td>\n",
       "      <td>507</td>\n",
       "    </tr>\n",
       "    <tr>\n",
       "      <th>3</th>\n",
       "      <td>2019-08-04</td>\n",
       "      <td>A</td>\n",
       "      <td>717</td>\n",
       "    </tr>\n",
       "    <tr>\n",
       "      <th>4</th>\n",
       "      <td>2019-08-05</td>\n",
       "      <td>A</td>\n",
       "      <td>756</td>\n",
       "    </tr>\n",
       "  </tbody>\n",
       "</table>\n",
       "</div>"
      ],
      "text/plain": [
       "         date group  visitors\n",
       "0  2019-08-01     A       719\n",
       "1  2019-08-02     A       619\n",
       "2  2019-08-03     A       507\n",
       "3  2019-08-04     A       717\n",
       "4  2019-08-05     A       756"
      ]
     },
     "execution_count": 7,
     "metadata": {},
     "output_type": "execute_result"
    }
   ],
   "source": [
    "df_visitors.head()"
   ]
  },
  {
   "cell_type": "markdown",
   "id": "7ddea4c8",
   "metadata": {},
   "source": [
    "При предварительном знакомстве с данными пропусков не обнаружено, данные выглядят чистыми. Проверим данные в следуещем блоке предобработки."
   ]
  },
  {
   "cell_type": "markdown",
   "id": "485e81c8",
   "metadata": {},
   "source": [
    "## Предобработка данных"
   ]
  },
  {
   "cell_type": "markdown",
   "id": "92c94db2",
   "metadata": {},
   "source": [
    "Приведем формат даты из строки в дату Пандас"
   ]
  },
  {
   "cell_type": "code",
   "execution_count": 8,
   "id": "e759d0de",
   "metadata": {},
   "outputs": [
    {
     "data": {
      "text/plain": [
       "0   2019-08-15\n",
       "1   2019-08-15\n",
       "2   2019-08-15\n",
       "Name: date, dtype: datetime64[ns]"
      ]
     },
     "execution_count": 8,
     "metadata": {},
     "output_type": "execute_result"
    }
   ],
   "source": [
    "df_orders['date'] = pd.to_datetime(df_orders['date'])\n",
    "df_orders['date'].head(3)"
   ]
  },
  {
   "cell_type": "code",
   "execution_count": 9,
   "id": "1d1bee2d",
   "metadata": {},
   "outputs": [
    {
     "data": {
      "text/plain": [
       "0   2019-08-01\n",
       "1   2019-08-02\n",
       "2   2019-08-03\n",
       "Name: date, dtype: datetime64[ns]"
      ]
     },
     "execution_count": 9,
     "metadata": {},
     "output_type": "execute_result"
    }
   ],
   "source": [
    "df_visitors['date'] = pd.to_datetime(df_visitors['date'])\n",
    "df_visitors['date'].head(3)"
   ]
  },
  {
   "cell_type": "markdown",
   "id": "3cdfb2c1",
   "metadata": {},
   "source": [
    "Проверим дубликаты в датафреймах"
   ]
  },
  {
   "cell_type": "code",
   "execution_count": 10,
   "id": "24ff4f05",
   "metadata": {},
   "outputs": [
    {
     "data": {
      "text/html": [
       "<div>\n",
       "<style scoped>\n",
       "    .dataframe tbody tr th:only-of-type {\n",
       "        vertical-align: middle;\n",
       "    }\n",
       "\n",
       "    .dataframe tbody tr th {\n",
       "        vertical-align: top;\n",
       "    }\n",
       "\n",
       "    .dataframe thead th {\n",
       "        text-align: right;\n",
       "    }\n",
       "</style>\n",
       "<table border=\"1\" class=\"dataframe\">\n",
       "  <thead>\n",
       "    <tr style=\"text-align: right;\">\n",
       "      <th></th>\n",
       "      <th>transactionId</th>\n",
       "      <th>visitorId</th>\n",
       "      <th>date</th>\n",
       "      <th>revenue</th>\n",
       "      <th>group</th>\n",
       "    </tr>\n",
       "  </thead>\n",
       "  <tbody>\n",
       "  </tbody>\n",
       "</table>\n",
       "</div>"
      ],
      "text/plain": [
       "Empty DataFrame\n",
       "Columns: [transactionId, visitorId, date, revenue, group]\n",
       "Index: []"
      ]
     },
     "execution_count": 10,
     "metadata": {},
     "output_type": "execute_result"
    }
   ],
   "source": [
    "df_orders[df_orders.duplicated(keep=False)].sort_values(by='visitorId')"
   ]
  },
  {
   "cell_type": "code",
   "execution_count": 11,
   "id": "a6f40a32",
   "metadata": {},
   "outputs": [
    {
     "data": {
      "text/html": [
       "<div>\n",
       "<style scoped>\n",
       "    .dataframe tbody tr th:only-of-type {\n",
       "        vertical-align: middle;\n",
       "    }\n",
       "\n",
       "    .dataframe tbody tr th {\n",
       "        vertical-align: top;\n",
       "    }\n",
       "\n",
       "    .dataframe thead th {\n",
       "        text-align: right;\n",
       "    }\n",
       "</style>\n",
       "<table border=\"1\" class=\"dataframe\">\n",
       "  <thead>\n",
       "    <tr style=\"text-align: right;\">\n",
       "      <th></th>\n",
       "      <th>date</th>\n",
       "      <th>group</th>\n",
       "      <th>visitors</th>\n",
       "    </tr>\n",
       "  </thead>\n",
       "  <tbody>\n",
       "  </tbody>\n",
       "</table>\n",
       "</div>"
      ],
      "text/plain": [
       "Empty DataFrame\n",
       "Columns: [date, group, visitors]\n",
       "Index: []"
      ]
     },
     "execution_count": 11,
     "metadata": {},
     "output_type": "execute_result"
    }
   ],
   "source": [
    "df_visitors[df_visitors.duplicated(keep=False)].sort_values(by='visitors')"
   ]
  },
  {
   "cell_type": "markdown",
   "id": "3a1acc1b",
   "metadata": {},
   "source": [
    "Изменили формат столбца с датой. Дубликатов нет"
   ]
  },
  {
   "cell_type": "markdown",
   "id": "e5c4be49",
   "metadata": {},
   "source": [
    "## Приоретизация гипотез"
   ]
  },
  {
   "cell_type": "markdown",
   "id": "f7f57899",
   "metadata": {},
   "source": [
    "Фреймворк ICE состоит из трёх компонентов.\n",
    "\n",
    "Фреймворк RICE состоит из четырёх компонентов:\n",
    "\n",
    "Reach — скольких пользователей затронет изменение, которое вы хотите внести;\n",
    "\n",
    "Impact — насколько сильно изменение повлияет на пользователей, их опыт и удовлетворение от продукта;\n",
    "\n",
    "Confidence — насколько вы уверены, что это изменение повлияет на пользователей именно так; \n",
    "\n",
    "Efforts — сколько стоит протестировать эту гипотезу. "
   ]
  },
  {
   "cell_type": "markdown",
   "id": "088d278c",
   "metadata": {},
   "source": [
    "### Применим фреймворк ICE для приоритизации гипотез"
   ]
  },
  {
   "cell_type": "code",
   "execution_count": 12,
   "id": "636549ea",
   "metadata": {},
   "outputs": [
    {
     "data": {
      "text/html": [
       "<div>\n",
       "<style scoped>\n",
       "    .dataframe tbody tr th:only-of-type {\n",
       "        vertical-align: middle;\n",
       "    }\n",
       "\n",
       "    .dataframe tbody tr th {\n",
       "        vertical-align: top;\n",
       "    }\n",
       "\n",
       "    .dataframe thead th {\n",
       "        text-align: right;\n",
       "    }\n",
       "</style>\n",
       "<table border=\"1\" class=\"dataframe\">\n",
       "  <thead>\n",
       "    <tr style=\"text-align: right;\">\n",
       "      <th></th>\n",
       "      <th>Hypothesis</th>\n",
       "      <th>ICE</th>\n",
       "    </tr>\n",
       "  </thead>\n",
       "  <tbody>\n",
       "    <tr>\n",
       "      <th>8</th>\n",
       "      <td>Запустить акцию, дающую скидку на товар в день рождения</td>\n",
       "      <td>16.20</td>\n",
       "    </tr>\n",
       "    <tr>\n",
       "      <th>0</th>\n",
       "      <td>Добавить два новых канала привлечения трафика, что позволит привлекать на 30% больше пользователей</td>\n",
       "      <td>13.33</td>\n",
       "    </tr>\n",
       "    <tr>\n",
       "      <th>7</th>\n",
       "      <td>Добавить форму подписки на все основные страницы, чтобы собрать базу клиентов для email-рассылок</td>\n",
       "      <td>11.20</td>\n",
       "    </tr>\n",
       "    <tr>\n",
       "      <th>6</th>\n",
       "      <td>Показать на главной странице баннеры с актуальными акциями и распродажами, чтобы увеличить конверсию</td>\n",
       "      <td>8.00</td>\n",
       "    </tr>\n",
       "    <tr>\n",
       "      <th>2</th>\n",
       "      <td>Добавить блоки рекомендаций товаров на сайт интернет магазина, чтобы повысить конверсию и средний чек заказа</td>\n",
       "      <td>7.00</td>\n",
       "    </tr>\n",
       "    <tr>\n",
       "      <th>1</th>\n",
       "      <td>Запустить собственную службу доставки, что сократит срок доставки заказов</td>\n",
       "      <td>2.00</td>\n",
       "    </tr>\n",
       "    <tr>\n",
       "      <th>5</th>\n",
       "      <td>Добавить страницу отзывов клиентов о магазине, что позволит увеличить количество заказов</td>\n",
       "      <td>1.33</td>\n",
       "    </tr>\n",
       "    <tr>\n",
       "      <th>3</th>\n",
       "      <td>Изменить структура категорий, что увеличит конверсию, т.к. пользователи быстрее найдут нужный товар</td>\n",
       "      <td>1.12</td>\n",
       "    </tr>\n",
       "    <tr>\n",
       "      <th>4</th>\n",
       "      <td>Изменить цвет фона главной страницы, чтобы увеличить вовлеченность пользователей</td>\n",
       "      <td>1.00</td>\n",
       "    </tr>\n",
       "  </tbody>\n",
       "</table>\n",
       "</div>"
      ],
      "text/plain": [
       "                                                                                                     Hypothesis  \\\n",
       "8                                                       Запустить акцию, дающую скидку на товар в день рождения   \n",
       "0            Добавить два новых канала привлечения трафика, что позволит привлекать на 30% больше пользователей   \n",
       "7              Добавить форму подписки на все основные страницы, чтобы собрать базу клиентов для email-рассылок   \n",
       "6          Показать на главной странице баннеры с актуальными акциями и распродажами, чтобы увеличить конверсию   \n",
       "2  Добавить блоки рекомендаций товаров на сайт интернет магазина, чтобы повысить конверсию и средний чек заказа   \n",
       "1                                     Запустить собственную службу доставки, что сократит срок доставки заказов   \n",
       "5                      Добавить страницу отзывов клиентов о магазине, что позволит увеличить количество заказов   \n",
       "3           Изменить структура категорий, что увеличит конверсию, т.к. пользователи быстрее найдут нужный товар   \n",
       "4                              Изменить цвет фона главной страницы, чтобы увеличить вовлеченность пользователей   \n",
       "\n",
       "     ICE  \n",
       "8  16.20  \n",
       "0  13.33  \n",
       "7  11.20  \n",
       "6   8.00  \n",
       "2   7.00  \n",
       "1   2.00  \n",
       "5   1.33  \n",
       "3   1.12  \n",
       "4   1.00  "
      ]
     },
     "execution_count": 12,
     "metadata": {},
     "output_type": "execute_result"
    }
   ],
   "source": [
    "df_hypothesis_ice = df_hypothesis\n",
    "df_hypothesis_ice['ICE'] = round((df_hypothesis_ice['Impact'] * df_hypothesis_ice['Confidence']) / df_hypothesis_ice['Efforts'],2)\n",
    "df_hypothesis_ice[['Hypothesis', 'ICE']].sort_values(by='ICE', ascending=False)"
   ]
  },
  {
   "cell_type": "markdown",
   "id": "a9f76de2",
   "metadata": {},
   "source": [
    "Наиболее перспективные гипотезы по ICE: Запустить акцию, дающую скидку на товар в день рождения, следующая по приоритету добавить два новых канала привлечения трафика, что позволит привлекать на 30% больше пользователей и добавить форму подписки на все основные страницы, чтобы собрать базу клиентов для email-рассылок"
   ]
  },
  {
   "cell_type": "markdown",
   "id": "96e4c9de",
   "metadata": {},
   "source": [
    "### Применим фреймворк RICE для приоритизации гипотез."
   ]
  },
  {
   "cell_type": "code",
   "execution_count": 13,
   "id": "ebd383d4",
   "metadata": {},
   "outputs": [
    {
     "data": {
      "text/html": [
       "<div>\n",
       "<style scoped>\n",
       "    .dataframe tbody tr th:only-of-type {\n",
       "        vertical-align: middle;\n",
       "    }\n",
       "\n",
       "    .dataframe tbody tr th {\n",
       "        vertical-align: top;\n",
       "    }\n",
       "\n",
       "    .dataframe thead th {\n",
       "        text-align: right;\n",
       "    }\n",
       "</style>\n",
       "<table border=\"1\" class=\"dataframe\">\n",
       "  <thead>\n",
       "    <tr style=\"text-align: right;\">\n",
       "      <th></th>\n",
       "      <th>Hypothesis</th>\n",
       "      <th>RICE</th>\n",
       "    </tr>\n",
       "  </thead>\n",
       "  <tbody>\n",
       "    <tr>\n",
       "      <th>7</th>\n",
       "      <td>Добавить форму подписки на все основные страницы, чтобы собрать базу клиентов для email-рассылок</td>\n",
       "      <td>112.0</td>\n",
       "    </tr>\n",
       "    <tr>\n",
       "      <th>2</th>\n",
       "      <td>Добавить блоки рекомендаций товаров на сайт интернет магазина, чтобы повысить конверсию и средний чек заказа</td>\n",
       "      <td>56.0</td>\n",
       "    </tr>\n",
       "    <tr>\n",
       "      <th>0</th>\n",
       "      <td>Добавить два новых канала привлечения трафика, что позволит привлекать на 30% больше пользователей</td>\n",
       "      <td>40.0</td>\n",
       "    </tr>\n",
       "    <tr>\n",
       "      <th>6</th>\n",
       "      <td>Показать на главной странице баннеры с актуальными акциями и распродажами, чтобы увеличить конверсию</td>\n",
       "      <td>40.0</td>\n",
       "    </tr>\n",
       "    <tr>\n",
       "      <th>8</th>\n",
       "      <td>Запустить акцию, дающую скидку на товар в день рождения</td>\n",
       "      <td>16.2</td>\n",
       "    </tr>\n",
       "    <tr>\n",
       "      <th>3</th>\n",
       "      <td>Изменить структура категорий, что увеличит конверсию, т.к. пользователи быстрее найдут нужный товар</td>\n",
       "      <td>9.0</td>\n",
       "    </tr>\n",
       "    <tr>\n",
       "      <th>1</th>\n",
       "      <td>Запустить собственную службу доставки, что сократит срок доставки заказов</td>\n",
       "      <td>4.0</td>\n",
       "    </tr>\n",
       "    <tr>\n",
       "      <th>5</th>\n",
       "      <td>Добавить страницу отзывов клиентов о магазине, что позволит увеличить количество заказов</td>\n",
       "      <td>4.0</td>\n",
       "    </tr>\n",
       "    <tr>\n",
       "      <th>4</th>\n",
       "      <td>Изменить цвет фона главной страницы, чтобы увеличить вовлеченность пользователей</td>\n",
       "      <td>3.0</td>\n",
       "    </tr>\n",
       "  </tbody>\n",
       "</table>\n",
       "</div>"
      ],
      "text/plain": [
       "                                                                                                     Hypothesis  \\\n",
       "7              Добавить форму подписки на все основные страницы, чтобы собрать базу клиентов для email-рассылок   \n",
       "2  Добавить блоки рекомендаций товаров на сайт интернет магазина, чтобы повысить конверсию и средний чек заказа   \n",
       "0            Добавить два новых канала привлечения трафика, что позволит привлекать на 30% больше пользователей   \n",
       "6          Показать на главной странице баннеры с актуальными акциями и распродажами, чтобы увеличить конверсию   \n",
       "8                                                       Запустить акцию, дающую скидку на товар в день рождения   \n",
       "3           Изменить структура категорий, что увеличит конверсию, т.к. пользователи быстрее найдут нужный товар   \n",
       "1                                     Запустить собственную службу доставки, что сократит срок доставки заказов   \n",
       "5                      Добавить страницу отзывов клиентов о магазине, что позволит увеличить количество заказов   \n",
       "4                              Изменить цвет фона главной страницы, чтобы увеличить вовлеченность пользователей   \n",
       "\n",
       "    RICE  \n",
       "7  112.0  \n",
       "2   56.0  \n",
       "0   40.0  \n",
       "6   40.0  \n",
       "8   16.2  \n",
       "3    9.0  \n",
       "1    4.0  \n",
       "5    4.0  \n",
       "4    3.0  "
      ]
     },
     "execution_count": 13,
     "metadata": {},
     "output_type": "execute_result"
    }
   ],
   "source": [
    "df_hypothesis_rice = df_hypothesis\n",
    "\n",
    "df_hypothesis_rice['RICE'] = (df_hypothesis_rice['Reach'] * df_hypothesis_rice['Impact'] * df_hypothesis_rice['Confidence']) / df_hypothesis_rice['Efforts'] \n",
    "df_hypothesis_rice[['Hypothesis', 'RICE']].sort_values(by='RICE', ascending=False)"
   ]
  },
  {
   "cell_type": "markdown",
   "id": "c69ace48",
   "metadata": {},
   "source": [
    "Наиболее перспективные гипотезы по RICE: Добавить форму подписки на все основные страницы, чтобы собрать базу клиентов для email-рассылок. Сильный перевес в приоритизации этой гипотезы внес параметр Reach — скольких пользователей затронет изменение."
   ]
  },
  {
   "cell_type": "markdown",
   "id": "98a30eed",
   "metadata": {},
   "source": [
    "## Анализ А/В - теста"
   ]
  },
  {
   "cell_type": "markdown",
   "id": "76ef5e1c",
   "metadata": {},
   "source": [
    "### Построим график кумулятивной выручки по группам"
   ]
  },
  {
   "cell_type": "code",
   "execution_count": 14,
   "id": "03735c04",
   "metadata": {},
   "outputs": [
    {
     "data": {
      "text/html": [
       "<div>\n",
       "<style scoped>\n",
       "    .dataframe tbody tr th:only-of-type {\n",
       "        vertical-align: middle;\n",
       "    }\n",
       "\n",
       "    .dataframe tbody tr th {\n",
       "        vertical-align: top;\n",
       "    }\n",
       "\n",
       "    .dataframe thead th {\n",
       "        text-align: right;\n",
       "    }\n",
       "</style>\n",
       "<table border=\"1\" class=\"dataframe\">\n",
       "  <thead>\n",
       "    <tr style=\"text-align: right;\">\n",
       "      <th></th>\n",
       "      <th>transactionId</th>\n",
       "      <th>visitorId</th>\n",
       "      <th>date</th>\n",
       "      <th>revenue</th>\n",
       "      <th>group</th>\n",
       "    </tr>\n",
       "  </thead>\n",
       "  <tbody>\n",
       "    <tr>\n",
       "      <th>0</th>\n",
       "      <td>3667963787</td>\n",
       "      <td>3312258926</td>\n",
       "      <td>2019-08-15</td>\n",
       "      <td>1650</td>\n",
       "      <td>B</td>\n",
       "    </tr>\n",
       "    <tr>\n",
       "      <th>1</th>\n",
       "      <td>2804400009</td>\n",
       "      <td>3642806036</td>\n",
       "      <td>2019-08-15</td>\n",
       "      <td>730</td>\n",
       "      <td>B</td>\n",
       "    </tr>\n",
       "    <tr>\n",
       "      <th>2</th>\n",
       "      <td>2961555356</td>\n",
       "      <td>4069496402</td>\n",
       "      <td>2019-08-15</td>\n",
       "      <td>400</td>\n",
       "      <td>A</td>\n",
       "    </tr>\n",
       "  </tbody>\n",
       "</table>\n",
       "</div>"
      ],
      "text/plain": [
       "   transactionId   visitorId       date  revenue group\n",
       "0     3667963787  3312258926 2019-08-15     1650     B\n",
       "1     2804400009  3642806036 2019-08-15      730     B\n",
       "2     2961555356  4069496402 2019-08-15      400     A"
      ]
     },
     "execution_count": 14,
     "metadata": {},
     "output_type": "execute_result"
    }
   ],
   "source": [
    "df_orders.head(3)"
   ]
  },
  {
   "cell_type": "code",
   "execution_count": 15,
   "id": "58a2e73a",
   "metadata": {},
   "outputs": [
    {
     "data": {
      "text/html": [
       "<div>\n",
       "<style scoped>\n",
       "    .dataframe tbody tr th:only-of-type {\n",
       "        vertical-align: middle;\n",
       "    }\n",
       "\n",
       "    .dataframe tbody tr th {\n",
       "        vertical-align: top;\n",
       "    }\n",
       "\n",
       "    .dataframe thead th {\n",
       "        text-align: right;\n",
       "    }\n",
       "</style>\n",
       "<table border=\"1\" class=\"dataframe\">\n",
       "  <thead>\n",
       "    <tr style=\"text-align: right;\">\n",
       "      <th></th>\n",
       "      <th>date</th>\n",
       "      <th>group</th>\n",
       "      <th>visitors</th>\n",
       "    </tr>\n",
       "  </thead>\n",
       "  <tbody>\n",
       "    <tr>\n",
       "      <th>0</th>\n",
       "      <td>2019-08-01</td>\n",
       "      <td>A</td>\n",
       "      <td>719</td>\n",
       "    </tr>\n",
       "    <tr>\n",
       "      <th>1</th>\n",
       "      <td>2019-08-02</td>\n",
       "      <td>A</td>\n",
       "      <td>619</td>\n",
       "    </tr>\n",
       "    <tr>\n",
       "      <th>2</th>\n",
       "      <td>2019-08-03</td>\n",
       "      <td>A</td>\n",
       "      <td>507</td>\n",
       "    </tr>\n",
       "  </tbody>\n",
       "</table>\n",
       "</div>"
      ],
      "text/plain": [
       "        date group  visitors\n",
       "0 2019-08-01     A       719\n",
       "1 2019-08-02     A       619\n",
       "2 2019-08-03     A       507"
      ]
     },
     "execution_count": 15,
     "metadata": {},
     "output_type": "execute_result"
    }
   ],
   "source": [
    "df_visitors.head(3)"
   ]
  },
  {
   "cell_type": "code",
   "execution_count": 16,
   "id": "a0af76a5",
   "metadata": {},
   "outputs": [
    {
     "data": {
      "text/html": [
       "<div>\n",
       "<style scoped>\n",
       "    .dataframe tbody tr th:only-of-type {\n",
       "        vertical-align: middle;\n",
       "    }\n",
       "\n",
       "    .dataframe tbody tr th {\n",
       "        vertical-align: top;\n",
       "    }\n",
       "\n",
       "    .dataframe thead th {\n",
       "        text-align: right;\n",
       "    }\n",
       "</style>\n",
       "<table border=\"1\" class=\"dataframe\">\n",
       "  <thead>\n",
       "    <tr style=\"text-align: right;\">\n",
       "      <th></th>\n",
       "      <th>date</th>\n",
       "      <th>group</th>\n",
       "      <th>orders</th>\n",
       "      <th>buyers</th>\n",
       "      <th>revenue</th>\n",
       "      <th>visitors</th>\n",
       "    </tr>\n",
       "  </thead>\n",
       "  <tbody>\n",
       "    <tr>\n",
       "      <th>0</th>\n",
       "      <td>2019-08-01</td>\n",
       "      <td>A</td>\n",
       "      <td>24</td>\n",
       "      <td>20</td>\n",
       "      <td>148579</td>\n",
       "      <td>719</td>\n",
       "    </tr>\n",
       "    <tr>\n",
       "      <th>1</th>\n",
       "      <td>2019-08-01</td>\n",
       "      <td>B</td>\n",
       "      <td>21</td>\n",
       "      <td>20</td>\n",
       "      <td>101217</td>\n",
       "      <td>713</td>\n",
       "    </tr>\n",
       "    <tr>\n",
       "      <th>2</th>\n",
       "      <td>2019-08-02</td>\n",
       "      <td>A</td>\n",
       "      <td>44</td>\n",
       "      <td>38</td>\n",
       "      <td>242401</td>\n",
       "      <td>1338</td>\n",
       "    </tr>\n",
       "    <tr>\n",
       "      <th>3</th>\n",
       "      <td>2019-08-02</td>\n",
       "      <td>B</td>\n",
       "      <td>45</td>\n",
       "      <td>43</td>\n",
       "      <td>266748</td>\n",
       "      <td>1294</td>\n",
       "    </tr>\n",
       "    <tr>\n",
       "      <th>4</th>\n",
       "      <td>2019-08-03</td>\n",
       "      <td>A</td>\n",
       "      <td>68</td>\n",
       "      <td>62</td>\n",
       "      <td>354874</td>\n",
       "      <td>1845</td>\n",
       "    </tr>\n",
       "  </tbody>\n",
       "</table>\n",
       "</div>"
      ],
      "text/plain": [
       "        date group  orders  buyers  revenue  visitors\n",
       "0 2019-08-01     A      24      20   148579       719\n",
       "1 2019-08-01     B      21      20   101217       713\n",
       "2 2019-08-02     A      44      38   242401      1338\n",
       "3 2019-08-02     B      45      43   266748      1294\n",
       "4 2019-08-03     A      68      62   354874      1845"
      ]
     },
     "execution_count": 16,
     "metadata": {},
     "output_type": "execute_result"
    }
   ],
   "source": [
    "# создаем массив уникальных пар значений дат и групп теста\n",
    "datesGroups = df_orders[['date','group']].drop_duplicates() \n",
    "#Соберём агрегированные кумулятивные по дням данные о заказах\n",
    "ordersAggregated = datesGroups.apply(\n",
    "    lambda x: df_orders[\n",
    "        np.logical_and(\n",
    "            df_orders['date'] <= x['date'],df_orders['group'] == x['group']\n",
    "        )\n",
    "    ].agg(\n",
    "        {\n",
    "            'date' : 'max', \n",
    "            'group' : 'max', \n",
    "            'transactionId' : 'nunique',\n",
    "            'visitorId' : 'nunique', \n",
    "            'revenue' : 'sum'\n",
    "        }\n",
    "    ), \n",
    "    axis=1\n",
    ").sort_values(by=['date','group'])\n",
    "#получим агрегированные кумулятивные по дням данные о посетителях интернет-магазина\n",
    "visitorsAggregated = datesGroups.apply(\n",
    "    lambda x: df_visitors[\n",
    "        np.logical_and(\n",
    "            df_visitors['date'] <= x['date'], df_visitors['group'] == x['group']\n",
    "        )\n",
    "    ].agg(\n",
    "        {'date' : 'max', 'group' : 'max', 'visitors' : 'sum'}),\n",
    "    axis=1\n",
    ").sort_values(by=['date','group'])\n",
    "# объединяем кумулятивные данные в одной таблице и присваиваем ее столбцам  названия\n",
    "cumulativeData = ordersAggregated.merge(visitorsAggregated, left_on=['date', 'group'], right_on=['date', 'group'])\n",
    "cumulativeData.columns = ['date', 'group', 'orders', 'buyers', 'revenue', 'visitors']\n",
    "\n",
    "cumulativeData.head(5)"
   ]
  },
  {
   "cell_type": "code",
   "execution_count": 17,
   "id": "60073784",
   "metadata": {},
   "outputs": [
    {
     "name": "stdout",
     "output_type": "stream",
     "text": [
      "2019-08-01 00:00:00\n",
      "2019-08-01 00:00:00\n",
      "2019-08-31 00:00:00\n",
      "2019-08-31 00:00:00\n"
     ]
    }
   ],
   "source": [
    "print(cumulativeData['date'].min())\n",
    "print(df_orders['date'].min())\n",
    "print(cumulativeData['date'].max())\n",
    "print(df_orders['date'].max())"
   ]
  },
  {
   "cell_type": "markdown",
   "id": "0a403073",
   "metadata": {},
   "source": [
    "Минимальная и максимальная дата в сформированном датафрейме совпадает с датами в исходном датафреме. Датафрейм сформирован верно"
   ]
  },
  {
   "cell_type": "code",
   "execution_count": 18,
   "id": "d3c66c97",
   "metadata": {
    "scrolled": false
   },
   "outputs": [
    {
     "data": {
      "image/png": "[encoded data removed]",
      "text/plain": [
       "<Figure size 864x504 with 1 Axes>"
      ]
     },
     "metadata": {
      "needs_background": "light"
     },
     "output_type": "display_data"
    }
   ],
   "source": [
    "# датафрейм с кумулятивным количеством заказов и кумулятивной выручкой по дням в группе А\n",
    "cumulativeRevenueA = cumulativeData[cumulativeData['group']=='A'][['date','revenue', 'orders']]\n",
    "\n",
    "# датафрейм с кумулятивным количеством заказов и кумулятивной выручкой по дням в группе B\n",
    "cumulativeRevenueB = cumulativeData[cumulativeData['group']=='B'][['date','revenue', 'orders']]\n",
    "\n",
    "plt.figure(figsize=(12, 7))\n",
    "# Строим график выручки группы А\n",
    "plt.plot(cumulativeRevenueA['date'], cumulativeRevenueA['revenue'], label='A')\n",
    "\n",
    "# Строим график выручки группы B\n",
    "plt.plot(cumulativeRevenueB['date'], cumulativeRevenueB['revenue'], label='B')\n",
    "\n",
    "plt.legend() \n",
    "plt.title('График кумулятивной выручки по группам')\n",
    "plt.xlabel('Дата')\n",
    "plt.ylabel('Выручка')\n",
    "plt.xticks(rotation=45)\n",
    "plt.grid()\n",
    "plt.show()"
   ]
  },
  {
   "cell_type": "markdown",
   "id": "d9b9478e",
   "metadata": {},
   "source": [
    "Выручка обеих групп равномерно растет. У группы В присутсвует резкий скачек выручки 19 августа, вероятно аномально крупная покупка."
   ]
  },
  {
   "cell_type": "markdown",
   "id": "1d13759b",
   "metadata": {},
   "source": [
    "### Построим график кумулятивного среднего чека"
   ]
  },
  {
   "cell_type": "code",
   "execution_count": 19,
   "id": "5b47aa05",
   "metadata": {},
   "outputs": [
    {
     "data": {
      "image/png": "[encoded data removed]",
      "text/plain": [
       "<Figure size 864x504 with 1 Axes>"
      ]
     },
     "metadata": {
      "needs_background": "light"
     },
     "output_type": "display_data"
    }
   ],
   "source": [
    "plt.figure(figsize=(12, 7))\n",
    "plt.plot(cumulativeRevenueA['date'], cumulativeRevenueA['revenue']/cumulativeRevenueA['orders'], label='A')\n",
    "plt.plot(cumulativeRevenueB['date'], cumulativeRevenueB['revenue']/cumulativeRevenueB['orders'], label='B')\n",
    "plt.legend() \n",
    "plt.title('График кумулятивного среднего чека по группам')\n",
    "plt.xlabel('Дата')\n",
    "plt.ylabel('средний чек')\n",
    "plt.xticks(rotation=45)\n",
    "plt.grid()\n",
    "plt.show()"
   ]
  },
  {
   "cell_type": "markdown",
   "id": "58c174ad",
   "metadata": {},
   "source": [
    "Средний чек группы А с течением времени стабилизировался, в группе В в августе так же наблюдается резкий всплеск. Вероятно аномально крупная покупка."
   ]
  },
  {
   "cell_type": "markdown",
   "id": "b29a5a70",
   "metadata": {},
   "source": [
    "### Построим график относительного изменения кумулятивного среднего чека группы B к группе A."
   ]
  },
  {
   "cell_type": "code",
   "execution_count": 20,
   "id": "d64749dd",
   "metadata": {},
   "outputs": [
    {
     "data": {
      "image/png": "[encoded data removed]",
      "text/plain": [
       "<Figure size 864x504 with 1 Axes>"
      ]
     },
     "metadata": {
      "needs_background": "light"
     },
     "output_type": "display_data"
    }
   ],
   "source": [
    "plt.figure(figsize=(12, 7))\n",
    "# собираем данные в одном датафрейме\n",
    "mergedCumulativeRevenue = cumulativeRevenueA.merge(cumulativeRevenueB, left_on='date', right_on='date', how='left', suffixes=['A', 'B'])\n",
    "\n",
    "# cтроим отношение средних чеков\n",
    "plt.plot(mergedCumulativeRevenue['date'], (mergedCumulativeRevenue['revenueB']/mergedCumulativeRevenue['ordersB'])/(mergedCumulativeRevenue['revenueA']/mergedCumulativeRevenue['ordersA'])-1)\n",
    "\n",
    "# добавляем ось X\n",
    "plt.axhline(y=0, color='black', linestyle='--') \n",
    "\n",
    "plt.title('График относительного изменения кумулятивного среднего чека группы B к группе A')\n",
    "plt.xlabel('Дата')\n",
    "plt.ylabel('Отношение')\n",
    "plt.xticks(rotation=45)\n",
    "plt.grid()\n",
    "plt.show()"
   ]
  },
  {
   "cell_type": "markdown",
   "id": "eb23f692",
   "metadata": {},
   "source": [
    "Результаты теста показали, что резкие изменения также произошили в в период 18-19 августа. вероятно именно в эти даты были сделаны аномальные покупки"
   ]
  },
  {
   "cell_type": "markdown",
   "id": "9a9c8072",
   "metadata": {},
   "source": [
    "### Построим график кумулятивного среднего количества заказов на посетителя по группам"
   ]
  },
  {
   "cell_type": "code",
   "execution_count": 21,
   "id": "6e5deef0",
   "metadata": {},
   "outputs": [
    {
     "data": {
      "image/png": "[encoded data removed]",
      "text/plain": [
       "<Figure size 864x504 with 1 Axes>"
      ]
     },
     "metadata": {
      "needs_background": "light"
     },
     "output_type": "display_data"
    }
   ],
   "source": [
    "plt.figure(figsize=(12, 7))\n",
    "# считаем среднее количество заказов на посетителя\n",
    "cumulativeData['conversion'] = cumulativeData['orders']/cumulativeData['visitors']\n",
    "\n",
    "# отделяем данные по группе A\n",
    "cumulativeDataA = cumulativeData[cumulativeData['group']=='A']\n",
    "\n",
    "# отделяем данные по группе B\n",
    "cumulativeDataB = cumulativeData[cumulativeData['group']=='B']\n",
    "\n",
    "\n",
    "# строим графики\n",
    "plt.plot(cumulativeDataA['date'], cumulativeDataA['conversion'], label='A')\n",
    "plt.plot(cumulativeDataB['date'], cumulativeDataB['conversion'], label='B')\n",
    "plt.legend()\n",
    "# задаем масштаб осей\n",
    "plt.axis([dt.datetime(2019, 8, 1), dt.datetime(2019, 9, 1), 0, 0.05]) \n",
    "\n",
    "plt.title('График кумулятивного среднего количества заказов на посетителя по группам')\n",
    "plt.xlabel('Дата')\n",
    "plt.ylabel('Конверсии')\n",
    "plt.xticks(rotation=45)\n",
    "plt.grid()\n",
    "plt.show()\n"
   ]
  },
  {
   "cell_type": "markdown",
   "id": "4505e888",
   "metadata": {},
   "source": [
    "Среднее количество заказов группы В преобладает"
   ]
  },
  {
   "cell_type": "markdown",
   "id": "21c412b1",
   "metadata": {},
   "source": [
    "### Построим график относительного изменения кумулятивного среднего количества заказов на посетителя группы B к группе A"
   ]
  },
  {
   "cell_type": "code",
   "execution_count": 22,
   "id": "221eedce",
   "metadata": {},
   "outputs": [
    {
     "data": {
      "image/png": "[encoded data removed]",
      "text/plain": [
       "<Figure size 864x504 with 1 Axes>"
      ]
     },
     "metadata": {
      "needs_background": "light"
     },
     "output_type": "display_data"
    }
   ],
   "source": [
    "mergedCumulativeConversions = cumulativeDataA[['date','conversion']].merge(cumulativeDataB[['date','conversion']], left_on='date', right_on='date', how='left', suffixes=['A', 'B'])\n",
    "\n",
    "plt.figure(figsize=(12, 7))\n",
    "plt.plot(mergedCumulativeConversions['date'], mergedCumulativeConversions['conversionB']/mergedCumulativeConversions['conversionA']-1, label=\"прирост кумулятивного среднего количества заказов \")\n",
    "plt.legend()\n",
    "\n",
    "plt.axhline(y=0, color='black', linestyle='--')\n",
    "plt.axhline(y=0.15, color='grey', linestyle='--')\n",
    "plt.axis([dt.datetime(2019, 8, 1), dt.datetime(2019, 9, 1), -0.4, 0.4])\n",
    "plt.title('Относительный прирост кумулятивного среднего количества заказов на посетителя группы B относительно группы A')\n",
    "plt.xlabel('Дата')\n",
    "plt.ylabel('прирост кумулятивного среднего')\n",
    "plt.xticks(rotation=45)\n",
    "plt.grid()\n",
    "plt.show()"
   ]
  },
  {
   "cell_type": "markdown",
   "id": "52edf598",
   "metadata": {},
   "source": [
    "Почти с самого начала теста группа В лидирует по метрике. Прирост достигал 20% относительно группы А потом откат до 10%."
   ]
  },
  {
   "cell_type": "markdown",
   "id": "1d5f79dc",
   "metadata": {},
   "source": [
    "### Построим точечный график количества заказов по пользователям"
   ]
  },
  {
   "cell_type": "code",
   "execution_count": 23,
   "id": "38b7ec79",
   "metadata": {},
   "outputs": [
    {
     "data": {
      "text/html": [
       "<div>\n",
       "<style scoped>\n",
       "    .dataframe tbody tr th:only-of-type {\n",
       "        vertical-align: middle;\n",
       "    }\n",
       "\n",
       "    .dataframe tbody tr th {\n",
       "        vertical-align: top;\n",
       "    }\n",
       "\n",
       "    .dataframe thead th {\n",
       "        text-align: right;\n",
       "    }\n",
       "</style>\n",
       "<table border=\"1\" class=\"dataframe\">\n",
       "  <thead>\n",
       "    <tr style=\"text-align: right;\">\n",
       "      <th></th>\n",
       "      <th>userId</th>\n",
       "      <th>orders</th>\n",
       "    </tr>\n",
       "  </thead>\n",
       "  <tbody>\n",
       "    <tr>\n",
       "      <th>1023</th>\n",
       "      <td>4256040402</td>\n",
       "      <td>11</td>\n",
       "    </tr>\n",
       "    <tr>\n",
       "      <th>591</th>\n",
       "      <td>2458001652</td>\n",
       "      <td>11</td>\n",
       "    </tr>\n",
       "    <tr>\n",
       "      <th>569</th>\n",
       "      <td>2378935119</td>\n",
       "      <td>9</td>\n",
       "    </tr>\n",
       "    <tr>\n",
       "      <th>487</th>\n",
       "      <td>2038680547</td>\n",
       "      <td>8</td>\n",
       "    </tr>\n",
       "    <tr>\n",
       "      <th>44</th>\n",
       "      <td>199603092</td>\n",
       "      <td>5</td>\n",
       "    </tr>\n",
       "  </tbody>\n",
       "</table>\n",
       "</div>"
      ],
      "text/plain": [
       "          userId  orders\n",
       "1023  4256040402      11\n",
       "591   2458001652      11\n",
       "569   2378935119       9\n",
       "487   2038680547       8\n",
       "44     199603092       5"
      ]
     },
     "execution_count": 23,
     "metadata": {},
     "output_type": "execute_result"
    }
   ],
   "source": [
    "# сгруппирует заказы по пользователям\n",
    "ordersByUsers = (\n",
    "    df_orders.groupby('visitorId', as_index=False)\n",
    "    .agg({'transactionId': 'nunique'})#число уникальных заказов по сгруппированным данным\n",
    ")\n",
    "ordersByUsers.columns = ['userId', 'orders']\n",
    "\n",
    "ordersByUsers = ordersByUsers.sort_values(by='orders', ascending=False)\n",
    "ordersByUsers.head(5)"
   ]
  },
  {
   "cell_type": "code",
   "execution_count": 24,
   "id": "2aa107cd",
   "metadata": {},
   "outputs": [
    {
     "data": {
      "image/png": "[encoded data removed]",
      "text/plain": [
       "<Figure size 864x504 with 1 Axes>"
      ]
     },
     "metadata": {
      "needs_background": "light"
     },
     "output_type": "display_data"
    }
   ],
   "source": [
    "# серия из чисел от 0 до количества наблюдений в ordersByUsers\n",
    "x_values = pd.Series(range(0, len(ordersByUsers)))\n",
    "plt.figure(figsize=(12, 7))\n",
    "plt.scatter(x_values, ordersByUsers['orders']) \n",
    "\n",
    "plt.title('График количества заказов по пользователям')\n",
    "plt.xlabel('Частота')\n",
    "plt.ylabel('Количество')\n",
    "\n",
    "plt.grid()\n",
    "plt.show()"
   ]
  },
  {
   "cell_type": "markdown",
   "id": "0bec1822",
   "metadata": {},
   "source": [
    "Больше всего пользователей совершают 1 покупку. Судя по графику, можно предположить, что пользователей сделавших больше 2 заказов можно отнести к аномальным"
   ]
  },
  {
   "cell_type": "markdown",
   "id": "616aaf3e",
   "metadata": {},
   "source": [
    "### Посчитаем 95-й и 99-й перцентили количества заказов на пользователя"
   ]
  },
  {
   "cell_type": "code",
   "execution_count": 25,
   "id": "14505521",
   "metadata": {},
   "outputs": [
    {
     "name": "stdout",
     "output_type": "stream",
     "text": [
      "[2. 4.]\n"
     ]
    }
   ],
   "source": [
    "print(np.percentile(ordersByUsers['orders'], [ 95, 99])) "
   ]
  },
  {
   "cell_type": "markdown",
   "id": "f999bde7",
   "metadata": {},
   "source": [
    "Не более 5% пользователей совершали более 2 заказов и не более 1% пользователей делали более 4 закаов. Пользователей сделавших 2 заказа выберем как верхнюю границу"
   ]
  },
  {
   "cell_type": "markdown",
   "id": "bfdba872",
   "metadata": {},
   "source": [
    "### Построим точечный график стоимостей заказов"
   ]
  },
  {
   "cell_type": "code",
   "execution_count": 26,
   "id": "ec8f205f",
   "metadata": {},
   "outputs": [
    {
     "data": {
      "image/png": "[encoded data removed]",
      "text/plain": [
       "<Figure size 864x504 with 1 Axes>"
      ]
     },
     "metadata": {
      "needs_background": "light"
     },
     "output_type": "display_data"
    }
   ],
   "source": [
    "# серия из чисел от 0 до количества наблюдений в df_orders\n",
    "x_values = pd.Series(range(0, len(df_orders)))\n",
    "plt.figure(figsize=(12, 7))\n",
    "plt.scatter(x_values, df_orders['revenue']) \n",
    "\n",
    "plt.title('График стоимости заказов по пользователям')\n",
    "plt.xlabel('Частота')\n",
    "plt.ylabel('Стоимость')\n",
    "\n",
    "plt.grid()\n",
    "plt.show()"
   ]
  },
  {
   "cell_type": "markdown",
   "id": "299581f1",
   "metadata": {},
   "source": [
    "Из графика видно, что есть 2 заказа с высокой стоимостью."
   ]
  },
  {
   "cell_type": "markdown",
   "id": "901f7e5d",
   "metadata": {},
   "source": [
    "### Посчитаем 95-й и 99-й перцентили стоимости заказов"
   ]
  },
  {
   "cell_type": "code",
   "execution_count": 27,
   "id": "44f97a03",
   "metadata": {},
   "outputs": [
    {
     "data": {
      "text/plain": [
       "array([28000. , 58233.2])"
      ]
     },
     "execution_count": 27,
     "metadata": {},
     "output_type": "execute_result"
    }
   ],
   "source": [
    "np.percentile(df_orders['revenue'], [ 95, 99])"
   ]
  },
  {
   "cell_type": "markdown",
   "id": "8e6e66ad",
   "metadata": {},
   "source": [
    "5% заказов не более 28000, 1% заказом стоимостью свыше 58233. Примем, что заказы стоимостью свыше 28000 считаются аномальными"
   ]
  },
  {
   "cell_type": "markdown",
   "id": "f7c72c46",
   "metadata": {},
   "source": [
    "### Посчитаем статистическую значимость различий в среднем количестве заказов на посетителя между группами по «сырым» данным"
   ]
  },
  {
   "cell_type": "markdown",
   "id": "3c81ea4b",
   "metadata": {},
   "source": [
    "Сформируем гипотезу:\n",
    "Нулевая: Статистически значимых различий в среднем количестве заказов между группами по \"сырым\" данным нет. Альтернативная: Статистически значимых различия в среднем количестве заказов между группами по \"сырым\" данным есть\n",
    "\n",
    "Уровень статистической значимости alpha  примем за 5%\n",
    "\n",
    "Для теста будем использовать U-критерий Манна-Уитни, он более подходящий для нашей ситуации, чтобы сравнить средние значения непараметрическим способом"
   ]
  },
  {
   "cell_type": "code",
   "execution_count": 28,
   "id": "96593185",
   "metadata": {},
   "outputs": [
    {
     "name": "stdout",
     "output_type": "stream",
     "text": [
      "        date  ordersPerDateA  revenuePerDateA  ordersPerDateB  \\\n",
      "0 2019-08-01              24           148579              21   \n",
      "1 2019-08-02              20            93822              24   \n",
      "2 2019-08-03              24           112473              16   \n",
      "3 2019-08-04              16            70825              17   \n",
      "4 2019-08-05              25           124218              23   \n",
      "\n",
      "   revenuePerDateB  ordersCummulativeA  revenueCummulativeA  \\\n",
      "0           101217                  24               148579   \n",
      "1           165531                  44               242401   \n",
      "2           114248                  68               354874   \n",
      "3           108571                  84               425699   \n",
      "4            92428                 109               549917   \n",
      "\n",
      "   ordersCummulativeB  revenueCummulativeB  visitorsPerDateA  \\\n",
      "0                  21               101217               719   \n",
      "1                  45               266748               619   \n",
      "2                  61               380996               507   \n",
      "3                  78               489567               717   \n",
      "4                 101               581995               756   \n",
      "\n",
      "   visitorsPerDateB  visitorsCummulativeA  visitorsCummulativeB  \n",
      "0               713                   719                   713  \n",
      "1               581                  1338                  1294  \n",
      "2               509                  1845                  1803  \n",
      "3               770                  2562                  2573  \n",
      "4               707                  3318                  3280  \n",
      "p-значение:0.017\n",
      "относительный прирост среднего числа заказов группы B: 0.138\n"
     ]
    }
   ],
   "source": [
    "visitorsADaily = df_visitors[df_visitors['group'] == 'A'][['date', 'visitors']]\n",
    "visitorsADaily.columns = ['date', 'visitorsPerDateA']\n",
    "\n",
    "visitorsACummulative = visitorsADaily.apply(\n",
    "    lambda x: visitorsADaily[visitorsADaily['date'] <= x['date']].agg(\n",
    "        {'date': 'max', 'visitorsPerDateA': 'sum'}\n",
    "    ),\n",
    "    axis=1,\n",
    ")\n",
    "visitorsACummulative.columns = ['date', 'visitorsCummulativeA']\n",
    "\n",
    "visitorsBDaily = df_visitors[df_visitors['group'] == 'B'][['date', 'visitors']]\n",
    "visitorsBDaily.columns = ['date', 'visitorsPerDateB']\n",
    "\n",
    "visitorsBCummulative = visitorsBDaily.apply(\n",
    "    lambda x: visitorsBDaily[visitorsBDaily['date'] <= x['date']].agg(\n",
    "        {'date': 'max', 'visitorsPerDateB': 'sum'}\n",
    "    ),\n",
    "    axis=1,\n",
    ")\n",
    "visitorsBCummulative.columns = ['date', 'visitorsCummulativeB']\n",
    "\n",
    "ordersADaily = (\n",
    "    df_orders[df_orders['group'] == 'A'][['date', 'transactionId', 'visitorId', 'revenue']]\n",
    "    .groupby('date', as_index=False)\n",
    "    .agg({'transactionId': pd.Series.nunique, 'revenue': 'sum'})\n",
    ")\n",
    "ordersADaily.columns = ['date', 'ordersPerDateA', 'revenuePerDateA']\n",
    "\n",
    "ordersACummulative = ordersADaily.apply(\n",
    "    lambda x: ordersADaily[ordersADaily['date'] <= x['date']].agg(\n",
    "        {'date': 'max', 'ordersPerDateA': 'sum', 'revenuePerDateA': 'sum'}\n",
    "    ),\n",
    "    axis=1,\n",
    ").sort_values(by=['date'])\n",
    "ordersACummulative.columns = [\n",
    "    'date',\n",
    "    'ordersCummulativeA',\n",
    "    'revenueCummulativeA',\n",
    "]\n",
    "\n",
    "ordersBDaily = (\n",
    "    df_orders[df_orders['group'] == 'B'][['date', 'transactionId', 'visitorId', 'revenue']]\n",
    "    .groupby('date', as_index=False)\n",
    "    .agg({'transactionId': pd.Series.nunique, 'revenue': 'sum'})\n",
    ")\n",
    "ordersBDaily.columns = ['date', 'ordersPerDateB', 'revenuePerDateB']\n",
    "\n",
    "ordersBCummulative = ordersBDaily.apply(\n",
    "    lambda x: ordersBDaily[ordersBDaily['date'] <= x['date']].agg(\n",
    "        {'date': 'max', 'ordersPerDateB': 'sum', 'revenuePerDateB': 'sum'}\n",
    "    ),\n",
    "    axis=1,\n",
    ").sort_values(by=['date'])\n",
    "ordersBCummulative.columns = [\n",
    "    'date',\n",
    "    'ordersCummulativeB',\n",
    "    'revenueCummulativeB',\n",
    "]\n",
    "\n",
    "data = (\n",
    "    ordersADaily.merge(\n",
    "        ordersBDaily, left_on='date', right_on='date', how='left'\n",
    "    )\n",
    "    .merge(ordersACummulative, left_on='date', right_on='date', how='left')\n",
    "    .merge(ordersBCummulative, left_on='date', right_on='date', how='left')\n",
    "    .merge(visitorsADaily, left_on='date', right_on='date', how='left')\n",
    "    .merge(visitorsBDaily, left_on='date', right_on='date', how='left')\n",
    "    .merge(visitorsACummulative, left_on='date', right_on='date', how='left')\n",
    "    .merge(visitorsBCummulative, left_on='date', right_on='date', how='left')\n",
    ")\n",
    "\n",
    "print(data.head(5))\n",
    "ordersByUsersA = (\n",
    "    df_orders[df_orders['group'] == 'A']\n",
    "    .groupby('visitorId', as_index=False)\n",
    "    .agg({'transactionId': pd.Series.nunique})\n",
    ")\n",
    "ordersByUsersA.columns = ['userId', 'orders']\n",
    "\n",
    "ordersByUsersB = (\n",
    "    df_orders[df_orders['group'] == 'B']\n",
    "    .groupby('visitorId', as_index=False)\n",
    "    .agg({'transactionId': pd.Series.nunique})\n",
    ")\n",
    "ordersByUsersB.columns = ['userId', 'orders']\n",
    "sampleA = pd.concat([ordersByUsersA['orders'],pd.Series(0, index=np.arange(data['visitorsPerDateA'].sum() - len(ordersByUsersA['orders'])), name='orders')],axis=0)\n",
    "\n",
    "sampleB = pd.concat([ordersByUsersB['orders'],pd.Series(0, index=np.arange(data['visitorsPerDateB'].sum() - len(ordersByUsersB['orders'])), name='orders')],axis=0)\n",
    " \n",
    "print('p-значение:'\"{0:.3f}\".format(st.mannwhitneyu(sampleA, sampleB)[1]))\n",
    "\n",
    "\n",
    "print('относительный прирост среднего числа заказов группы B: '\"{0:.3f}\".format((data['ordersPerDateB'].sum()/data['visitorsPerDateB'].sum())/(data['ordersPerDateA'].sum()/data['visitorsPerDateA'].sum())-1))\n"
   ]
  },
  {
   "cell_type": "markdown",
   "id": "e237d87a",
   "metadata": {},
   "source": [
    "P-value  меньше 0.05, потому нулевую гипотезу отвергаем. Анализ «сырых данных» сообщает, что в среднем количестве заказов между группами есть статистически значимые различия. Относительный прирост среднего числа заказов группы B к группе A равен 13.8%.\n"
   ]
  },
  {
   "cell_type": "markdown",
   "id": "55f45165",
   "metadata": {},
   "source": [
    "### Посчитаем статистическую значимость различий в среднем чеке заказа между группами по «сырым» данным."
   ]
  },
  {
   "cell_type": "markdown",
   "id": "780e59a0",
   "metadata": {},
   "source": [
    "Сформируем гипотезу: Нулевая гипотеза: различий в среднем чеке по \"сырым\" данным между группами нет. Альтернативная гипотеза: различия в среднем чеке по \"сырым\" данным между группами есть."
   ]
  },
  {
   "cell_type": "code",
   "execution_count": 29,
   "id": "2e7656e3",
   "metadata": {},
   "outputs": [
    {
     "name": "stdout",
     "output_type": "stream",
     "text": [
      "р-значение: 0.729\n",
      "относительное различие среднего чека: 0.259\n"
     ]
    }
   ],
   "source": [
    "print('р-значение: ''{0:.3f}'.format(st.mannwhitneyu(df_orders[df_orders['group']=='A']['revenue'], df_orders[df_orders['group']=='B']['revenue'])[1]))\n",
    "print('относительное различие среднего чека: ''{0:.3f}'.format(df_orders[df_orders['group']=='B']['revenue'].mean()/df_orders[df_orders['group']=='A']['revenue'].mean()-1))"
   ]
  },
  {
   "cell_type": "markdown",
   "id": "c8420140",
   "metadata": {},
   "source": [
    "P-value больше 0.05 — статистически значимых отличий в среднем чеке между группами нет. Нулевую гипотезу отвергнуть не можем. Относительное различие среднего чека между сегментами 25.9%"
   ]
  },
  {
   "cell_type": "markdown",
   "id": "9be1cfef",
   "metadata": {},
   "source": [
    "Уберем аномалии и посчитаем статзначимость на \"очищенных\" данных"
   ]
  },
  {
   "cell_type": "markdown",
   "id": "b5e99b7e",
   "metadata": {},
   "source": [
    "### Посчитаем статистическую значимость различий в среднем количестве заказов на посетителя между группами по «очищенным» данным"
   ]
  },
  {
   "cell_type": "markdown",
   "id": "46649faf",
   "metadata": {},
   "source": [
    "Ранее мы нашли аномальные показатели. Уберем пользователей которые сделали более 2 заказом и пользователей с заказом более 28000"
   ]
  },
  {
   "cell_type": "code",
   "execution_count": 30,
   "id": "03c4fd5b",
   "metadata": {},
   "outputs": [
    {
     "name": "stdout",
     "output_type": "stream",
     "text": [
      "1099    148427295\n",
      "18      199603092\n",
      "928     204675465\n",
      "23      237748145\n",
      "37      249864742\n",
      "dtype: int64\n",
      "74\n"
     ]
    }
   ],
   "source": [
    "usersWithManyOrders = pd.concat(\n",
    "    [\n",
    "        ordersByUsersA[ordersByUsersA['orders'] > np.percentile(ordersByUsers['orders'], 95)]['userId'],\n",
    "        ordersByUsersB[ordersByUsersB['orders'] > np.percentile(ordersByUsers['orders'], 95)]['userId'],\n",
    "    ],\n",
    "    axis=0,\n",
    ")\n",
    "usersWithExpensiveOrders = df_orders[df_orders['revenue'] > np.percentile(df_orders['revenue'], 95)]['visitorId']\n",
    "abnormalUsers = (\n",
    "    pd.concat([usersWithManyOrders, usersWithExpensiveOrders], axis=0)\n",
    "    .drop_duplicates()\n",
    "    .sort_values()\n",
    ")\n",
    "print(abnormalUsers.head(5))\n",
    "print(abnormalUsers.shape[0])"
   ]
  },
  {
   "cell_type": "markdown",
   "id": "89014c98",
   "metadata": {},
   "source": [
    "Всего 74 аномальныхпользователя\n",
    "\n",
    "Посмотрим как их действия повлияли на результаты теста. Посчитаем статистическую значимость различий в среднем количестве заказов между группами теста по очищенным данным"
   ]
  },
  {
   "cell_type": "markdown",
   "id": "21e1906d",
   "metadata": {},
   "source": [
    "Нулевая гипотеза: Статистически значимых различий в среднем количестве заказов между группами по \"чистым\" данным нет. Альтернативная: Статистически значимых различия в среднем количестве заказов между группами по \"чистым\" данным есть\n",
    "\n",
    "Уровень статистической значимости alpha  примем за 5%\n",
    "\n",
    "Для теста будем использовать U-критерий Манна-Уитни, он более подходящий для нашей ситуации, чтобы сравнить средние значения непараметрическим способом"
   ]
  },
  {
   "cell_type": "code",
   "execution_count": 31,
   "id": "fb8c2758",
   "metadata": {},
   "outputs": [
    {
     "name": "stdout",
     "output_type": "stream",
     "text": [
      "р-значение: 0.013\n",
      "относительное прирост среднего количества заказов: 0.173\n"
     ]
    }
   ],
   "source": [
    "sampleAFiltered = pd.concat(\n",
    "    [\n",
    "        ordersByUsersA[\n",
    "            np.logical_not(ordersByUsersA['userId'].isin(abnormalUsers))\n",
    "        ]['orders'],\n",
    "        pd.Series(\n",
    "            0,\n",
    "            index=np.arange(\n",
    "                data['visitorsPerDateA'].sum() - len(ordersByUsersA['orders'])\n",
    "            ),\n",
    "            name='orders',\n",
    "        ),\n",
    "    ],\n",
    "    axis=0,\n",
    ")\n",
    "\n",
    "sampleBFiltered = pd.concat(\n",
    "    [\n",
    "        ordersByUsersB[\n",
    "            np.logical_not(ordersByUsersB['userId'].isin(abnormalUsers))\n",
    "        ]['orders'],\n",
    "        pd.Series(\n",
    "            0,\n",
    "            index=np.arange(\n",
    "                data['visitorsPerDateB'].sum() - len(ordersByUsersB['orders'])\n",
    "            ),\n",
    "            name='orders',\n",
    "        ),\n",
    "    ],\n",
    "    axis=0,\n",
    ")\n",
    "print('р-значение: ''{0:.3f}'.format(st.mannwhitneyu(sampleAFiltered, sampleBFiltered)[1]))\n",
    "print('относительное прирост среднего количества заказов: ''{0:.3f}'.format(sampleBFiltered.mean()/sampleAFiltered.mean()-1)) "
   ]
  },
  {
   "cell_type": "markdown",
   "id": "0b785610",
   "metadata": {},
   "source": [
    "Нулевая гипотеза отвергается, как и в случае с \"сырыми\" данными, группа В лучше группы А. Относительный прирост среднего количества заказов группы B к  группе A равен 17.3%, что на 3.5% лучше по сравнению с \"сырыми\" данными."
   ]
  },
  {
   "cell_type": "markdown",
   "id": "00cad71f",
   "metadata": {},
   "source": [
    "### Посчитаем статистическую значимость различий в среднем чеке заказа между группами по «очищенным» данным."
   ]
  },
  {
   "cell_type": "markdown",
   "id": "b45c5dd8",
   "metadata": {},
   "source": [
    "Нулевая гипотеза: Статистически значимых различий в среднем чеке между группами по \"чистым\" данным нет. Альтернативная: Статистически значимых различия в среднем чеке между группами по \"чистым\" данным есть\n",
    "\n",
    "Уровень статистической значимости alpha  примем за 5%\n",
    "\n",
    "Для теста будем использовать U-критерий Манна-Уитни, он более подходящий для нашей ситуации, чтобы сравнить средние значения непараметрическим способом"
   ]
  },
  {
   "cell_type": "code",
   "execution_count": 32,
   "id": "a4cacfb4",
   "metadata": {},
   "outputs": [
    {
     "name": "stdout",
     "output_type": "stream",
     "text": [
      "р-значение: 0.738\n",
      "относительное различие среднего чека: -0.020\n"
     ]
    }
   ],
   "source": [
    "print(\n",
    "    'р-значение: '\n",
    "    '{0:.3f}'.format(\n",
    "        st.mannwhitneyu(\n",
    "            df_orders[\n",
    "                np.logical_and(\n",
    "                   df_orders['group'] == 'A',\n",
    "                    np.logical_not(df_orders['visitorId'].isin(abnormalUsers)),\n",
    "                )\n",
    "            ]['revenue'],\n",
    "            df_orders[\n",
    "                np.logical_and(\n",
    "                    df_orders['group'] == 'B',\n",
    "                    np.logical_not(df_orders['visitorId'].isin(abnormalUsers)),\n",
    "                )\n",
    "            ]['revenue'],\n",
    "        )[1]\n",
    "    )\n",
    ")\n",
    "\n",
    "print(\n",
    "    'относительное различие среднего чека: '\n",
    "    \"{0:.3f}\".format(\n",
    "        df_orders[\n",
    "            np.logical_and(\n",
    "                df_orders['group'] == 'B',\n",
    "                np.logical_not(df_orders['visitorId'].isin(abnormalUsers)),\n",
    "            )\n",
    "        ]['revenue'].mean()\n",
    "        / df_orders[\n",
    "            np.logical_and(\n",
    "                df_orders['group'] == 'A',\n",
    "                np.logical_not(df_orders['visitorId'].isin(abnormalUsers)),\n",
    "            )\n",
    "        ]['revenue'].mean()\n",
    "        - 1\n",
    "    )\n",
    ")"
   ]
  },
  {
   "cell_type": "markdown",
   "id": "cadd88d3",
   "metadata": {},
   "source": [
    "P-value больше 0.05 — статистически значимых отличий в среднем чеке между группами нет. Нулевую гипотезу отвергнуть не можем. Относительное различие среднего чека между сегментами по \"чистым\" данным снизилось с 25.9% до 2%"
   ]
  },
  {
   "cell_type": "markdown",
   "id": "c3c4df0d",
   "metadata": {},
   "source": [
    "## Приоретизация гипотез. Выводы"
   ]
  },
  {
   "cell_type": "markdown",
   "id": "c766c51b",
   "metadata": {},
   "source": [
    "* Наиболее перспективные гипотезы по ICE: Запустить акцию, дающую скидку на товар в день рождения, следующая по приоритету добавить два новых канала привлечения трафика, что позволит привлекать на 30% больше пользователей и добавить форму подписки на все основные страницы, чтобы собрать базу клиентов для email-рассылок\n",
    "* Наиболее перспективные гипотезы по RICE: Добавить форму подписки на все основные страницы, чтобы собрать базу клиентов для email-рассылок. Сильный перевес в приоритизации этой гипотезы внес параметр Reach — скольких пользователей затронет изменение."
   ]
  },
  {
   "cell_type": "markdown",
   "id": "cffbb057",
   "metadata": {},
   "source": [
    "## Принятие решения. Выводы."
   ]
  },
  {
   "cell_type": "markdown",
   "id": "81929388",
   "metadata": {},
   "source": [
    "Аналитика крупного интернет-магазина.\n",
    "\n",
    "Произведена загрузка и проверка данных, предобработана дата. пропуски в данных отсутсвуют.\n",
    "\n",
    "Анализ А/В - теста\n",
    "* Выручка обеих групп равномерно растет. У группы В присутсвует резкий скачек выручки 19 августа, вероятно аномально крупная покупка.\n",
    "* Средний чек группы А с течением времени стабилизировался, в группе В в августе так же наблюдается резкий всплеск. Вероятно аномально крупная покупка.\n",
    "* Результаты теста показали, что резкие изменения также произошили в в период 18-19 августа. вероятно именно в эти даты были сделаны аномальные покупки.\n",
    "* Среднее количество заказов группы В преобладает.\n",
    "* Почти с самого начала теста группа В лидирует по метрике. Прирост достигал 20% относительно группы А потом откат до 10%.\n",
    "* Больше всего пользователей совершают 1 покупку. Судя по графику, можно предположить, что пользователей сделавших больше 2 заказов можно отнести к аномальны.\n",
    "* Не более 5% пользователей совершали более 2 заказов и не более 1% пользователей делали более 4 закаов. Пользователей сделавших 2 заказа выберем как верхнюю границу\n",
    "* Из графика видно, что есть 2 заказа с высокой стоимостью.\n",
    "* 5% заказов не более 28000, 1% заказом стоимостью свыше 58233. Примем, что заказы стоимостью свыше 28000 считаются аномальными\n",
    "* Сформируем гипотезу: Нулевая: различий в среднем количестве заказов между группами нет. Альтернативная: различия в среднем между группами есть.\n",
    "    * P-value меньше 0.05, потому нулевую гипотезу отвергаем. Анализ «сырых данных» сообщает, что в среднем количестве заказов между группами есть статистически значимые различия. Относительный прирост среднего группы B к конверсии группы A равен 13.8%.\n",
    "* Сформируем гипотезу: Нулевая гипотеза: различий в среднем чеке между группами нет. Альтернативная гипотеза: различия в среднем чеке между группами есть.\n",
    "    * P-value больше 0.05 — статистически значимых отличий в среднем чеке между группами нет. Относительное различие среднего чека между сегментами 25.9%\n",
    "* Очистим данные и еще рас посчитаем статистическую значимость.\n",
    "    * P-value меньше 0.05. Нулевая гипотеза отвергается, как и в случае с \"сырыми\" данными, группа В лучше группы А. Относительный прирост среднего группы B к конверсии группы A равен 17.3%, что на 3.5% лучше по сравнению с \"сырыми\" данными.\n",
    "    * P-value больше 0.05 — статистически значимых отличий в среднем чеке между группами нет. Относительное различие среднего чека между сегментами по \"чистым\" данным снизилось с 25.9% до 2%\n",
    "    \n",
    "    \n",
    "Останавливаем тест. Фиксируем победу группы В. Количество заказов в группе В значительно выше количества заказов в группе А\n"
   ]
  },
  {
   "cell_type": "code",
   "execution_count": null,
   "id": "934dc5fb",
   "metadata": {},
   "outputs": [],
   "source": []
  }
 ],
 "metadata": {
  "ExecuteTimeLog": [
   {
    "duration": 1166,
    "start_time": "2024-01-16T21:56:55.782Z"
   },
   {
    "duration": 198,
    "start_time": "2024-01-16T21:56:56.950Z"
   },
   {
    "duration": 10,
    "start_time": "2024-01-16T21:56:57.149Z"
   },
   {
    "duration": 14,
    "start_time": "2024-01-16T21:56:57.161Z"
   },
   {
    "duration": 9,
    "start_time": "2024-01-16T21:56:57.177Z"
   },
   {
    "duration": 12,
    "start_time": "2024-01-16T21:56:57.188Z"
   },
   {
    "duration": 13,
    "start_time": "2024-01-16T21:56:57.202Z"
   },
   {
    "duration": 17,
    "start_time": "2024-01-16T21:56:57.216Z"
   },
   {
    "duration": 9,
    "start_time": "2024-01-16T21:56:57.234Z"
   },
   {
    "duration": 13,
    "start_time": "2024-01-16T21:56:57.244Z"
   },
   {
    "duration": 6,
    "start_time": "2024-01-16T21:56:57.258Z"
   },
   {
    "duration": 26,
    "start_time": "2024-01-16T21:56:57.265Z"
   },
   {
    "duration": 9,
    "start_time": "2024-01-16T21:56:57.292Z"
   },
   {
    "duration": 8,
    "start_time": "2024-01-16T21:56:57.303Z"
   },
   {
    "duration": 7,
    "start_time": "2024-01-16T21:56:57.312Z"
   },
   {
    "duration": 301,
    "start_time": "2024-01-16T21:56:57.320Z"
   },
   {
    "duration": 295,
    "start_time": "2024-01-16T21:56:57.622Z"
   },
   {
    "duration": 203,
    "start_time": "2024-01-16T21:56:57.919Z"
   },
   {
    "duration": 288,
    "start_time": "2024-01-16T21:56:58.123Z"
   },
   {
    "duration": 213,
    "start_time": "2024-01-16T21:56:58.413Z"
   },
   {
    "duration": 371,
    "start_time": "2024-01-16T21:56:58.627Z"
   },
   {
    "duration": 10,
    "start_time": "2024-01-16T21:56:58.999Z"
   },
   {
    "duration": 141,
    "start_time": "2024-01-16T21:56:59.011Z"
   },
   {
    "duration": 3,
    "start_time": "2024-01-16T21:56:59.154Z"
   },
   {
    "duration": 216,
    "start_time": "2024-01-16T21:56:59.158Z"
   },
   {
    "duration": 6,
    "start_time": "2024-01-16T21:56:59.375Z"
   },
   {
    "duration": 337,
    "start_time": "2024-01-16T21:56:59.382Z"
   },
   {
    "duration": 9,
    "start_time": "2024-01-16T21:56:59.721Z"
   },
   {
    "duration": 13,
    "start_time": "2024-01-16T21:56:59.731Z"
   },
   {
    "duration": 38,
    "start_time": "2024-01-16T21:56:59.745Z"
   },
   {
    "duration": 12,
    "start_time": "2024-01-16T21:56:59.784Z"
   },
   {
    "duration": 1206,
    "start_time": "2024-01-18T09:41:22.193Z"
   },
   {
    "duration": 319,
    "start_time": "2024-01-18T09:41:23.401Z"
   },
   {
    "duration": 11,
    "start_time": "2024-01-18T09:41:23.721Z"
   },
   {
    "duration": 10,
    "start_time": "2024-01-18T09:41:23.734Z"
   },
   {
    "duration": 25,
    "start_time": "2024-01-18T09:41:23.746Z"
   },
   {
    "duration": 31,
    "start_time": "2024-01-18T09:41:23.772Z"
   },
   {
    "duration": 35,
    "start_time": "2024-01-18T09:41:23.805Z"
   },
   {
    "duration": 24,
    "start_time": "2024-01-18T09:41:23.842Z"
   },
   {
    "duration": 32,
    "start_time": "2024-01-18T09:41:23.868Z"
   },
   {
    "duration": 42,
    "start_time": "2024-01-18T09:41:23.903Z"
   },
   {
    "duration": 28,
    "start_time": "2024-01-18T09:41:23.946Z"
   },
   {
    "duration": 38,
    "start_time": "2024-01-18T09:41:23.976Z"
   },
   {
    "duration": 41,
    "start_time": "2024-01-18T09:41:24.015Z"
   },
   {
    "duration": 32,
    "start_time": "2024-01-18T09:41:24.057Z"
   },
   {
    "duration": 38,
    "start_time": "2024-01-18T09:41:24.090Z"
   },
   {
    "duration": 285,
    "start_time": "2024-01-18T09:41:24.129Z"
   },
   {
    "duration": 290,
    "start_time": "2024-01-18T09:41:24.415Z"
   },
   {
    "duration": 215,
    "start_time": "2024-01-18T09:41:24.706Z"
   },
   {
    "duration": 386,
    "start_time": "2024-01-18T09:41:24.922Z"
   },
   {
    "duration": 288,
    "start_time": "2024-01-18T09:41:25.310Z"
   },
   {
    "duration": 0,
    "start_time": "2024-01-18T09:41:25.599Z"
   },
   {
    "duration": 0,
    "start_time": "2024-01-18T09:41:25.600Z"
   },
   {
    "duration": 0,
    "start_time": "2024-01-18T09:41:25.601Z"
   },
   {
    "duration": 0,
    "start_time": "2024-01-18T09:41:25.603Z"
   },
   {
    "duration": 0,
    "start_time": "2024-01-18T09:41:25.604Z"
   },
   {
    "duration": 0,
    "start_time": "2024-01-18T09:41:25.605Z"
   },
   {
    "duration": 0,
    "start_time": "2024-01-18T09:41:25.606Z"
   },
   {
    "duration": 0,
    "start_time": "2024-01-18T09:41:25.607Z"
   },
   {
    "duration": 0,
    "start_time": "2024-01-18T09:41:25.608Z"
   },
   {
    "duration": 0,
    "start_time": "2024-01-18T09:41:25.609Z"
   },
   {
    "duration": 0,
    "start_time": "2024-01-18T09:41:25.610Z"
   },
   {
    "duration": 97,
    "start_time": "2024-01-18T09:42:44.660Z"
   },
   {
    "duration": 86,
    "start_time": "2024-01-18T09:47:05.661Z"
   },
   {
    "duration": 10,
    "start_time": "2024-01-18T09:48:21.321Z"
   },
   {
    "duration": 134,
    "start_time": "2024-01-18T09:50:30.699Z"
   },
   {
    "duration": 4,
    "start_time": "2024-01-18T09:54:57.445Z"
   },
   {
    "duration": 4,
    "start_time": "2024-01-18T09:55:39.424Z"
   },
   {
    "duration": 5,
    "start_time": "2024-01-18T09:56:05.017Z"
   },
   {
    "duration": 1235,
    "start_time": "2024-01-18T19:35:15.470Z"
   },
   {
    "duration": 4,
    "start_time": "2024-01-18T19:35:22.236Z"
   },
   {
    "duration": 325,
    "start_time": "2024-01-18T19:35:22.242Z"
   },
   {
    "duration": 11,
    "start_time": "2024-01-18T19:35:22.568Z"
   },
   {
    "duration": 15,
    "start_time": "2024-01-18T19:35:22.580Z"
   },
   {
    "duration": 7,
    "start_time": "2024-01-18T19:35:22.597Z"
   },
   {
    "duration": 11,
    "start_time": "2024-01-18T19:35:22.606Z"
   },
   {
    "duration": 7,
    "start_time": "2024-01-18T19:35:22.618Z"
   },
   {
    "duration": 7,
    "start_time": "2024-01-18T19:35:22.626Z"
   },
   {
    "duration": 33,
    "start_time": "2024-01-18T19:35:22.634Z"
   },
   {
    "duration": 8,
    "start_time": "2024-01-18T19:35:22.668Z"
   },
   {
    "duration": 7,
    "start_time": "2024-01-18T19:35:22.678Z"
   },
   {
    "duration": 11,
    "start_time": "2024-01-18T19:35:22.686Z"
   },
   {
    "duration": 10,
    "start_time": "2024-01-18T19:35:22.698Z"
   },
   {
    "duration": 8,
    "start_time": "2024-01-18T19:35:22.709Z"
   },
   {
    "duration": 18,
    "start_time": "2024-01-18T19:35:22.719Z"
   },
   {
    "duration": 265,
    "start_time": "2024-01-18T19:35:22.752Z"
   },
   {
    "duration": 4,
    "start_time": "2024-01-18T19:35:23.019Z"
   },
   {
    "duration": 318,
    "start_time": "2024-01-18T19:35:23.024Z"
   },
   {
    "duration": 225,
    "start_time": "2024-01-18T19:35:23.343Z"
   },
   {
    "duration": 348,
    "start_time": "2024-01-18T19:35:23.569Z"
   },
   {
    "duration": 216,
    "start_time": "2024-01-18T19:35:23.918Z"
   },
   {
    "duration": 358,
    "start_time": "2024-01-18T19:35:24.136Z"
   },
   {
    "duration": 10,
    "start_time": "2024-01-18T19:35:24.496Z"
   },
   {
    "duration": 176,
    "start_time": "2024-01-18T19:35:24.507Z"
   },
   {
    "duration": 4,
    "start_time": "2024-01-18T19:35:24.684Z"
   },
   {
    "duration": 160,
    "start_time": "2024-01-18T19:35:24.689Z"
   },
   {
    "duration": 9,
    "start_time": "2024-01-18T19:35:24.852Z"
   },
   {
    "duration": 374,
    "start_time": "2024-01-18T19:35:24.867Z"
   },
   {
    "duration": 21,
    "start_time": "2024-01-18T19:35:25.244Z"
   },
   {
    "duration": 8,
    "start_time": "2024-01-18T19:35:25.267Z"
   },
   {
    "duration": 44,
    "start_time": "2024-01-18T19:35:25.276Z"
   },
   {
    "duration": 11,
    "start_time": "2024-01-18T19:35:25.322Z"
   },
   {
    "duration": 436,
    "start_time": "2024-01-18T19:36:56.929Z"
   },
   {
    "duration": 268,
    "start_time": "2024-01-18T19:41:27.520Z"
   },
   {
    "duration": 191,
    "start_time": "2024-01-18T19:41:49.706Z"
   },
   {
    "duration": 157,
    "start_time": "2024-01-18T19:42:29.206Z"
   },
   {
    "duration": 451,
    "start_time": "2024-01-18T20:00:48.862Z"
   },
   {
    "duration": 483,
    "start_time": "2024-01-18T20:02:35.096Z"
   },
   {
    "duration": 388,
    "start_time": "2024-01-18T20:03:43.604Z"
   },
   {
    "duration": 110,
    "start_time": "2024-01-18T20:04:51.274Z"
   },
   {
    "duration": 14,
    "start_time": "2024-01-18T20:10:37.788Z"
   },
   {
    "duration": 27,
    "start_time": "2024-01-18T20:27:14.701Z"
   },
   {
    "duration": 37,
    "start_time": "2024-01-18T20:27:21.160Z"
   },
   {
    "duration": 24,
    "start_time": "2024-01-18T20:28:58.753Z"
   },
   {
    "duration": 16,
    "start_time": "2024-01-18T20:30:41.697Z"
   },
   {
    "duration": 4,
    "start_time": "2024-01-18T20:31:22.716Z"
   },
   {
    "duration": 18,
    "start_time": "2024-01-18T20:31:49.814Z"
   },
   {
    "duration": 5,
    "start_time": "2024-01-18T20:32:27.121Z"
   },
   {
    "duration": 7,
    "start_time": "2024-01-18T20:32:34.252Z"
   },
   {
    "duration": 9,
    "start_time": "2024-01-18T20:36:29.428Z"
   },
   {
    "duration": 1201,
    "start_time": "2024-01-18T20:46:43.225Z"
   },
   {
    "duration": 264,
    "start_time": "2024-01-18T20:46:44.428Z"
   },
   {
    "duration": 15,
    "start_time": "2024-01-18T20:46:44.694Z"
   },
   {
    "duration": 54,
    "start_time": "2024-01-18T20:46:44.712Z"
   },
   {
    "duration": 13,
    "start_time": "2024-01-18T20:46:44.771Z"
   },
   {
    "duration": 12,
    "start_time": "2024-01-18T20:46:44.788Z"
   },
   {
    "duration": 8,
    "start_time": "2024-01-18T20:46:44.801Z"
   },
   {
    "duration": 52,
    "start_time": "2024-01-18T20:46:44.811Z"
   },
   {
    "duration": 13,
    "start_time": "2024-01-18T20:46:44.869Z"
   },
   {
    "duration": 9,
    "start_time": "2024-01-18T20:46:44.885Z"
   },
   {
    "duration": 8,
    "start_time": "2024-01-18T20:46:44.895Z"
   },
   {
    "duration": 12,
    "start_time": "2024-01-18T20:46:44.904Z"
   },
   {
    "duration": 53,
    "start_time": "2024-01-18T20:46:44.917Z"
   },
   {
    "duration": 12,
    "start_time": "2024-01-18T20:46:44.971Z"
   },
   {
    "duration": 9,
    "start_time": "2024-01-18T20:46:44.987Z"
   },
   {
    "duration": 347,
    "start_time": "2024-01-18T20:46:44.997Z"
   },
   {
    "duration": 8,
    "start_time": "2024-01-18T20:46:45.354Z"
   },
   {
    "duration": 359,
    "start_time": "2024-01-18T20:46:45.365Z"
   },
   {
    "duration": 264,
    "start_time": "2024-01-18T20:46:45.725Z"
   },
   {
    "duration": 332,
    "start_time": "2024-01-18T20:46:45.991Z"
   },
   {
    "duration": 252,
    "start_time": "2024-01-18T20:46:46.324Z"
   },
   {
    "duration": 353,
    "start_time": "2024-01-18T20:46:46.580Z"
   },
   {
    "duration": 29,
    "start_time": "2024-01-18T20:46:46.935Z"
   },
   {
    "duration": 161,
    "start_time": "2024-01-18T20:46:46.967Z"
   },
   {
    "duration": 5,
    "start_time": "2024-01-18T20:46:47.130Z"
   },
   {
    "duration": 181,
    "start_time": "2024-01-18T20:46:47.137Z"
   },
   {
    "duration": 4,
    "start_time": "2024-01-18T20:46:47.320Z"
   },
   {
    "duration": 419,
    "start_time": "2024-01-18T20:46:47.327Z"
   },
   {
    "duration": 16,
    "start_time": "2024-01-18T20:46:47.751Z"
   },
   {
    "duration": 19,
    "start_time": "2024-01-18T20:46:47.772Z"
   },
   {
    "duration": 32,
    "start_time": "2024-01-18T20:46:47.792Z"
   },
   {
    "duration": 14,
    "start_time": "2024-01-18T20:46:47.825Z"
   },
   {
    "duration": 470,
    "start_time": "2024-01-18T20:48:50.837Z"
   },
   {
    "duration": 1297,
    "start_time": "2024-01-19T05:01:52.807Z"
   },
   {
    "duration": 311,
    "start_time": "2024-01-19T05:01:54.106Z"
   },
   {
    "duration": 11,
    "start_time": "2024-01-19T05:01:54.418Z"
   },
   {
    "duration": 10,
    "start_time": "2024-01-19T05:01:54.431Z"
   },
   {
    "duration": 9,
    "start_time": "2024-01-19T05:01:54.442Z"
   },
   {
    "duration": 10,
    "start_time": "2024-01-19T05:01:54.453Z"
   },
   {
    "duration": 8,
    "start_time": "2024-01-19T05:01:54.464Z"
   },
   {
    "duration": 8,
    "start_time": "2024-01-19T05:01:54.473Z"
   },
   {
    "duration": 6,
    "start_time": "2024-01-19T05:01:54.482Z"
   },
   {
    "duration": 9,
    "start_time": "2024-01-19T05:01:54.491Z"
   },
   {
    "duration": 8,
    "start_time": "2024-01-19T05:01:54.501Z"
   },
   {
    "duration": 12,
    "start_time": "2024-01-19T05:01:54.511Z"
   },
   {
    "duration": 48,
    "start_time": "2024-01-19T05:01:54.525Z"
   },
   {
    "duration": 12,
    "start_time": "2024-01-19T05:01:54.575Z"
   },
   {
    "duration": 9,
    "start_time": "2024-01-19T05:01:54.589Z"
   },
   {
    "duration": 269,
    "start_time": "2024-01-19T05:01:54.599Z"
   },
   {
    "duration": 5,
    "start_time": "2024-01-19T05:01:54.870Z"
   },
   {
    "duration": 303,
    "start_time": "2024-01-19T05:01:54.877Z"
   },
   {
    "duration": 211,
    "start_time": "2024-01-19T05:01:55.181Z"
   },
   {
    "duration": 413,
    "start_time": "2024-01-19T05:01:55.394Z"
   },
   {
    "duration": 215,
    "start_time": "2024-01-19T05:01:55.809Z"
   },
   {
    "duration": 372,
    "start_time": "2024-01-19T05:01:56.026Z"
   },
   {
    "duration": 11,
    "start_time": "2024-01-19T05:01:56.399Z"
   },
   {
    "duration": 149,
    "start_time": "2024-01-19T05:01:56.411Z"
   },
   {
    "duration": 4,
    "start_time": "2024-01-19T05:01:56.565Z"
   },
   {
    "duration": 177,
    "start_time": "2024-01-19T05:01:56.571Z"
   },
   {
    "duration": 5,
    "start_time": "2024-01-19T05:01:56.750Z"
   },
   {
    "duration": 353,
    "start_time": "2024-01-19T05:01:56.767Z"
   },
   {
    "duration": 9,
    "start_time": "2024-01-19T05:01:57.122Z"
   },
   {
    "duration": 8,
    "start_time": "2024-01-19T05:01:57.132Z"
   },
   {
    "duration": 50,
    "start_time": "2024-01-19T05:01:57.141Z"
   },
   {
    "duration": 12,
    "start_time": "2024-01-19T05:01:57.193Z"
   },
   {
    "duration": 160,
    "start_time": "2024-01-19T05:08:18.153Z"
   },
   {
    "duration": 57,
    "start_time": "2024-01-19T05:50:51.128Z"
   },
   {
    "duration": 1327,
    "start_time": "2024-01-19T05:51:16.015Z"
   },
   {
    "duration": 302,
    "start_time": "2024-01-19T05:51:17.344Z"
   },
   {
    "duration": 11,
    "start_time": "2024-01-19T05:51:17.647Z"
   },
   {
    "duration": 9,
    "start_time": "2024-01-19T05:51:17.660Z"
   },
   {
    "duration": 11,
    "start_time": "2024-01-19T05:51:17.671Z"
   },
   {
    "duration": 17,
    "start_time": "2024-01-19T05:51:17.683Z"
   },
   {
    "duration": 16,
    "start_time": "2024-01-19T05:51:17.701Z"
   },
   {
    "duration": 20,
    "start_time": "2024-01-19T05:51:17.718Z"
   },
   {
    "duration": 7,
    "start_time": "2024-01-19T05:51:17.739Z"
   },
   {
    "duration": 16,
    "start_time": "2024-01-19T05:51:17.749Z"
   },
   {
    "duration": 13,
    "start_time": "2024-01-19T05:51:17.766Z"
   },
   {
    "duration": 22,
    "start_time": "2024-01-19T05:51:17.780Z"
   },
   {
    "duration": 11,
    "start_time": "2024-01-19T05:51:17.804Z"
   },
   {
    "duration": 17,
    "start_time": "2024-01-19T05:51:17.816Z"
   },
   {
    "duration": 7,
    "start_time": "2024-01-19T05:51:17.834Z"
   },
   {
    "duration": 311,
    "start_time": "2024-01-19T05:51:17.842Z"
   },
   {
    "duration": 5,
    "start_time": "2024-01-19T05:51:18.154Z"
   },
   {
    "duration": 339,
    "start_time": "2024-01-19T05:51:18.161Z"
   },
   {
    "duration": 240,
    "start_time": "2024-01-19T05:51:18.501Z"
   },
   {
    "duration": 412,
    "start_time": "2024-01-19T05:51:18.742Z"
   },
   {
    "duration": 231,
    "start_time": "2024-01-19T05:51:19.156Z"
   },
   {
    "duration": 370,
    "start_time": "2024-01-19T05:51:19.389Z"
   },
   {
    "duration": 11,
    "start_time": "2024-01-19T05:51:19.760Z"
   },
   {
    "duration": 177,
    "start_time": "2024-01-19T05:51:19.782Z"
   },
   {
    "duration": 4,
    "start_time": "2024-01-19T05:51:19.961Z"
   },
   {
    "duration": 181,
    "start_time": "2024-01-19T05:51:19.966Z"
   },
   {
    "duration": 5,
    "start_time": "2024-01-19T05:51:20.149Z"
   },
   {
    "duration": 389,
    "start_time": "2024-01-19T05:51:20.157Z"
   },
   {
    "duration": 11,
    "start_time": "2024-01-19T05:51:20.548Z"
   },
   {
    "duration": 21,
    "start_time": "2024-01-19T05:51:20.561Z"
   },
   {
    "duration": 30,
    "start_time": "2024-01-19T05:51:20.584Z"
   },
   {
    "duration": 14,
    "start_time": "2024-01-19T05:51:20.615Z"
   },
   {
    "duration": 10,
    "start_time": "2024-01-19T05:52:07.569Z"
   },
   {
    "duration": 1100,
    "start_time": "2024-01-19T06:16:07.029Z"
   },
   {
    "duration": 238,
    "start_time": "2024-01-19T06:16:08.131Z"
   },
   {
    "duration": 16,
    "start_time": "2024-01-19T06:16:08.371Z"
   },
   {
    "duration": 11,
    "start_time": "2024-01-19T06:16:08.389Z"
   },
   {
    "duration": 11,
    "start_time": "2024-01-19T06:16:08.401Z"
   },
   {
    "duration": 10,
    "start_time": "2024-01-19T06:16:08.413Z"
   },
   {
    "duration": 14,
    "start_time": "2024-01-19T06:16:08.425Z"
   },
   {
    "duration": 29,
    "start_time": "2024-01-19T06:16:08.440Z"
   },
   {
    "duration": 7,
    "start_time": "2024-01-19T06:16:08.471Z"
   },
   {
    "duration": 9,
    "start_time": "2024-01-19T06:16:08.481Z"
   },
   {
    "duration": 8,
    "start_time": "2024-01-19T06:16:08.491Z"
   },
   {
    "duration": 11,
    "start_time": "2024-01-19T06:16:08.500Z"
   },
   {
    "duration": 10,
    "start_time": "2024-01-19T06:16:08.513Z"
   },
   {
    "duration": 45,
    "start_time": "2024-01-19T06:16:08.525Z"
   },
   {
    "duration": 12,
    "start_time": "2024-01-19T06:16:08.572Z"
   },
   {
    "duration": 310,
    "start_time": "2024-01-19T06:16:08.586Z"
   },
   {
    "duration": 7,
    "start_time": "2024-01-19T06:16:08.897Z"
   },
   {
    "duration": 320,
    "start_time": "2024-01-19T06:16:08.905Z"
   },
   {
    "duration": 223,
    "start_time": "2024-01-19T06:16:09.226Z"
   },
   {
    "duration": 344,
    "start_time": "2024-01-19T06:16:09.450Z"
   },
   {
    "duration": 223,
    "start_time": "2024-01-19T06:16:09.796Z"
   },
   {
    "duration": 379,
    "start_time": "2024-01-19T06:16:10.021Z"
   },
   {
    "duration": 13,
    "start_time": "2024-01-19T06:16:10.403Z"
   },
   {
    "duration": 188,
    "start_time": "2024-01-19T06:16:10.417Z"
   },
   {
    "duration": 4,
    "start_time": "2024-01-19T06:16:10.606Z"
   },
   {
    "duration": 170,
    "start_time": "2024-01-19T06:16:10.612Z"
   },
   {
    "duration": 5,
    "start_time": "2024-01-19T06:16:10.783Z"
   },
   {
    "duration": 371,
    "start_time": "2024-01-19T06:16:10.791Z"
   },
   {
    "duration": 9,
    "start_time": "2024-01-19T06:16:11.165Z"
   },
   {
    "duration": 18,
    "start_time": "2024-01-19T06:16:11.175Z"
   },
   {
    "duration": 32,
    "start_time": "2024-01-19T06:16:11.194Z"
   },
   {
    "duration": 13,
    "start_time": "2024-01-19T06:16:11.227Z"
   }
  ],
  "kernelspec": {
   "display_name": "Python 3 (ipykernel)",
   "language": "python",
   "name": "python3"
  },
  "language_info": {
   "codemirror_mode": {
    "name": "ipython",
    "version": 3
   },
   "file_extension": ".py",
   "mimetype": "text/x-python",
   "name": "python",
   "nbconvert_exporter": "python",
   "pygments_lexer": "ipython3",
   "version": "3.9.16"
  },
  "toc": {
   "base_numbering": 1,
   "nav_menu": {},
   "number_sections": true,
   "sideBar": true,
   "skip_h1_title": true,
   "title_cell": "Table of Contents",
   "title_sidebar": "Contents",
   "toc_cell": true,
   "toc_position": {
    "height": "calc(100% - 180px)",
    "left": "10px",
    "top": "150px",
    "width": "310.398px"
   },
   "toc_section_display": true,
   "toc_window_display": true
  }
 },
 "nbformat": 4,
 "nbformat_minor": 5
}
